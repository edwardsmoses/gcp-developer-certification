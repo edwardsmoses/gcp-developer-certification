{
 "cells": [
  {
   "cell_type": "markdown",
   "metadata": {
    "id": "mPt5BHTwy_0F"
   },
   "source": [
    "# Preprocessing Data with Advanced Example using TensorFlow Transform\n",
    "\n",
    "## Learning objectives\n",
    "\n",
    "1. Create a tf.Transform `preprocessing_fn`.\n",
    "2. Transform the data.\n",
    "3. Create an input function for training.\n",
    "4. Build the model.\n",
    "5. Train and Evaluate the model.\n",
    "6. Export the model.\n",
    "\n",
    "## Introduction\n",
    "\n",
    "***The Feature Engineering Component of TensorFlow Extended (TFX)***\n",
    "\n",
    "This notebook provides a somewhat more advanced example of how <a target='_blank' href='https://www.tensorflow.org/tfx/transform/'>TensorFlow Transform</a> (`tf.Transform`) can be used to preprocess data using exactly the same code for both training a model and serving inferences in production.\n",
    "\n",
    "TensorFlow Transform is a library for preprocessing input data for TensorFlow, including creating features that require a full pass over the training dataset.  For example, using TensorFlow Transform you could:\n",
    "\n",
    "* Normalize an input value by using the mean and standard deviation\n",
    "* Convert strings to integers by generating a vocabulary over all of the input values\n",
    "* Convert floats to integers by assigning them to buckets, based on the observed data distribution\n",
    "\n",
    "TensorFlow has built-in support for manipulations on a single example or a batch of examples. `tf.Transform` extends these capabilities to support full passes over the entire training dataset.\n",
    "\n",
    "The output of `tf.Transform` is exported as a TensorFlow graph which you can use for both training and serving. Using the same graph for both training and serving can prevent skew, since the same transformations are applied in both stages.\n"
   ]
  },
  {
   "cell_type": "markdown",
   "metadata": {
    "id": "_tQUubddMvnP"
   },
   "source": [
    "## What you're doing in this notebook\n",
    "\n",
    "In this notebook you'll be processing a <a target='_blank' href='https://archive.ics.uci.edu/ml/machine-learning-databases/adult'>widely used dataset containing census data</a>, and training a model to do classification.  Along the way you'll be transforming the data using `tf.Transform`.\n"
   ]
  },
  {
   "cell_type": "markdown",
   "metadata": {
    "id": "OeonII4omTr1"
   },
   "source": [
    "### Install TensorFlow Transform\n"
   ]
  },
  {
   "cell_type": "code",
   "execution_count": 1,
   "metadata": {
    "colab": {
     "base_uri": "https://localhost:8080/",
     "height": 1000
    },
    "id": "9Ak6XDO5mT3m",
    "outputId": "dc6e0fdb-ca03-4882-80b6-e871e95da43f"
   },
   "outputs": [
    {
     "name": "stdout",
     "output_type": "stream",
     "text": [
      "Requirement already satisfied: tensorflow-transform in /opt/conda/lib/python3.7/site-packages (1.8.0)\n",
      "Requirement already satisfied: pydot<2,>=1.2 in /opt/conda/lib/python3.7/site-packages (from tensorflow-transform) (1.4.2)\n",
      "Requirement already satisfied: numpy<2,>=1.16 in /opt/conda/lib/python3.7/site-packages (from tensorflow-transform) (1.19.5)\n",
      "Requirement already satisfied: tensorflow-metadata<1.9.0,>=1.8.0 in /opt/conda/lib/python3.7/site-packages (from tensorflow-transform) (1.8.0)\n",
      "Requirement already satisfied: tfx-bsl<1.9.0,>=1.8.0 in /opt/conda/lib/python3.7/site-packages (from tensorflow-transform) (1.8.0)\n",
      "Collecting pyarrow<6,>=1\n",
      "  Downloading pyarrow-5.0.0-cp37-cp37m-manylinux2014_x86_64.whl (23.6 MB)\n",
      "\u001b[2K     \u001b[90m━━━━━━━━━━━━━━━━━━━━━━━━━━━━━━━━━━━━━━━━\u001b[0m \u001b[32m23.6/23.6 MB\u001b[0m \u001b[31m53.7 MB/s\u001b[0m eta \u001b[36m0:00:00\u001b[0m00:01\u001b[0m00:01\u001b[0m\n",
      "\u001b[?25hRequirement already satisfied: protobuf<4,>=3.13 in /opt/conda/lib/python3.7/site-packages (from tensorflow-transform) (3.20.1)\n",
      "Requirement already satisfied: apache-beam[gcp]<3,>=2.38 in /opt/conda/lib/python3.7/site-packages (from tensorflow-transform) (2.39.0)\n",
      "Collecting tensorflow!=2.0.*,!=2.1.*,!=2.2.*,!=2.3.*,!=2.4.*,!=2.5.*,!=2.6.*,!=2.7.*,<2.9,>=1.15.5\n",
      "  Downloading tensorflow-2.8.2-cp37-cp37m-manylinux2010_x86_64.whl (497.9 MB)\n",
      "\u001b[2K     \u001b[90m━━━━━━━━━━━━━━━━━━━━━━━━━━━━━━━━━━━━━━━\u001b[0m \u001b[32m497.9/497.9 MB\u001b[0m \u001b[31m1.9 MB/s\u001b[0m eta \u001b[36m0:00:00\u001b[0m00:01\u001b[0m00:01\u001b[0m\n",
      "\u001b[?25hRequirement already satisfied: absl-py<2.0.0,>=0.9 in /opt/conda/lib/python3.7/site-packages (from tensorflow-transform) (0.15.0)\n",
      "Requirement already satisfied: six in /opt/conda/lib/python3.7/site-packages (from absl-py<2.0.0,>=0.9->tensorflow-transform) (1.15.0)\n",
      "Requirement already satisfied: pytz>=2018.3 in /opt/conda/lib/python3.7/site-packages (from apache-beam[gcp]<3,>=2.38->tensorflow-transform) (2022.1)\n",
      "Requirement already satisfied: hdfs<3.0.0,>=2.1.0 in /opt/conda/lib/python3.7/site-packages (from apache-beam[gcp]<3,>=2.38->tensorflow-transform) (2.7.0)\n",
      "Collecting dill<0.3.2,>=0.3.1.1\n",
      "  Downloading dill-0.3.1.1.tar.gz (151 kB)\n",
      "\u001b[2K     \u001b[90m━━━━━━━━━━━━━━━━━━━━━━━━━━━━━━━━━━━━━\u001b[0m \u001b[32m152.0/152.0 kB\u001b[0m \u001b[31m267.1 kB/s\u001b[0m eta \u001b[36m0:00:00\u001b[0ma \u001b[36m0:00:01\u001b[0m\n",
      "\u001b[?25h  Preparing metadata (setup.py) ... \u001b[?25ldone\n",
      "\u001b[?25hRequirement already satisfied: grpcio<2,>=1.29.0 in /opt/conda/lib/python3.7/site-packages (from apache-beam[gcp]<3,>=2.38->tensorflow-transform) (1.46.3)\n",
      "Requirement already satisfied: crcmod<2.0,>=1.7 in /opt/conda/lib/python3.7/site-packages (from apache-beam[gcp]<3,>=2.38->tensorflow-transform) (1.7)\n",
      "Requirement already satisfied: orjson<4.0 in /opt/conda/lib/python3.7/site-packages (from apache-beam[gcp]<3,>=2.38->tensorflow-transform) (3.6.8)\n",
      "Requirement already satisfied: pymongo<4.0.0,>=3.8.0 in /opt/conda/lib/python3.7/site-packages (from apache-beam[gcp]<3,>=2.38->tensorflow-transform) (3.12.3)\n",
      "Requirement already satisfied: cloudpickle<3,>=2.0.0 in /opt/conda/lib/python3.7/site-packages (from apache-beam[gcp]<3,>=2.38->tensorflow-transform) (2.1.0)\n",
      "Requirement already satisfied: fastavro<2,>=0.23.6 in /opt/conda/lib/python3.7/site-packages (from apache-beam[gcp]<3,>=2.38->tensorflow-transform) (1.4.12)\n",
      "Collecting httplib2<0.20.0,>=0.8\n",
      "  Downloading httplib2-0.19.1-py3-none-any.whl (95 kB)\n",
      "\u001b[2K     \u001b[90m━━━━━━━━━━━━━━━━━━━━━━━━━━━━━━━━━━━━━━━\u001b[0m \u001b[32m95.4/95.4 kB\u001b[0m \u001b[31m177.0 kB/s\u001b[0m eta \u001b[36m0:00:00\u001b[0ma \u001b[36m0:00:01\u001b[0m\n",
      "\u001b[?25hRequirement already satisfied: requests<3.0.0,>=2.24.0 in /opt/conda/lib/python3.7/site-packages (from apache-beam[gcp]<3,>=2.38->tensorflow-transform) (2.27.1)\n",
      "Requirement already satisfied: typing-extensions>=3.7.0 in /opt/conda/lib/python3.7/site-packages (from apache-beam[gcp]<3,>=2.38->tensorflow-transform) (3.10.0.2)\n",
      "Requirement already satisfied: python-dateutil<3,>=2.8.0 in /opt/conda/lib/python3.7/site-packages (from apache-beam[gcp]<3,>=2.38->tensorflow-transform) (2.8.2)\n",
      "Requirement already satisfied: proto-plus<2,>=1.7.1 in /opt/conda/lib/python3.7/site-packages (from apache-beam[gcp]<3,>=2.38->tensorflow-transform) (1.20.4)\n",
      "Collecting google-cloud-core<2,>=0.28.1\n",
      "  Downloading google_cloud_core-1.7.2-py2.py3-none-any.whl (28 kB)\n",
      "Collecting google-cloud-videointelligence<2,>=1.8.0\n",
      "  Downloading google_cloud_videointelligence-1.16.2-py2.py3-none-any.whl (183 kB)\n",
      "\u001b[2K     \u001b[90m━━━━━━━━━━━━━━━━━━━━━━━━━━━━━━━━━━━━━━\u001b[0m \u001b[32m183.9/183.9 kB\u001b[0m \u001b[31m28.0 MB/s\u001b[0m eta \u001b[36m0:00:00\u001b[0m\n",
      "\u001b[?25hCollecting google-cloud-datastore<2,>=1.8.0\n",
      "  Downloading google_cloud_datastore-1.15.4-py2.py3-none-any.whl (134 kB)\n",
      "\u001b[2K     \u001b[90m━━━━━━━━━━━━━━━━━━━━━━━━━━━━━━━━━━━━━━\u001b[0m \u001b[32m134.2/134.2 kB\u001b[0m \u001b[31m22.8 MB/s\u001b[0m eta \u001b[36m0:00:00\u001b[0m\n",
      "\u001b[?25hRequirement already satisfied: google-cloud-recommendations-ai<=0.2.0,>=0.1.0 in /opt/conda/lib/python3.7/site-packages (from apache-beam[gcp]<3,>=2.38->tensorflow-transform) (0.2.0)\n",
      "Collecting google-cloud-language<2,>=1.3.0\n",
      "  Downloading google_cloud_language-1.3.1-py2.py3-none-any.whl (83 kB)\n",
      "\u001b[2K     \u001b[90m━━━━━━━━━━━━━━━━━━━━━━━━━━━━━━━━━━━━━━━━\u001b[0m \u001b[32m83.6/83.6 kB\u001b[0m \u001b[31m14.0 MB/s\u001b[0m eta \u001b[36m0:00:00\u001b[0m\n",
      "\u001b[?25hRequirement already satisfied: google-cloud-dlp<4,>=3.0.0 in /opt/conda/lib/python3.7/site-packages (from apache-beam[gcp]<3,>=2.38->tensorflow-transform) (3.7.0)\n",
      "Collecting google-cloud-bigtable<2,>=0.31.1\n",
      "  Downloading google_cloud_bigtable-1.7.1-py2.py3-none-any.whl (267 kB)\n",
      "\u001b[2K     \u001b[90m━━━━━━━━━━━━━━━━━━━━━━━━━━━━━━━━━━━━━━\u001b[0m \u001b[32m267.7/267.7 kB\u001b[0m \u001b[31m36.4 MB/s\u001b[0m eta \u001b[36m0:00:00\u001b[0m\n",
      "\u001b[?25hRequirement already satisfied: google-auth-httplib2<0.2.0,>=0.1.0 in /opt/conda/lib/python3.7/site-packages (from apache-beam[gcp]<3,>=2.38->tensorflow-transform) (0.1.0)\n",
      "Requirement already satisfied: google-cloud-bigquery<3,>=1.6.0 in /opt/conda/lib/python3.7/site-packages (from apache-beam[gcp]<3,>=2.38->tensorflow-transform) (2.34.3)\n",
      "Collecting google-cloud-spanner<2,>=1.13.0\n",
      "  Downloading google_cloud_spanner-1.19.2-py2.py3-none-any.whl (255 kB)\n",
      "\u001b[2K     \u001b[90m━━━━━━━━━━━━━━━━━━━━━━━━━━━━━━━━━━━━━━\u001b[0m \u001b[32m255.5/255.5 kB\u001b[0m \u001b[31m34.4 MB/s\u001b[0m eta \u001b[36m0:00:00\u001b[0m\n",
      "\u001b[?25hRequirement already satisfied: google-cloud-bigquery-storage>=2.6.3 in /opt/conda/lib/python3.7/site-packages (from apache-beam[gcp]<3,>=2.38->tensorflow-transform) (2.13.1)\n",
      "Requirement already satisfied: google-apitools<0.5.32,>=0.5.31 in /opt/conda/lib/python3.7/site-packages (from apache-beam[gcp]<3,>=2.38->tensorflow-transform) (0.5.31)\n",
      "Requirement already satisfied: cachetools<5,>=3.1.0 in /opt/conda/lib/python3.7/site-packages (from apache-beam[gcp]<3,>=2.38->tensorflow-transform) (4.2.4)\n",
      "Requirement already satisfied: google-auth<3,>=1.18.0 in /opt/conda/lib/python3.7/site-packages (from apache-beam[gcp]<3,>=2.38->tensorflow-transform) (1.35.0)\n",
      "Requirement already satisfied: google-cloud-pubsublite<2,>=1.2.0 in /opt/conda/lib/python3.7/site-packages (from apache-beam[gcp]<3,>=2.38->tensorflow-transform) (1.4.2)\n",
      "Requirement already satisfied: google-cloud-pubsub<3,>=2.1.0 in /opt/conda/lib/python3.7/site-packages (from apache-beam[gcp]<3,>=2.38->tensorflow-transform) (2.12.1)\n",
      "Requirement already satisfied: grpcio-gcp<1,>=0.2.2 in /opt/conda/lib/python3.7/site-packages (from apache-beam[gcp]<3,>=2.38->tensorflow-transform) (0.2.2)\n",
      "Collecting google-cloud-vision<2,>=0.38.0\n",
      "  Downloading google_cloud_vision-1.0.1-py2.py3-none-any.whl (435 kB)\n",
      "\u001b[2K     \u001b[90m━━━━━━━━━━━━━━━━━━━━━━━━━━━━━━━━━━━━━━\u001b[0m \u001b[32m435.1/435.1 kB\u001b[0m \u001b[31m44.4 MB/s\u001b[0m eta \u001b[36m0:00:00\u001b[0m\n",
      "\u001b[?25hRequirement already satisfied: pyparsing>=2.1.4 in /opt/conda/lib/python3.7/site-packages (from pydot<2,>=1.2->tensorflow-transform) (3.0.9)\n",
      "Requirement already satisfied: flatbuffers>=1.12 in /opt/conda/lib/python3.7/site-packages (from tensorflow!=2.0.*,!=2.1.*,!=2.2.*,!=2.3.*,!=2.4.*,!=2.5.*,!=2.6.*,!=2.7.*,<2.9,>=1.15.5->tensorflow-transform) (1.12)\n",
      "Requirement already satisfied: astunparse>=1.6.0 in /opt/conda/lib/python3.7/site-packages (from tensorflow!=2.0.*,!=2.1.*,!=2.2.*,!=2.3.*,!=2.4.*,!=2.5.*,!=2.6.*,!=2.7.*,<2.9,>=1.15.5->tensorflow-transform) (1.6.3)\n",
      "Collecting tensorflow-io-gcs-filesystem>=0.23.1\n",
      "  Downloading tensorflow_io_gcs_filesystem-0.26.0-cp37-cp37m-manylinux_2_12_x86_64.manylinux2010_x86_64.whl (2.4 MB)\n",
      "\u001b[2K     \u001b[90m━━━━━━━━━━━━━━━━━━━━━━━━━━━━━━━━━━━━━━━━\u001b[0m \u001b[32m2.4/2.4 MB\u001b[0m \u001b[31m80.1 MB/s\u001b[0m eta \u001b[36m0:00:00\u001b[0m\n",
      "\u001b[?25hRequirement already satisfied: google-pasta>=0.1.1 in /opt/conda/lib/python3.7/site-packages (from tensorflow!=2.0.*,!=2.1.*,!=2.2.*,!=2.3.*,!=2.4.*,!=2.5.*,!=2.6.*,!=2.7.*,<2.9,>=1.15.5->tensorflow-transform) (0.2.0)\n",
      "Collecting keras<2.9,>=2.8.0rc0\n",
      "  Downloading keras-2.8.0-py2.py3-none-any.whl (1.4 MB)\n",
      "\u001b[2K     \u001b[90m━━━━━━━━━━━━━━━━━━━━━━━━━━━━━━━━━━━━━━━━\u001b[0m \u001b[32m1.4/1.4 MB\u001b[0m \u001b[31m76.2 MB/s\u001b[0m eta \u001b[36m0:00:00\u001b[0m\n",
      "\u001b[?25hCollecting tensorboard<2.9,>=2.8\n",
      "  Downloading tensorboard-2.8.0-py3-none-any.whl (5.8 MB)\n",
      "\u001b[2K     \u001b[90m━━━━━━━━━━━━━━━━━━━━━━━━━━━━━━━━━━━━━━━━\u001b[0m \u001b[32m5.8/5.8 MB\u001b[0m \u001b[31m97.1 MB/s\u001b[0m eta \u001b[36m0:00:00\u001b[0mta \u001b[36m0:00:01\u001b[0m\n",
      "\u001b[?25hRequirement already satisfied: setuptools in /opt/conda/lib/python3.7/site-packages (from tensorflow!=2.0.*,!=2.1.*,!=2.2.*,!=2.3.*,!=2.4.*,!=2.5.*,!=2.6.*,!=2.7.*,<2.9,>=1.15.5->tensorflow-transform) (59.8.0)\n",
      "Collecting libclang>=9.0.1\n",
      "  Downloading libclang-14.0.1-py2.py3-none-manylinux1_x86_64.whl (14.5 MB)\n",
      "\u001b[2K     \u001b[90m━━━━━━━━━━━━━━━━━━━━━━━━━━━━━━━━━━━━━━━━\u001b[0m \u001b[32m14.5/14.5 MB\u001b[0m \u001b[31m78.4 MB/s\u001b[0m eta \u001b[36m0:00:00\u001b[0m00:01\u001b[0m00:01\u001b[0m\n",
      "\u001b[?25hCollecting numpy<2,>=1.16\n",
      "  Downloading numpy-1.21.6-cp37-cp37m-manylinux_2_12_x86_64.manylinux2010_x86_64.whl (15.7 MB)\n",
      "\u001b[2K     \u001b[90m━━━━━━━━━━━━━━━━━━━━━━━━━━━━━━━━━━━━━━━━\u001b[0m \u001b[32m15.7/15.7 MB\u001b[0m \u001b[31m75.7 MB/s\u001b[0m eta \u001b[36m0:00:00\u001b[0m00:01\u001b[0m00:01\u001b[0m\n",
      "\u001b[?25hRequirement already satisfied: wrapt>=1.11.0 in /opt/conda/lib/python3.7/site-packages (from tensorflow!=2.0.*,!=2.1.*,!=2.2.*,!=2.3.*,!=2.4.*,!=2.5.*,!=2.6.*,!=2.7.*,<2.9,>=1.15.5->tensorflow-transform) (1.12.1)\n",
      "Requirement already satisfied: h5py>=2.9.0 in /opt/conda/lib/python3.7/site-packages (from tensorflow!=2.0.*,!=2.1.*,!=2.2.*,!=2.3.*,!=2.4.*,!=2.5.*,!=2.6.*,!=2.7.*,<2.9,>=1.15.5->tensorflow-transform) (3.1.0)\n",
      "Requirement already satisfied: keras-preprocessing>=1.1.1 in /opt/conda/lib/python3.7/site-packages (from tensorflow!=2.0.*,!=2.1.*,!=2.2.*,!=2.3.*,!=2.4.*,!=2.5.*,!=2.6.*,!=2.7.*,<2.9,>=1.15.5->tensorflow-transform) (1.1.2)\n",
      "Requirement already satisfied: gast>=0.2.1 in /opt/conda/lib/python3.7/site-packages (from tensorflow!=2.0.*,!=2.1.*,!=2.2.*,!=2.3.*,!=2.4.*,!=2.5.*,!=2.6.*,!=2.7.*,<2.9,>=1.15.5->tensorflow-transform) (0.4.0)\n",
      "Requirement already satisfied: termcolor>=1.1.0 in /opt/conda/lib/python3.7/site-packages (from tensorflow!=2.0.*,!=2.1.*,!=2.2.*,!=2.3.*,!=2.4.*,!=2.5.*,!=2.6.*,!=2.7.*,<2.9,>=1.15.5->tensorflow-transform) (1.1.0)\n",
      "Collecting protobuf<4,>=3.13\n",
      "  Downloading protobuf-3.19.4-cp37-cp37m-manylinux_2_17_x86_64.manylinux2014_x86_64.whl (1.1 MB)\n",
      "\u001b[2K     \u001b[90m━━━━━━━━━━━━━━━━━━━━━━━━━━━━━━━━━━━━━━━━\u001b[0m \u001b[32m1.1/1.1 MB\u001b[0m \u001b[31m70.3 MB/s\u001b[0m eta \u001b[36m0:00:00\u001b[0m\n",
      "\u001b[?25hRequirement already satisfied: opt-einsum>=2.3.2 in /opt/conda/lib/python3.7/site-packages (from tensorflow!=2.0.*,!=2.1.*,!=2.2.*,!=2.3.*,!=2.4.*,!=2.5.*,!=2.6.*,!=2.7.*,<2.9,>=1.15.5->tensorflow-transform) (3.3.0)\n",
      "Collecting tensorflow-estimator<2.9,>=2.8\n",
      "  Downloading tensorflow_estimator-2.8.0-py2.py3-none-any.whl (462 kB)\n",
      "\u001b[2K     \u001b[90m━━━━━━━━━━━━━━━━━━━━━━━━━━━━━━━━━━━━━━\u001b[0m \u001b[32m462.3/462.3 kB\u001b[0m \u001b[31m47.6 MB/s\u001b[0m eta \u001b[36m0:00:00\u001b[0m\n",
      "\u001b[?25hRequirement already satisfied: googleapis-common-protos<2,>=1.52.0 in /opt/conda/lib/python3.7/site-packages (from tensorflow-metadata<1.9.0,>=1.8.0->tensorflow-transform) (1.56.1)\n",
      "Requirement already satisfied: tensorflow-serving-api!=2.0.*,!=2.1.*,!=2.2.*,!=2.3.*,!=2.4.*,!=2.5.*,!=2.6.*,!=2.7.*,<3,>=1.15 in /opt/conda/lib/python3.7/site-packages (from tfx-bsl<1.9.0,>=1.8.0->tensorflow-transform) (2.8.0)\n",
      "Collecting google-api-python-client<2,>=1.7.11\n",
      "  Downloading google_api_python_client-1.12.11-py2.py3-none-any.whl (62 kB)\n",
      "\u001b[2K     \u001b[90m━━━━━━━━━━━━━━━━━━━━━━━━━━━━━━━━━━━━━━━━\u001b[0m \u001b[32m62.1/62.1 kB\u001b[0m \u001b[31m10.0 MB/s\u001b[0m eta \u001b[36m0:00:00\u001b[0m\n",
      "\u001b[?25hRequirement already satisfied: pandas<2,>=1.0 in /opt/conda/lib/python3.7/site-packages (from tfx-bsl<1.9.0,>=1.8.0->tensorflow-transform) (1.3.5)\n",
      "Requirement already satisfied: wheel<1.0,>=0.23.0 in /opt/conda/lib/python3.7/site-packages (from astunparse>=1.6.0->tensorflow!=2.0.*,!=2.1.*,!=2.2.*,!=2.3.*,!=2.4.*,!=2.5.*,!=2.6.*,!=2.7.*,<2.9,>=1.15.5->tensorflow-transform) (0.37.1)\n",
      "Collecting uritemplate<4dev,>=3.0.0\n",
      "  Downloading uritemplate-3.0.1-py2.py3-none-any.whl (15 kB)\n",
      "Requirement already satisfied: google-api-core<3dev,>=1.21.0 in /opt/conda/lib/python3.7/site-packages (from google-api-python-client<2,>=1.7.11->tfx-bsl<1.9.0,>=1.8.0->tensorflow-transform) (2.8.0)\n",
      "Requirement already satisfied: fasteners>=0.14 in /opt/conda/lib/python3.7/site-packages (from google-apitools<0.5.32,>=0.5.31->apache-beam[gcp]<3,>=2.38->tensorflow-transform) (0.17.3)\n",
      "Requirement already satisfied: oauth2client>=1.4.12 in /opt/conda/lib/python3.7/site-packages (from google-apitools<0.5.32,>=0.5.31->apache-beam[gcp]<3,>=2.38->tensorflow-transform) (4.1.3)\n",
      "Requirement already satisfied: pyasn1-modules>=0.2.1 in /opt/conda/lib/python3.7/site-packages (from google-auth<3,>=1.18.0->apache-beam[gcp]<3,>=2.38->tensorflow-transform) (0.2.7)\n",
      "Requirement already satisfied: rsa<5,>=3.1.4 in /opt/conda/lib/python3.7/site-packages (from google-auth<3,>=1.18.0->apache-beam[gcp]<3,>=2.38->tensorflow-transform) (4.8)\n",
      "Requirement already satisfied: packaging>=14.3 in /opt/conda/lib/python3.7/site-packages (from google-cloud-bigquery<3,>=1.6.0->apache-beam[gcp]<3,>=2.38->tensorflow-transform) (21.3)\n",
      "Requirement already satisfied: google-resumable-media<3.0dev,>=0.6.0 in /opt/conda/lib/python3.7/site-packages (from google-cloud-bigquery<3,>=1.6.0->apache-beam[gcp]<3,>=2.38->tensorflow-transform) (2.3.3)\n",
      "Requirement already satisfied: grpc-google-iam-v1<0.13dev,>=0.12.3 in /opt/conda/lib/python3.7/site-packages (from google-cloud-bigtable<2,>=0.31.1->apache-beam[gcp]<3,>=2.38->tensorflow-transform) (0.12.4)\n",
      "Collecting google-api-core<3dev,>=1.21.0\n",
      "  Downloading google_api_core-1.31.6-py2.py3-none-any.whl (93 kB)\n",
      "\u001b[2K     \u001b[90m━━━━━━━━━━━━━━━━━━━━━━━━━━━━━━━━━━━━━━━━\u001b[0m \u001b[32m93.3/93.3 kB\u001b[0m \u001b[31m14.5 MB/s\u001b[0m eta \u001b[36m0:00:00\u001b[0m\n",
      "\u001b[?25hRequirement already satisfied: grpcio-status>=1.16.0 in /opt/conda/lib/python3.7/site-packages (from google-cloud-pubsub<3,>=2.1.0->apache-beam[gcp]<3,>=2.38->tensorflow-transform) (1.46.3)\n",
      "Requirement already satisfied: overrides<7.0.0,>=6.0.1 in /opt/conda/lib/python3.7/site-packages (from google-cloud-pubsublite<2,>=1.2.0->apache-beam[gcp]<3,>=2.38->tensorflow-transform) (6.1.0)\n",
      "Requirement already satisfied: cached-property in /opt/conda/lib/python3.7/site-packages (from h5py>=2.9.0->tensorflow!=2.0.*,!=2.1.*,!=2.2.*,!=2.3.*,!=2.4.*,!=2.5.*,!=2.6.*,!=2.7.*,<2.9,>=1.15.5->tensorflow-transform) (1.5.2)\n",
      "Requirement already satisfied: docopt in /opt/conda/lib/python3.7/site-packages (from hdfs<3.0.0,>=2.1.0->apache-beam[gcp]<3,>=2.38->tensorflow-transform) (0.6.2)\n",
      "Collecting pyparsing>=2.1.4\n",
      "  Downloading pyparsing-2.4.7-py2.py3-none-any.whl (67 kB)\n",
      "\u001b[2K     \u001b[90m━━━━━━━━━━━━━━━━━━━━━━━━━━━━━━━━━━━━━━━━\u001b[0m \u001b[32m67.8/67.8 kB\u001b[0m \u001b[31m10.8 MB/s\u001b[0m eta \u001b[36m0:00:00\u001b[0m\n",
      "\u001b[?25hRequirement already satisfied: certifi>=2017.4.17 in /opt/conda/lib/python3.7/site-packages (from requests<3.0.0,>=2.24.0->apache-beam[gcp]<3,>=2.38->tensorflow-transform) (2022.5.18.1)\n",
      "Requirement already satisfied: idna<4,>=2.5 in /opt/conda/lib/python3.7/site-packages (from requests<3.0.0,>=2.24.0->apache-beam[gcp]<3,>=2.38->tensorflow-transform) (3.3)\n",
      "Requirement already satisfied: charset-normalizer~=2.0.0 in /opt/conda/lib/python3.7/site-packages (from requests<3.0.0,>=2.24.0->apache-beam[gcp]<3,>=2.38->tensorflow-transform) (2.0.12)\n",
      "Requirement already satisfied: urllib3<1.27,>=1.21.1 in /opt/conda/lib/python3.7/site-packages (from requests<3.0.0,>=2.24.0->apache-beam[gcp]<3,>=2.38->tensorflow-transform) (1.26.9)\n",
      "Requirement already satisfied: tensorboard-plugin-wit>=1.6.0 in /opt/conda/lib/python3.7/site-packages (from tensorboard<2.9,>=2.8->tensorflow!=2.0.*,!=2.1.*,!=2.2.*,!=2.3.*,!=2.4.*,!=2.5.*,!=2.6.*,!=2.7.*,<2.9,>=1.15.5->tensorflow-transform) (1.8.1)\n",
      "Requirement already satisfied: google-auth-oauthlib<0.5,>=0.4.1 in /opt/conda/lib/python3.7/site-packages (from tensorboard<2.9,>=2.8->tensorflow!=2.0.*,!=2.1.*,!=2.2.*,!=2.3.*,!=2.4.*,!=2.5.*,!=2.6.*,!=2.7.*,<2.9,>=1.15.5->tensorflow-transform) (0.4.6)\n",
      "Requirement already satisfied: werkzeug>=0.11.15 in /opt/conda/lib/python3.7/site-packages (from tensorboard<2.9,>=2.8->tensorflow!=2.0.*,!=2.1.*,!=2.2.*,!=2.3.*,!=2.4.*,!=2.5.*,!=2.6.*,!=2.7.*,<2.9,>=1.15.5->tensorflow-transform) (2.1.2)\n",
      "Requirement already satisfied: markdown>=2.6.8 in /opt/conda/lib/python3.7/site-packages (from tensorboard<2.9,>=2.8->tensorflow!=2.0.*,!=2.1.*,!=2.2.*,!=2.3.*,!=2.4.*,!=2.5.*,!=2.6.*,!=2.7.*,<2.9,>=1.15.5->tensorflow-transform) (3.3.7)\n",
      "Requirement already satisfied: tensorboard-data-server<0.7.0,>=0.6.0 in /opt/conda/lib/python3.7/site-packages (from tensorboard<2.9,>=2.8->tensorflow!=2.0.*,!=2.1.*,!=2.2.*,!=2.3.*,!=2.4.*,!=2.5.*,!=2.6.*,!=2.7.*,<2.9,>=1.15.5->tensorflow-transform) (0.6.1)\n",
      "Collecting google-api-core[grpc,grpcgcp]!=2.0.*,!=2.1.*,!=2.2.*,!=2.3.0,<3.0.0dev,>=1.31.5\n",
      "  Downloading google_api_core-2.8.1-py3-none-any.whl (114 kB)\n",
      "\u001b[2K     \u001b[90m━━━━━━━━━━━━━━━━━━━━━━━━━━━━━━━━━━━━━━\u001b[0m \u001b[32m114.7/114.7 kB\u001b[0m \u001b[31m16.3 MB/s\u001b[0m eta \u001b[36m0:00:00\u001b[0m\n",
      "\u001b[?25h  Downloading google_api_core-2.7.3-py3-none-any.whl (114 kB)\n",
      "\u001b[2K     \u001b[90m━━━━━━━━━━━━━━━━━━━━━━━━━━━━━━━━━━━━━━\u001b[0m \u001b[32m114.6/114.6 kB\u001b[0m \u001b[31m18.9 MB/s\u001b[0m eta \u001b[36m0:00:00\u001b[0m\n",
      "\u001b[?25h  Downloading google_api_core-2.7.2-py3-none-any.whl (114 kB)\n",
      "\u001b[2K     \u001b[90m━━━━━━━━━━━━━━━━━━━━━━━━━━━━━━━━━━━━━━\u001b[0m \u001b[32m114.6/114.6 kB\u001b[0m \u001b[31m18.2 MB/s\u001b[0m eta \u001b[36m0:00:00\u001b[0m\n",
      "\u001b[?25h  Downloading google_api_core-2.7.1-py3-none-any.whl (114 kB)\n",
      "\u001b[2K     \u001b[90m━━━━━━━━━━━━━━━━━━━━━━━━━━━━━━━━━━━━━━\u001b[0m \u001b[32m114.7/114.7 kB\u001b[0m \u001b[31m19.1 MB/s\u001b[0m eta \u001b[36m0:00:00\u001b[0m\n",
      "\u001b[?25h  Downloading google_api_core-2.7.0-py3-none-any.whl (114 kB)\n",
      "\u001b[2K     \u001b[90m━━━━━━━━━━━━━━━━━━━━━━━━━━━━━━━━━━━━━━\u001b[0m \u001b[32m114.7/114.7 kB\u001b[0m \u001b[31m18.3 MB/s\u001b[0m eta \u001b[36m0:00:00\u001b[0m\n",
      "\u001b[?25h  Downloading google_api_core-2.6.1-py3-none-any.whl (114 kB)\n",
      "\u001b[2K     \u001b[90m━━━━━━━━━━━━━━━━━━━━━━━━━━━━━━━━━━━━━━\u001b[0m \u001b[32m114.6/114.6 kB\u001b[0m \u001b[31m19.4 MB/s\u001b[0m eta \u001b[36m0:00:00\u001b[0m\n",
      "\u001b[?25h  Downloading google_api_core-2.6.0-py2.py3-none-any.whl (114 kB)\n",
      "\u001b[2K     \u001b[90m━━━━━━━━━━━━━━━━━━━━━━━━━━━━━━━━━━━━━━\u001b[0m \u001b[32m114.6/114.6 kB\u001b[0m \u001b[31m18.7 MB/s\u001b[0m eta \u001b[36m0:00:00\u001b[0m\n",
      "\u001b[?25h  Downloading google_api_core-2.5.0-py2.py3-none-any.whl (111 kB)\n",
      "\u001b[2K     \u001b[90m━━━━━━━━━━━━━━━━━━━━━━━━━━━━━━━━━━━━━━\u001b[0m \u001b[32m111.8/111.8 kB\u001b[0m \u001b[31m18.6 MB/s\u001b[0m eta \u001b[36m0:00:00\u001b[0m\n",
      "\u001b[?25h  Downloading google_api_core-2.4.0-py2.py3-none-any.whl (111 kB)\n",
      "\u001b[2K     \u001b[90m━━━━━━━━━━━━━━━━━━━━━━━━━━━━━━━━━━━━━━\u001b[0m \u001b[32m111.7/111.7 kB\u001b[0m \u001b[31m19.0 MB/s\u001b[0m eta \u001b[36m0:00:00\u001b[0m\n",
      "\u001b[?25h  Downloading google_api_core-2.3.2-py2.py3-none-any.whl (109 kB)\n",
      "\u001b[2K     \u001b[90m━━━━━━━━━━━━━━━━━━━━━━━━━━━━━━━━━━━━━━\u001b[0m \u001b[32m109.8/109.8 kB\u001b[0m \u001b[31m18.2 MB/s\u001b[0m eta \u001b[36m0:00:00\u001b[0m\n",
      "\u001b[?25hRequirement already satisfied: requests-oauthlib>=0.7.0 in /opt/conda/lib/python3.7/site-packages (from google-auth-oauthlib<0.5,>=0.4.1->tensorboard<2.9,>=2.8->tensorflow!=2.0.*,!=2.1.*,!=2.2.*,!=2.3.*,!=2.4.*,!=2.5.*,!=2.6.*,!=2.7.*,<2.9,>=1.15.5->tensorflow-transform) (1.3.1)\n",
      "Requirement already satisfied: google-crc32c<2.0dev,>=1.0 in /opt/conda/lib/python3.7/site-packages (from google-resumable-media<3.0dev,>=0.6.0->google-cloud-bigquery<3,>=1.6.0->apache-beam[gcp]<3,>=2.38->tensorflow-transform) (1.1.2)\n",
      "Requirement already satisfied: importlib-metadata>=4.4 in /opt/conda/lib/python3.7/site-packages (from markdown>=2.6.8->tensorboard<2.9,>=2.8->tensorflow!=2.0.*,!=2.1.*,!=2.2.*,!=2.3.*,!=2.4.*,!=2.5.*,!=2.6.*,!=2.7.*,<2.9,>=1.15.5->tensorflow-transform) (4.11.4)\n",
      "Requirement already satisfied: pyasn1>=0.1.7 in /opt/conda/lib/python3.7/site-packages (from oauth2client>=1.4.12->google-apitools<0.5.32,>=0.5.31->apache-beam[gcp]<3,>=2.38->tensorflow-transform) (0.4.8)\n",
      "Requirement already satisfied: typing-utils>=0.0.3 in /opt/conda/lib/python3.7/site-packages (from overrides<7.0.0,>=6.0.1->google-cloud-pubsublite<2,>=1.2.0->apache-beam[gcp]<3,>=2.38->tensorflow-transform) (0.1.0)\n",
      "Requirement already satisfied: cffi>=1.0.0 in /opt/conda/lib/python3.7/site-packages (from google-crc32c<2.0dev,>=1.0->google-resumable-media<3.0dev,>=0.6.0->google-cloud-bigquery<3,>=1.6.0->apache-beam[gcp]<3,>=2.38->tensorflow-transform) (1.15.0)\n",
      "Requirement already satisfied: zipp>=0.5 in /opt/conda/lib/python3.7/site-packages (from importlib-metadata>=4.4->markdown>=2.6.8->tensorboard<2.9,>=2.8->tensorflow!=2.0.*,!=2.1.*,!=2.2.*,!=2.3.*,!=2.4.*,!=2.5.*,!=2.6.*,!=2.7.*,<2.9,>=1.15.5->tensorflow-transform) (3.8.0)\n",
      "Requirement already satisfied: oauthlib>=3.0.0 in /opt/conda/lib/python3.7/site-packages (from requests-oauthlib>=0.7.0->google-auth-oauthlib<0.5,>=0.4.1->tensorboard<2.9,>=2.8->tensorflow!=2.0.*,!=2.1.*,!=2.2.*,!=2.3.*,!=2.4.*,!=2.5.*,!=2.6.*,!=2.7.*,<2.9,>=1.15.5->tensorflow-transform) (3.2.0)\n",
      "Requirement already satisfied: pycparser in /opt/conda/lib/python3.7/site-packages (from cffi>=1.0.0->google-crc32c<2.0dev,>=1.0->google-resumable-media<3.0dev,>=0.6.0->google-cloud-bigquery<3,>=1.6.0->apache-beam[gcp]<3,>=2.38->tensorflow-transform) (2.21)\n",
      "Building wheels for collected packages: dill\n",
      "  Building wheel for dill (setup.py) ... \u001b[?25ldone\n",
      "\u001b[?25h  Created wheel for dill: filename=dill-0.3.1.1-py3-none-any.whl size=78544 sha256=09930991cd66588f2c5939dc4c413540a2f0d291f15299d801fa4b83094f7780\n",
      "  Stored in directory: /home/jupyter/.cache/pip/wheels/a4/61/fd/c57e374e580aa78a45ed78d5859b3a44436af17e22ca53284f\n",
      "Successfully built dill\n",
      "Installing collected packages: tensorflow-estimator, libclang, keras, uritemplate, tensorflow-io-gcs-filesystem, pyparsing, protobuf, numpy, dill, pyarrow, httplib2, google-api-core, tensorboard, google-cloud-core, google-api-python-client, tensorflow, google-cloud-vision, google-cloud-videointelligence, google-cloud-spanner, google-cloud-language, google-cloud-datastore, google-cloud-bigtable\n",
      "  Attempting uninstall: tensorflow-estimator\n",
      "    Found existing installation: tensorflow-estimator 2.6.0\n",
      "    Uninstalling tensorflow-estimator-2.6.0:\n",
      "      Successfully uninstalled tensorflow-estimator-2.6.0\n",
      "  Attempting uninstall: keras\n",
      "    Found existing installation: keras 2.6.0\n",
      "    Uninstalling keras-2.6.0:\n",
      "      Successfully uninstalled keras-2.6.0\n",
      "  Attempting uninstall: uritemplate\n",
      "    Found existing installation: uritemplate 4.1.1\n",
      "    Uninstalling uritemplate-4.1.1:\n",
      "      Successfully uninstalled uritemplate-4.1.1\n",
      "  Attempting uninstall: pyparsing\n",
      "    Found existing installation: pyparsing 3.0.9\n",
      "    Uninstalling pyparsing-3.0.9:\n",
      "      Successfully uninstalled pyparsing-3.0.9\n",
      "  Attempting uninstall: protobuf\n",
      "    Found existing installation: protobuf 3.20.1\n",
      "    Uninstalling protobuf-3.20.1:\n",
      "      Successfully uninstalled protobuf-3.20.1\n",
      "  Attempting uninstall: numpy\n",
      "    Found existing installation: numpy 1.19.5\n",
      "    Uninstalling numpy-1.19.5:\n",
      "      Successfully uninstalled numpy-1.19.5\n",
      "  Attempting uninstall: dill\n",
      "    Found existing installation: dill 0.3.5.1\n",
      "    Uninstalling dill-0.3.5.1:\n",
      "      Successfully uninstalled dill-0.3.5.1\n",
      "  Attempting uninstall: pyarrow\n",
      "    Found existing installation: pyarrow 8.0.0\n",
      "    Uninstalling pyarrow-8.0.0:\n",
      "      Successfully uninstalled pyarrow-8.0.0\n",
      "  Attempting uninstall: httplib2\n",
      "    Found existing installation: httplib2 0.20.4\n",
      "    Uninstalling httplib2-0.20.4:\n",
      "      Successfully uninstalled httplib2-0.20.4\n",
      "  Attempting uninstall: google-api-core\n",
      "    Found existing installation: google-api-core 2.8.0\n",
      "    Uninstalling google-api-core-2.8.0:\n",
      "      Successfully uninstalled google-api-core-2.8.0\n",
      "  Attempting uninstall: tensorboard\n",
      "    Found existing installation: tensorboard 2.6.0\n",
      "    Uninstalling tensorboard-2.6.0:\n",
      "      Successfully uninstalled tensorboard-2.6.0\n",
      "  Attempting uninstall: google-cloud-core\n",
      "    Found existing installation: google-cloud-core 2.3.0\n",
      "    Uninstalling google-cloud-core-2.3.0:\n",
      "      Successfully uninstalled google-cloud-core-2.3.0\n",
      "  Attempting uninstall: google-api-python-client\n",
      "    Found existing installation: google-api-python-client 2.49.0\n",
      "    Uninstalling google-api-python-client-2.49.0:\n",
      "      Successfully uninstalled google-api-python-client-2.49.0\n",
      "  Attempting uninstall: tensorflow\n",
      "    Found existing installation: tensorflow 2.6.4\n",
      "    Uninstalling tensorflow-2.6.4:\n",
      "      Successfully uninstalled tensorflow-2.6.4\n",
      "  Attempting uninstall: google-cloud-vision\n",
      "    Found existing installation: google-cloud-vision 2.7.2\n",
      "    Uninstalling google-cloud-vision-2.7.2:\n",
      "      Successfully uninstalled google-cloud-vision-2.7.2\n",
      "  Attempting uninstall: google-cloud-videointelligence\n",
      "    Found existing installation: google-cloud-videointelligence 2.7.0\n",
      "    Uninstalling google-cloud-videointelligence-2.7.0:\n",
      "      Successfully uninstalled google-cloud-videointelligence-2.7.0\n",
      "  Attempting uninstall: google-cloud-spanner\n",
      "    Found existing installation: google-cloud-spanner 3.14.0\n",
      "    Uninstalling google-cloud-spanner-3.14.0:\n",
      "      Successfully uninstalled google-cloud-spanner-3.14.0\n",
      "  Attempting uninstall: google-cloud-language\n",
      "    Found existing installation: google-cloud-language 2.4.2\n",
      "    Uninstalling google-cloud-language-2.4.2:\n",
      "      Successfully uninstalled google-cloud-language-2.4.2\n",
      "  Attempting uninstall: google-cloud-datastore\n",
      "    Found existing installation: google-cloud-datastore 2.6.0\n",
      "    Uninstalling google-cloud-datastore-2.6.0:\n",
      "      Successfully uninstalled google-cloud-datastore-2.6.0\n",
      "  Attempting uninstall: google-cloud-bigtable\n",
      "    Found existing installation: google-cloud-bigtable 2.9.0\n",
      "    Uninstalling google-cloud-bigtable-2.9.0:\n",
      "      Successfully uninstalled google-cloud-bigtable-2.9.0\n",
      "\u001b[31mERROR: pip's dependency resolver does not currently take into account all the packages that are installed. This behaviour is the source of the following dependency conflicts.\n",
      "tensorflow-io 0.21.0 requires tensorflow<2.7.0,>=2.6.0, but you have tensorflow 2.8.2 which is incompatible.\n",
      "tensorflow-io 0.21.0 requires tensorflow-io-gcs-filesystem==0.21.0, but you have tensorflow-io-gcs-filesystem 0.26.0 which is incompatible.\n",
      "google-cloud-storage 2.3.0 requires google-cloud-core<3.0dev,>=2.3.0, but you have google-cloud-core 1.7.2 which is incompatible.\n",
      "cloud-tpu-client 0.10 requires google-api-python-client==1.8.0, but you have google-api-python-client 1.12.11 which is incompatible.\u001b[0m\u001b[31m\n",
      "\u001b[0mSuccessfully installed dill-0.3.1.1 google-api-core-1.31.6 google-api-python-client-2.48.0 google-cloud-bigtable-1.7.1 google-cloud-core-2.2.2 google-cloud-datastore-1.15.4 google-cloud-language-1.3.1 google-cloud-spanner-1.19.2 google-cloud-videointelligence-1.16.2 google-cloud-vision-1.0.1 httplib2-0.19.1 keras-2.8.0 libclang-14.0.1 numpy-1.21.6 protobuf-3.19.4 pyarrow-5.0.0 pyparsing-2.4.7 tensorboard-2.8.0 tensorflow-2.8.2 tensorflow-estimator-2.8.0 tensorflow-io-gcs-filesystem-0.26.0 uritemplate-3.0.1\n"
     ]
    }
   ],
   "source": [
    "!pip install tensorflow-transform"
   ]
  },
  {
   "cell_type": "markdown",
   "metadata": {
    "id": "_tQUubddMvnP"
   },
   "source": [
    "**Note:** Restart the kernel before proceeding further. Select **Kernel > Restart kernel > Restart** from the menu."
   ]
  },
  {
   "cell_type": "code",
   "execution_count": 1,
   "metadata": {
    "colab": {
     "base_uri": "https://localhost:8080/"
    },
    "id": "R0mXLOJR_-dv",
    "outputId": "4029836b-e8ec-425f-a204-aeac02ec2da7"
   },
   "outputs": [
    {
     "data": {
      "text/plain": [
       "<module 'pkg_resources' from '/opt/conda/lib/python3.7/site-packages/pkg_resources/__init__.py'>"
      ]
     },
     "execution_count": 1,
     "metadata": {},
     "output_type": "execute_result"
    }
   ],
   "source": [
    "# This cell is only necessary because packages were installed while python was\n",
    "# running. It avoids the need to restart the runtime when running in Colab.\n",
    "import pkg_resources\n",
    "import importlib\n",
    "\n",
    "importlib.reload(pkg_resources)"
   ]
  },
  {
   "cell_type": "markdown",
   "metadata": {
    "id": "RptgLn2RYuK3"
   },
   "source": [
    "## Imports and globals\n",
    "\n",
    "First import the stuff you need."
   ]
  },
  {
   "cell_type": "code",
   "execution_count": 2,
   "metadata": {
    "colab": {
     "base_uri": "https://localhost:8080/"
    },
    "id": "K4QXVIM7iglN",
    "outputId": "dcd1f9e0-0468-4365-cdbd-5a77e5a6aaa8"
   },
   "outputs": [
    {
     "name": "stdout",
     "output_type": "stream",
     "text": [
      "TF: 2.8.2\n",
      "Beam: 2.39.0\n",
      "Transform: 1.8.0\n"
     ]
    }
   ],
   "source": [
    "import math\n",
    "import os\n",
    "import pprint\n",
    "\n",
    "import pandas as pd\n",
    "import matplotlib.pyplot as plt\n",
    "\n",
    "import tensorflow as tf\n",
    "print('TF: {}'.format(tf.__version__))\n",
    "\n",
    "import apache_beam as beam\n",
    "print('Beam: {}'.format(beam.__version__))\n",
    "\n",
    "import tensorflow_transform as tft\n",
    "import tensorflow_transform.beam as tft_beam\n",
    "print('Transform: {}'.format(tft.__version__))\n",
    "\n",
    "from tfx_bsl.public import tfxio\n",
    "from tfx_bsl.coders.example_coder import RecordBatchToExamples"
   ]
  },
  {
   "cell_type": "markdown",
   "metadata": {
    "id": "sutRmRNSGT5p"
   },
   "source": [
    "Next download the data files:"
   ]
  },
  {
   "cell_type": "code",
   "execution_count": 3,
   "metadata": {
    "colab": {
     "base_uri": "https://localhost:8080/"
    },
    "id": "mKEYRl2g_vzl",
    "outputId": "08dfbb0c-8211-4b63-8655-9c0c95b074ee"
   },
   "outputs": [
    {
     "name": "stdout",
     "output_type": "stream",
     "text": [
      "--2022-05-30 14:05:34--  https://storage.googleapis.com/artifacts.tfx-oss-public.appspot.com/datasets/census/adult.data\n",
      "Resolving storage.googleapis.com (storage.googleapis.com)... 74.125.197.128, 74.125.142.128, 74.125.195.128, ...\n",
      "Connecting to storage.googleapis.com (storage.googleapis.com)|74.125.197.128|:443... connected.\n",
      "HTTP request sent, awaiting response... 200 OK\n",
      "Length: 3974305 (3.8M) [application/octet-stream]\n",
      "Saving to: ‘adult.data’\n",
      "\n",
      "adult.data          100%[===================>]   3.79M  --.-KB/s    in 0.02s   \n",
      "\n",
      "2022-05-30 14:05:35 (187 MB/s) - ‘adult.data’ saved [3974305/3974305]\n",
      "\n",
      "--2022-05-30 14:05:35--  https://storage.googleapis.com/artifacts.tfx-oss-public.appspot.com/datasets/census/adult.test\n",
      "Resolving storage.googleapis.com (storage.googleapis.com)... 74.125.20.128, 108.177.98.128, 74.125.197.128, ...\n",
      "Connecting to storage.googleapis.com (storage.googleapis.com)|74.125.20.128|:443... connected.\n",
      "HTTP request sent, awaiting response... 200 OK\n",
      "Length: 2003153 (1.9M) [application/octet-stream]\n",
      "Saving to: ‘adult.test’\n",
      "\n",
      "adult.test          100%[===================>]   1.91M  --.-KB/s    in 0.01s   \n",
      "\n",
      "2022-05-30 14:05:35 (165 MB/s) - ‘adult.test’ saved [2003153/2003153]\n",
      "\n"
     ]
    }
   ],
   "source": [
    "!wget https://storage.googleapis.com/artifacts.tfx-oss-public.appspot.com/datasets/census/adult.data\n",
    "!wget https://storage.googleapis.com/artifacts.tfx-oss-public.appspot.com/datasets/census/adult.test\n",
    "\n",
    "train_path = './adult.data'\n",
    "test_path = './adult.test'"
   ]
  },
  {
   "cell_type": "markdown",
   "metadata": {
    "id": "CxOxaaOYRfl7"
   },
   "source": [
    "### Name our columns\n",
    "You'll create some handy lists for referencing the columns in our dataset."
   ]
  },
  {
   "cell_type": "code",
   "execution_count": 4,
   "metadata": {
    "id": "-bsr1nLHqyg_"
   },
   "outputs": [],
   "source": [
    "CATEGORICAL_FEATURE_KEYS = [\n",
    "    'workclass',\n",
    "    'education',\n",
    "    'marital-status',\n",
    "    'occupation',\n",
    "    'relationship',\n",
    "    'race',\n",
    "    'sex',\n",
    "    'native-country',\n",
    "]\n",
    "\n",
    "NUMERIC_FEATURE_KEYS = [\n",
    "    'age',\n",
    "    'capital-gain',\n",
    "    'capital-loss',\n",
    "    'hours-per-week',\n",
    "    'education-num'\n",
    "]\n",
    "\n",
    "ORDERED_CSV_COLUMNS = [\n",
    "    'age', 'workclass', 'fnlwgt', 'education', 'education-num',\n",
    "    'marital-status', 'occupation', 'relationship', 'race', 'sex',\n",
    "    'capital-gain', 'capital-loss', 'hours-per-week', 'native-country', 'label'\n",
    "]\n",
    "\n",
    "LABEL_KEY = 'label'"
   ]
  },
  {
   "cell_type": "markdown",
   "metadata": {
    "id": "R52dXlw0G0CN"
   },
   "source": [
    "Here's a quick preview of the data:"
   ]
  },
  {
   "cell_type": "code",
   "execution_count": 5,
   "metadata": {
    "colab": {
     "base_uri": "https://localhost:8080/",
     "height": 392
    },
    "id": "312cQ5vwGjOu",
    "outputId": "ea978674-b96a-4621-88df-e680268da9b4"
   },
   "outputs": [
    {
     "data": {
      "text/html": [
       "<div>\n",
       "<style scoped>\n",
       "    .dataframe tbody tr th:only-of-type {\n",
       "        vertical-align: middle;\n",
       "    }\n",
       "\n",
       "    .dataframe tbody tr th {\n",
       "        vertical-align: top;\n",
       "    }\n",
       "\n",
       "    .dataframe thead th {\n",
       "        text-align: right;\n",
       "    }\n",
       "</style>\n",
       "<table border=\"1\" class=\"dataframe\">\n",
       "  <thead>\n",
       "    <tr style=\"text-align: right;\">\n",
       "      <th></th>\n",
       "      <th>age</th>\n",
       "      <th>workclass</th>\n",
       "      <th>fnlwgt</th>\n",
       "      <th>education</th>\n",
       "      <th>education-num</th>\n",
       "      <th>marital-status</th>\n",
       "      <th>occupation</th>\n",
       "      <th>relationship</th>\n",
       "      <th>race</th>\n",
       "      <th>sex</th>\n",
       "      <th>capital-gain</th>\n",
       "      <th>capital-loss</th>\n",
       "      <th>hours-per-week</th>\n",
       "      <th>native-country</th>\n",
       "      <th>label</th>\n",
       "    </tr>\n",
       "  </thead>\n",
       "  <tbody>\n",
       "    <tr>\n",
       "      <th>0</th>\n",
       "      <td>39</td>\n",
       "      <td>State-gov</td>\n",
       "      <td>77516</td>\n",
       "      <td>Bachelors</td>\n",
       "      <td>13</td>\n",
       "      <td>Never-married</td>\n",
       "      <td>Adm-clerical</td>\n",
       "      <td>Not-in-family</td>\n",
       "      <td>White</td>\n",
       "      <td>Male</td>\n",
       "      <td>2174</td>\n",
       "      <td>0</td>\n",
       "      <td>40</td>\n",
       "      <td>United-States</td>\n",
       "      <td>&lt;=50K</td>\n",
       "    </tr>\n",
       "    <tr>\n",
       "      <th>1</th>\n",
       "      <td>50</td>\n",
       "      <td>Self-emp-not-inc</td>\n",
       "      <td>83311</td>\n",
       "      <td>Bachelors</td>\n",
       "      <td>13</td>\n",
       "      <td>Married-civ-spouse</td>\n",
       "      <td>Exec-managerial</td>\n",
       "      <td>Husband</td>\n",
       "      <td>White</td>\n",
       "      <td>Male</td>\n",
       "      <td>0</td>\n",
       "      <td>0</td>\n",
       "      <td>13</td>\n",
       "      <td>United-States</td>\n",
       "      <td>&lt;=50K</td>\n",
       "    </tr>\n",
       "    <tr>\n",
       "      <th>2</th>\n",
       "      <td>38</td>\n",
       "      <td>Private</td>\n",
       "      <td>215646</td>\n",
       "      <td>HS-grad</td>\n",
       "      <td>9</td>\n",
       "      <td>Divorced</td>\n",
       "      <td>Handlers-cleaners</td>\n",
       "      <td>Not-in-family</td>\n",
       "      <td>White</td>\n",
       "      <td>Male</td>\n",
       "      <td>0</td>\n",
       "      <td>0</td>\n",
       "      <td>40</td>\n",
       "      <td>United-States</td>\n",
       "      <td>&lt;=50K</td>\n",
       "    </tr>\n",
       "    <tr>\n",
       "      <th>3</th>\n",
       "      <td>53</td>\n",
       "      <td>Private</td>\n",
       "      <td>234721</td>\n",
       "      <td>11th</td>\n",
       "      <td>7</td>\n",
       "      <td>Married-civ-spouse</td>\n",
       "      <td>Handlers-cleaners</td>\n",
       "      <td>Husband</td>\n",
       "      <td>Black</td>\n",
       "      <td>Male</td>\n",
       "      <td>0</td>\n",
       "      <td>0</td>\n",
       "      <td>40</td>\n",
       "      <td>United-States</td>\n",
       "      <td>&lt;=50K</td>\n",
       "    </tr>\n",
       "    <tr>\n",
       "      <th>4</th>\n",
       "      <td>28</td>\n",
       "      <td>Private</td>\n",
       "      <td>338409</td>\n",
       "      <td>Bachelors</td>\n",
       "      <td>13</td>\n",
       "      <td>Married-civ-spouse</td>\n",
       "      <td>Prof-specialty</td>\n",
       "      <td>Wife</td>\n",
       "      <td>Black</td>\n",
       "      <td>Female</td>\n",
       "      <td>0</td>\n",
       "      <td>0</td>\n",
       "      <td>40</td>\n",
       "      <td>Cuba</td>\n",
       "      <td>&lt;=50K</td>\n",
       "    </tr>\n",
       "  </tbody>\n",
       "</table>\n",
       "</div>"
      ],
      "text/plain": [
       "   age          workclass  fnlwgt   education  education-num  \\\n",
       "0   39          State-gov   77516   Bachelors             13   \n",
       "1   50   Self-emp-not-inc   83311   Bachelors             13   \n",
       "2   38            Private  215646     HS-grad              9   \n",
       "3   53            Private  234721        11th              7   \n",
       "4   28            Private  338409   Bachelors             13   \n",
       "\n",
       "        marital-status          occupation    relationship    race      sex  \\\n",
       "0        Never-married        Adm-clerical   Not-in-family   White     Male   \n",
       "1   Married-civ-spouse     Exec-managerial         Husband   White     Male   \n",
       "2             Divorced   Handlers-cleaners   Not-in-family   White     Male   \n",
       "3   Married-civ-spouse   Handlers-cleaners         Husband   Black     Male   \n",
       "4   Married-civ-spouse      Prof-specialty            Wife   Black   Female   \n",
       "\n",
       "   capital-gain  capital-loss  hours-per-week  native-country   label  \n",
       "0          2174             0              40   United-States   <=50K  \n",
       "1             0             0              13   United-States   <=50K  \n",
       "2             0             0              40   United-States   <=50K  \n",
       "3             0             0              40   United-States   <=50K  \n",
       "4             0             0              40            Cuba   <=50K  "
      ]
     },
     "execution_count": 5,
     "metadata": {},
     "output_type": "execute_result"
    }
   ],
   "source": [
    "pandas_train = pd.read_csv(train_path, header=None, names=ORDERED_CSV_COLUMNS)\n",
    "\n",
    "pandas_train.head(5)"
   ]
  },
  {
   "cell_type": "code",
   "execution_count": 6,
   "metadata": {
    "id": "zzjzjR3351j0"
   },
   "outputs": [],
   "source": [
    "one_row = dict(pandas_train.loc[0])"
   ]
  },
  {
   "cell_type": "code",
   "execution_count": 7,
   "metadata": {
    "id": "zk2b8IPd4uPr"
   },
   "outputs": [],
   "source": [
    "COLUMN_DEFAULTS = [\n",
    "  '' if isinstance(v, str) else 0.0\n",
    "  for v in  dict(pandas_train.loc[1]).values()]"
   ]
  },
  {
   "cell_type": "markdown",
   "metadata": {
    "id": "LefAguV5ICMc"
   },
   "source": [
    "The test data has 1 header line that needs to be skipped, and a trailing \".\" at the end of each line."
   ]
  },
  {
   "cell_type": "code",
   "execution_count": 8,
   "metadata": {
    "colab": {
     "base_uri": "https://localhost:8080/",
     "height": 392
    },
    "id": "RasgDIUKHCpV",
    "outputId": "3fcf00c1-235e-46c8-8205-7f68734125b3"
   },
   "outputs": [
    {
     "data": {
      "text/html": [
       "<div>\n",
       "<style scoped>\n",
       "    .dataframe tbody tr th:only-of-type {\n",
       "        vertical-align: middle;\n",
       "    }\n",
       "\n",
       "    .dataframe tbody tr th {\n",
       "        vertical-align: top;\n",
       "    }\n",
       "\n",
       "    .dataframe thead th {\n",
       "        text-align: right;\n",
       "    }\n",
       "</style>\n",
       "<table border=\"1\" class=\"dataframe\">\n",
       "  <thead>\n",
       "    <tr style=\"text-align: right;\">\n",
       "      <th></th>\n",
       "      <th>age</th>\n",
       "      <th>workclass</th>\n",
       "      <th>fnlwgt</th>\n",
       "      <th>education</th>\n",
       "      <th>education-num</th>\n",
       "      <th>marital-status</th>\n",
       "      <th>occupation</th>\n",
       "      <th>relationship</th>\n",
       "      <th>race</th>\n",
       "      <th>sex</th>\n",
       "      <th>capital-gain</th>\n",
       "      <th>capital-loss</th>\n",
       "      <th>hours-per-week</th>\n",
       "      <th>native-country</th>\n",
       "      <th>label</th>\n",
       "    </tr>\n",
       "  </thead>\n",
       "  <tbody>\n",
       "    <tr>\n",
       "      <th>0</th>\n",
       "      <td>38</td>\n",
       "      <td>Private</td>\n",
       "      <td>89814</td>\n",
       "      <td>HS-grad</td>\n",
       "      <td>9</td>\n",
       "      <td>Married-civ-spouse</td>\n",
       "      <td>Farming-fishing</td>\n",
       "      <td>Husband</td>\n",
       "      <td>White</td>\n",
       "      <td>Male</td>\n",
       "      <td>0</td>\n",
       "      <td>0</td>\n",
       "      <td>50</td>\n",
       "      <td>United-States</td>\n",
       "      <td>&lt;=50K.</td>\n",
       "    </tr>\n",
       "    <tr>\n",
       "      <th>1</th>\n",
       "      <td>28</td>\n",
       "      <td>Local-gov</td>\n",
       "      <td>336951</td>\n",
       "      <td>Assoc-acdm</td>\n",
       "      <td>12</td>\n",
       "      <td>Married-civ-spouse</td>\n",
       "      <td>Protective-serv</td>\n",
       "      <td>Husband</td>\n",
       "      <td>White</td>\n",
       "      <td>Male</td>\n",
       "      <td>0</td>\n",
       "      <td>0</td>\n",
       "      <td>40</td>\n",
       "      <td>United-States</td>\n",
       "      <td>&gt;50K.</td>\n",
       "    </tr>\n",
       "    <tr>\n",
       "      <th>2</th>\n",
       "      <td>44</td>\n",
       "      <td>Private</td>\n",
       "      <td>160323</td>\n",
       "      <td>Some-college</td>\n",
       "      <td>10</td>\n",
       "      <td>Married-civ-spouse</td>\n",
       "      <td>Machine-op-inspct</td>\n",
       "      <td>Husband</td>\n",
       "      <td>Black</td>\n",
       "      <td>Male</td>\n",
       "      <td>7688</td>\n",
       "      <td>0</td>\n",
       "      <td>40</td>\n",
       "      <td>United-States</td>\n",
       "      <td>&gt;50K.</td>\n",
       "    </tr>\n",
       "    <tr>\n",
       "      <th>3</th>\n",
       "      <td>18</td>\n",
       "      <td>?</td>\n",
       "      <td>103497</td>\n",
       "      <td>Some-college</td>\n",
       "      <td>10</td>\n",
       "      <td>Never-married</td>\n",
       "      <td>?</td>\n",
       "      <td>Own-child</td>\n",
       "      <td>White</td>\n",
       "      <td>Female</td>\n",
       "      <td>0</td>\n",
       "      <td>0</td>\n",
       "      <td>30</td>\n",
       "      <td>United-States</td>\n",
       "      <td>&lt;=50K.</td>\n",
       "    </tr>\n",
       "    <tr>\n",
       "      <th>4</th>\n",
       "      <td>34</td>\n",
       "      <td>Private</td>\n",
       "      <td>198693</td>\n",
       "      <td>10th</td>\n",
       "      <td>6</td>\n",
       "      <td>Never-married</td>\n",
       "      <td>Other-service</td>\n",
       "      <td>Not-in-family</td>\n",
       "      <td>White</td>\n",
       "      <td>Male</td>\n",
       "      <td>0</td>\n",
       "      <td>0</td>\n",
       "      <td>30</td>\n",
       "      <td>United-States</td>\n",
       "      <td>&lt;=50K.</td>\n",
       "    </tr>\n",
       "  </tbody>\n",
       "</table>\n",
       "</div>"
      ],
      "text/plain": [
       "   age   workclass  fnlwgt      education  education-num       marital-status  \\\n",
       "0   38     Private   89814        HS-grad              9   Married-civ-spouse   \n",
       "1   28   Local-gov  336951     Assoc-acdm             12   Married-civ-spouse   \n",
       "2   44     Private  160323   Some-college             10   Married-civ-spouse   \n",
       "3   18           ?  103497   Some-college             10        Never-married   \n",
       "4   34     Private  198693           10th              6        Never-married   \n",
       "\n",
       "           occupation    relationship    race      sex  capital-gain  \\\n",
       "0     Farming-fishing         Husband   White     Male             0   \n",
       "1     Protective-serv         Husband   White     Male             0   \n",
       "2   Machine-op-inspct         Husband   Black     Male          7688   \n",
       "3                   ?       Own-child   White   Female             0   \n",
       "4       Other-service   Not-in-family   White     Male             0   \n",
       "\n",
       "   capital-loss  hours-per-week  native-country    label  \n",
       "0             0              50   United-States   <=50K.  \n",
       "1             0              40   United-States    >50K.  \n",
       "2             0              40   United-States    >50K.  \n",
       "3             0              30   United-States   <=50K.  \n",
       "4             0              30   United-States   <=50K.  "
      ]
     },
     "execution_count": 8,
     "metadata": {},
     "output_type": "execute_result"
    }
   ],
   "source": [
    "pandas_test = pd.read_csv(test_path, header=1, names=ORDERED_CSV_COLUMNS)\n",
    "\n",
    "pandas_test.head(5)"
   ]
  },
  {
   "cell_type": "code",
   "execution_count": 9,
   "metadata": {
    "id": "s9aH5ZnDdD_z"
   },
   "outputs": [],
   "source": [
    "testing = os.getenv(\"WEB_TEST_BROWSER\", False)\n",
    "if testing:\n",
    "  pandas_train = pandas_train.loc[:1]\n",
    "  pandas_test = pandas_test.loc[:1]"
   ]
  },
  {
   "cell_type": "markdown",
   "metadata": {
    "id": "qtTn4at8rurk"
   },
   "source": [
    "###Define our features and schema\n",
    "Let's define a schema based on what types the columns are in our input.  Among other things this will help with importing them correctly."
   ]
  },
  {
   "cell_type": "code",
   "execution_count": 10,
   "metadata": {
    "id": "5oS2RfyCrzMr"
   },
   "outputs": [],
   "source": [
    "RAW_DATA_FEATURE_SPEC = dict(\n",
    "    [(name, tf.io.FixedLenFeature([], tf.string))\n",
    "     for name in CATEGORICAL_FEATURE_KEYS] +\n",
    "    [(name, tf.io.FixedLenFeature([], tf.float32))\n",
    "     for name in NUMERIC_FEATURE_KEYS] + \n",
    "    [(LABEL_KEY, tf.io.FixedLenFeature([], tf.string))]\n",
    ")\n",
    "\n",
    "SCHEMA = tft.tf_metadata.dataset_metadata.DatasetMetadata(\n",
    "    tft.tf_metadata.schema_utils.schema_from_feature_spec(RAW_DATA_FEATURE_SPEC)).schema"
   ]
  },
  {
   "cell_type": "markdown",
   "metadata": {
    "id": "_j6M7ObpaLHi"
   },
   "source": [
    "### [Optional] Encode and decode tf.train.Example protos"
   ]
  },
  {
   "cell_type": "markdown",
   "metadata": {
    "id": "rgGO9-GkZ5Kv"
   },
   "source": [
    "This tutorial needs to convert examples from the dataset to and from `tf.train.Example` protos in a few places. \n",
    "\n",
    "The hidden `encode_example` function below converts a dictionary of features forom the dataset to a `tf.train.Example`."
   ]
  },
  {
   "cell_type": "code",
   "execution_count": 11,
   "metadata": {
    "id": "Wbhndy7uWqYp"
   },
   "outputs": [],
   "source": [
    "#@title\n",
    "def encode_example(input_features):\n",
    "  input_features = dict(input_features)\n",
    "  output_features = {}\n",
    "  \n",
    "  for key in CATEGORICAL_FEATURE_KEYS:\n",
    "    value = input_features[key]\n",
    "    feature = tf.train.Feature(\n",
    "        bytes_list=tf.train.BytesList(value=[value.strip().encode()]))\n",
    "    output_features[key] = feature \n",
    "\n",
    "  for key in NUMERIC_FEATURE_KEYS:\n",
    "    value = input_features[key]\n",
    "    feature = tf.train.Feature(\n",
    "        float_list=tf.train.FloatList(value=[value]))\n",
    "    output_features[key] = feature \n",
    "\n",
    "  label_value = input_features.get(LABEL_KEY, None)\n",
    "  if label_value is not None:\n",
    "    output_features[LABEL_KEY]  = tf.train.Feature(\n",
    "        bytes_list = tf.train.BytesList(value=[label_value.strip().encode()]))\n",
    "\n",
    "  example = tf.train.Example(\n",
    "      features = tf.train.Features(feature=output_features)\n",
    "  )\n",
    "  return example"
   ]
  },
  {
   "cell_type": "markdown",
   "metadata": {
    "id": "4qx7fSVmmwIQ"
   },
   "source": [
    "Now you can convert dataset examples into `Example` protos:"
   ]
  },
  {
   "cell_type": "code",
   "execution_count": 12,
   "metadata": {
    "colab": {
     "base_uri": "https://localhost:8080/"
    },
    "id": "sWd95yxJceXy",
    "outputId": "ca9089ca-45c3-462e-c54b-831b753fc578"
   },
   "outputs": [
    {
     "data": {
      "text/plain": [
       "float_list {\n",
       "  value: 39.0\n",
       "}"
      ]
     },
     "execution_count": 12,
     "metadata": {},
     "output_type": "execute_result"
    }
   ],
   "source": [
    "tf_example = encode_example(pandas_train.loc[0])\n",
    "tf_example.features.feature['age']"
   ]
  },
  {
   "cell_type": "code",
   "execution_count": 13,
   "metadata": {
    "colab": {
     "base_uri": "https://localhost:8080/"
    },
    "id": "EutF2aPXbAUd",
    "outputId": "043601b6-60ba-4e22-f144-9aed3f8a5ad4"
   },
   "outputs": [
    {
     "name": "stderr",
     "output_type": "stream",
     "text": [
      "2022-05-30 14:06:15.528156: W tensorflow/stream_executor/platform/default/dso_loader.cc:64] Could not load dynamic library 'libcuda.so.1'; dlerror: libcuda.so.1: cannot open shared object file: No such file or directory; LD_LIBRARY_PATH: /usr/local/cuda/lib64:/usr/local/nccl2/lib:/usr/local/cuda/extras/CUPTI/lib64\n",
      "2022-05-30 14:06:15.528200: W tensorflow/stream_executor/cuda/cuda_driver.cc:269] failed call to cuInit: UNKNOWN ERROR (303)\n",
      "2022-05-30 14:06:15.528226: I tensorflow/stream_executor/cuda/cuda_diagnostics.cc:156] kernel driver does not appear to be running on this host (tensorflow-2-6-20220530-191935): /proc/driver/nvidia/version does not exist\n",
      "2022-05-30 14:06:15.528739: I tensorflow/core/platform/cpu_feature_guard.cc:151] This TensorFlow binary is optimized with oneAPI Deep Neural Network Library (oneDNN) to use the following CPU instructions in performance-critical operations:  AVX2 FMA\n",
      "To enable them in other operations, rebuild TensorFlow with the appropriate compiler flags.\n"
     ]
    },
    {
     "data": {
      "text/plain": [
       "<tf.Tensor: shape=(3,), dtype=string, numpy=\n",
       "array([b'\\n\\xf9\\x02\\n\\x12\\n\\x05label\\x12\\t\\n\\x07\\n\\x05<=50K\\n\\x1a\\n\\tworkclass\\x12\\r\\n\\x0b\\n\\tState-gov\\n#\\n\\x0emarital-status\\x12\\x11\\n\\x0f\\n\\rNever-married\\n!\\n\\x0crelationship\\x12\\x11\\n\\x0f\\n\\rNot-in-family\\n\\x0f\\n\\x03age\\x12\\x08\\x12\\x06\\n\\x04\\x00\\x00\\x1cB\\n\\x18\\n\\x0ccapital-gain\\x12\\x08\\x12\\x06\\n\\x04\\x00\\xe0\\x07E\\n\\x11\\n\\x04race\\x12\\t\\n\\x07\\n\\x05White\\n\\x19\\n\\reducation-num\\x12\\x08\\x12\\x06\\n\\x04\\x00\\x00PA\\n\\x1a\\n\\x0ehours-per-week\\x12\\x08\\x12\\x06\\n\\x04\\x00\\x00 B\\n#\\n\\x0enative-country\\x12\\x11\\n\\x0f\\n\\rUnited-States\\n\\x1e\\n\\noccupation\\x12\\x10\\n\\x0e\\n\\x0cAdm-clerical\\n\\x18\\n\\x0ccapital-loss\\x12\\x08\\x12\\x06\\n\\x04\\x00\\x00\\x00\\x00\\n\\x1a\\n\\teducation\\x12\\r\\n\\x0b\\n\\tBachelors\\n\\x0f\\n\\x03sex\\x12\\x08\\n\\x06\\n\\x04Male',\n",
       "       b'\\n\\x82\\x03\\n#\\n\\x0enative-country\\x12\\x11\\n\\x0f\\n\\rUnited-States\\n\\x1a\\n\\teducation\\x12\\r\\n\\x0b\\n\\tBachelors\\n\\x1a\\n\\x0ehours-per-week\\x12\\x08\\x12\\x06\\n\\x04\\x00\\x00PA\\n\\x0f\\n\\x03age\\x12\\x08\\x12\\x06\\n\\x04\\x00\\x00HB\\n\\x18\\n\\x0ccapital-loss\\x12\\x08\\x12\\x06\\n\\x04\\x00\\x00\\x00\\x00\\n\\x1b\\n\\x0crelationship\\x12\\x0b\\n\\t\\n\\x07Husband\\n(\\n\\x0emarital-status\\x12\\x16\\n\\x14\\n\\x12Married-civ-spouse\\n!\\n\\tworkclass\\x12\\x14\\n\\x12\\n\\x10Self-emp-not-inc\\n!\\n\\noccupation\\x12\\x13\\n\\x11\\n\\x0fExec-managerial\\n\\x12\\n\\x05label\\x12\\t\\n\\x07\\n\\x05<=50K\\n\\x18\\n\\x0ccapital-gain\\x12\\x08\\x12\\x06\\n\\x04\\x00\\x00\\x00\\x00\\n\\x11\\n\\x04race\\x12\\t\\n\\x07\\n\\x05White\\n\\x0f\\n\\x03sex\\x12\\x08\\n\\x06\\n\\x04Male\\n\\x19\\n\\reducation-num\\x12\\x08\\x12\\x06\\n\\x04\\x00\\x00PA',\n",
       "       b'\\n\\xf5\\x02\\n\\x12\\n\\x05label\\x12\\t\\n\\x07\\n\\x05<=50K\\n\\x0f\\n\\x03age\\x12\\x08\\x12\\x06\\n\\x04\\x00\\x00\\x18B\\n\\x18\\n\\x0ccapital-loss\\x12\\x08\\x12\\x06\\n\\x04\\x00\\x00\\x00\\x00\\n!\\n\\x0crelationship\\x12\\x11\\n\\x0f\\n\\rNot-in-family\\n\\x18\\n\\tworkclass\\x12\\x0b\\n\\t\\n\\x07Private\\n#\\n\\noccupation\\x12\\x15\\n\\x13\\n\\x11Handlers-cleaners\\n\\x18\\n\\teducation\\x12\\x0b\\n\\t\\n\\x07HS-grad\\n\\x19\\n\\reducation-num\\x12\\x08\\x12\\x06\\n\\x04\\x00\\x00\\x10A\\n\\x11\\n\\x04race\\x12\\t\\n\\x07\\n\\x05White\\n\\x1a\\n\\x0ehours-per-week\\x12\\x08\\x12\\x06\\n\\x04\\x00\\x00 B\\n\\x0f\\n\\x03sex\\x12\\x08\\n\\x06\\n\\x04Male\\n\\x18\\n\\x0ccapital-gain\\x12\\x08\\x12\\x06\\n\\x04\\x00\\x00\\x00\\x00\\n\\x1e\\n\\x0emarital-status\\x12\\x0c\\n\\n\\n\\x08Divorced\\n#\\n\\x0enative-country\\x12\\x11\\n\\x0f\\n\\rUnited-States'],\n",
       "      dtype=object)>"
      ]
     },
     "execution_count": 13,
     "metadata": {},
     "output_type": "execute_result"
    }
   ],
   "source": [
    "serialized_example_batch = tf.constant([\n",
    "  encode_example(pandas_train.loc[i]).SerializeToString()\n",
    "  for i in range(3)\n",
    "])\n",
    "\n",
    "serialized_example_batch"
   ]
  },
  {
   "cell_type": "markdown",
   "metadata": {
    "id": "DTqlJcI_m6az"
   },
   "source": [
    "You can also convert batches of serialized Example protos back into a dictionary of tensors:"
   ]
  },
  {
   "cell_type": "code",
   "execution_count": 14,
   "metadata": {
    "id": "jXlrur1vc4n_"
   },
   "outputs": [],
   "source": [
    "decoded_tensors = tf.io.parse_example(\n",
    "    serialized_example_batch,\n",
    "    features=RAW_DATA_FEATURE_SPEC\n",
    ")"
   ]
  },
  {
   "cell_type": "markdown",
   "metadata": {
    "id": "eUAcdCrEdDe3"
   },
   "source": [
    "In some cases the label will not be passed in, so the encode function is written so that the label is optional:"
   ]
  },
  {
   "cell_type": "code",
   "execution_count": 15,
   "metadata": {
    "colab": {
     "base_uri": "https://localhost:8080/"
    },
    "id": "EEt3nPr_o59f",
    "outputId": "038e5306-914e-4af5-9cb8-fd9c007ad1cf"
   },
   "outputs": [
    {
     "data": {
      "text/plain": [
       "False"
      ]
     },
     "execution_count": 15,
     "metadata": {},
     "output_type": "execute_result"
    }
   ],
   "source": [
    "features_dict = dict(pandas_train.loc[0])\n",
    "features_dict.pop(LABEL_KEY)\n",
    "\n",
    "LABEL_KEY in features_dict"
   ]
  },
  {
   "cell_type": "markdown",
   "metadata": {
    "id": "O0yqvsHtpDdX"
   },
   "source": [
    "When creating an `Example` proto it will simply not contain the label key. "
   ]
  },
  {
   "cell_type": "code",
   "execution_count": 16,
   "metadata": {
    "colab": {
     "base_uri": "https://localhost:8080/"
    },
    "id": "7N5FMXO7dRzM",
    "outputId": "c523bfdc-29c9-4230-a820-12a29e1b3977"
   },
   "outputs": [
    {
     "data": {
      "text/plain": [
       "False"
      ]
     },
     "execution_count": 16,
     "metadata": {},
     "output_type": "execute_result"
    }
   ],
   "source": [
    "no_label_example = encode_example(features_dict)\n",
    "\n",
    "LABEL_KEY in no_label_example.features.feature.keys()"
   ]
  },
  {
   "cell_type": "markdown",
   "metadata": {
    "id": "zdXy9lo4t45d"
   },
   "source": [
    "### Setting hyperparameters and basic housekeeping\n",
    "\n",
    "Constants and hyperparameters used for training."
   ]
  },
  {
   "cell_type": "code",
   "execution_count": 17,
   "metadata": {
    "id": "8WHyOkC9uL71"
   },
   "outputs": [],
   "source": [
    "NUM_OOV_BUCKETS = 1\n",
    "\n",
    "EPOCH_SPLITS = 10\n",
    "TRAIN_NUM_EPOCHS = 2*EPOCH_SPLITS\n",
    "NUM_TRAIN_INSTANCES = len(pandas_train)\n",
    "NUM_TEST_INSTANCES = len(pandas_test)\n",
    "\n",
    "BATCH_SIZE = 128\n",
    "\n",
    "STEPS_PER_TRAIN_EPOCH = tf.math.ceil(NUM_TRAIN_INSTANCES/BATCH_SIZE/EPOCH_SPLITS)\n",
    "EVALUATION_STEPS = tf.math.ceil(NUM_TEST_INSTANCES/BATCH_SIZE)\n",
    "\n",
    "# Names of temp files\n",
    "TRANSFORMED_TRAIN_DATA_FILEBASE = 'train_transformed'\n",
    "TRANSFORMED_TEST_DATA_FILEBASE = 'test_transformed'\n",
    "EXPORTED_MODEL_DIR = 'exported_model_dir'"
   ]
  },
  {
   "cell_type": "code",
   "execution_count": 18,
   "metadata": {
    "id": "lG2uO-88c6R9"
   },
   "outputs": [],
   "source": [
    "if testing:\n",
    "  TRAIN_NUM_EPOCHS = 1"
   ]
  },
  {
   "cell_type": "markdown",
   "metadata": {
    "id": "0a1ns5KswDb2"
   },
   "source": [
    "## Preprocessing with `tf.Transform`"
   ]
  },
  {
   "cell_type": "markdown",
   "metadata": {
    "id": "KKd3mCLNVYmg"
   },
   "source": [
    "### Create a `tf.Transform` preprocessing_fn\n",
    "\n",
    "The _preprocessing function_ is the most important concept of tf.Transform. A preprocessing function is where the transformation of the dataset really happens. It accepts and returns a dictionary of tensors, where a tensor means a [`Tensor`](https://www.tensorflow.org/versions/r1.15/api_docs/python/tf/Tensor) or [`SparseTensor`](https://www.tensorflow.org/versions/r1.15/api_docs/python/tf/SparseTensor). There are two main groups of API calls that typically form the heart of a preprocessing function:\n",
    "\n",
    "1. **TensorFlow Ops:** Any function that accepts and returns tensors, which usually means TensorFlow ops. These add TensorFlow operations to the graph that transforms raw data into transformed data one feature vector at a time.  These will run for every example, during both training and serving.\n",
    "2. **Tensorflow Transform Analyzers/Mappers:** Any of the analyzers/mappers provided by tf.Transform. These also accept and return tensors, and typically contain a combination of Tensorflow ops and Beam computation, but unlike TensorFlow ops they only run in the Beam pipeline during analysis requiring a full pass over the entire training dataset. The Beam computation runs only once, (prior to training, during analysis), and typically make a full pass over the entire training dataset. They create `tf.constant` tensors, which are added to your graph. For example, `tft.min` computes the minimum of a tensor over the training dataset.\n"
   ]
  },
  {
   "cell_type": "markdown",
   "metadata": {
    "id": "DZopPfpaH4sB"
   },
   "source": [
    "Here is a `preprocessing_fn` for this dataset. It does several things:\n",
    "\n",
    "1. Using `tft.scale_to_0_1`, it scales the numeric features to the `[0,1]` range.\n",
    "2. Using `tft.compute_and_apply_vocabulary`, it computes a vocabulary for each of the categorical features, and returns the integer IDs for each input as an `tf.int64`. This applies both to string and integer categorical-inputs.\n",
    "3. It applies some manual transformations to the data using standard TensorFlow operations. Here these operations are applied to the label but could transform the features as well. The TensorFlow operations do several things:   \n",
    "  * They build a lookup table for the label (the `tf.init_scope` ensures that the table is only created the first time the function is called).\n",
    "  * They normalize the text of the label.\n",
    "  * They convert the label to a one-hot. \n"
   ]
  },
  {
   "cell_type": "code",
   "execution_count": 19,
   "metadata": {
    "id": "LDrzuYH0WFc2"
   },
   "outputs": [],
   "source": [
    "def preprocessing_fn(inputs):\n",
    "  \"\"\"Preprocess input columns into transformed columns.\"\"\"\n",
    "  # Since you are modifying some features and leaving others unchanged, you\n",
    "  # start by setting `outputs` to a copy of `inputs.\n",
    "  outputs = inputs.copy()\n",
    "\n",
    "  # Scale numeric columns to have range [0, 1].\n",
    "  for key in NUMERIC_FEATURE_KEYS:\n",
    "    outputs[key] = tft.scale_to_0_1(inputs[key])\n",
    "\n",
    "  # For all categorical columns except the label column, you generate a\n",
    "  # vocabulary but do not modify the feature.  This vocabulary is instead\n",
    "  # used in the trainer, by means of a feature column, to convert the feature\n",
    "  # from a string to an integer id.\n",
    "  for key in CATEGORICAL_FEATURE_KEYS:\n",
    "    outputs[key] = tft.compute_and_apply_vocabulary(\n",
    "        tf.strings.strip(inputs[key]),\n",
    "        num_oov_buckets=NUM_OOV_BUCKETS,\n",
    "        vocab_filename=key)\n",
    "\n",
    "  # For the label column you provide the mapping from string to index.\n",
    "  table_keys = ['>50K', '<=50K']\n",
    "  with tf.init_scope():\n",
    "    initializer = tf.lookup.KeyValueTensorInitializer(\n",
    "        keys=table_keys,\n",
    "        values=tf.cast(tf.range(len(table_keys)), tf.int64),\n",
    "        key_dtype=tf.string,\n",
    "        value_dtype=tf.int64)\n",
    "    table = tf.lookup.StaticHashTable(initializer, default_value=-1)\n",
    "\n",
    "  # Remove trailing periods for test data when the data is read with tf.data.\n",
    "  # label_str  = tf.sparse.to_dense(inputs[LABEL_KEY])\n",
    "  label_str = inputs[LABEL_KEY]\n",
    "  label_str = tf.strings.regex_replace(label_str, r'\\.$', '')\n",
    "  label_str = tf.strings.strip(label_str)\n",
    "  data_labels = table.lookup(label_str)\n",
    "  transformed_label = tf.one_hot(\n",
    "      indices=data_labels, depth=len(table_keys), on_value=1.0, off_value=0.0)\n",
    "  outputs[LABEL_KEY] = tf.reshape(transformed_label, [-1, len(table_keys)])\n",
    "\n",
    "  return outputs"
   ]
  },
  {
   "cell_type": "markdown",
   "metadata": {
    "id": "sA1Eg2JXFzzZ"
   },
   "source": [
    "## Syntax\n",
    "\n",
    "You're almost ready to put everything together and use <a target='_blank' href='https://beam.apache.org/'>Apache Beam</a> to run it.\n",
    "\n",
    "Apache Beam uses a <a target='_blank' href='https://beam.apache.org/documentation/programming-guide/#applying-transforms'>special syntax to define and invoke transforms</a>.  For example, in this line:\n",
    "\n",
    "```\n",
    "result = pass_this | 'name this step' >> to_this_call\n",
    "```\n",
    "\n",
    "The method `to_this_call` is being invoked and passed the object called `pass_this`, and <a target='_blank' href='https://stackoverflow.com/questions/50519662/what-does-the-redirection-mean-in-apache-beam-python'>this operation will be referred to as `name this step` in a stack trace</a>.  The result of the call to `to_this_call` is returned in `result`.  You will often see stages of a pipeline chained together like this:\n",
    "\n",
    "```\n",
    "result = apache_beam.Pipeline() | 'first step' >> do_this_first() | 'second step' >> do_this_last()\n",
    "```\n",
    "\n",
    "and since that started with a new pipeline, you can continue like this:\n",
    "\n",
    "```\n",
    "next_result = result | 'doing more stuff' >> another_function()\n",
    "```"
   ]
  },
  {
   "cell_type": "markdown",
   "metadata": {
    "id": "rgAGOAdFWRn2"
   },
   "source": [
    "### Transform the data\n",
    "\n",
    "Now you're ready to start transforming our data in an Apache Beam pipeline.\n",
    "\n",
    "1. Read in the data using the `tfxio.CsvTFXIO` CSV reader (to process lines of text in a pipeline use `tfxio.BeamRecordCsvTFXIO` instead).\n",
    "1. Analyse and transform the data using the `preprocessing_fn` defined above.\n",
    "1. Write out the result as a `TFRecord` of `Example` protos, which you will use for training a model later\n"
   ]
  },
  {
   "cell_type": "code",
   "execution_count": 20,
   "metadata": {
    "id": "PCeYucVoRRfo"
   },
   "outputs": [],
   "source": [
    "def transform_data(train_data_file, test_data_file, working_dir):\n",
    "  \"\"\"Transform the data and write out as a TFRecord of Example protos.\n",
    "\n",
    "  Read in the data using the CSV reader, and transform it using a\n",
    "  preprocessing pipeline that scales numeric data and converts categorical data\n",
    "  from strings to int64 values indices, by creating a vocabulary for each\n",
    "  category.\n",
    "\n",
    "  Args:\n",
    "    train_data_file: File containing training data\n",
    "    test_data_file: File containing test data\n",
    "    working_dir: Directory to write transformed data and metadata to\n",
    "  \"\"\"\n",
    "\n",
    "  # The \"with\" block will create a pipeline, and run that pipeline at the exit\n",
    "  # of the block.\n",
    "  with beam.Pipeline() as pipeline:\n",
    "    with tft_beam.Context(temp_dir=tempfile.mkdtemp()):\n",
    "      # Create a TFXIO to read the census data with the schema. To do this you\n",
    "      # need to list all columns in order since the schema doesn't specify the\n",
    "      # order of columns in the csv.\n",
    "      # You first read CSV files and use BeamRecordCsvTFXIO whose .BeamSource()\n",
    "      # accepts a PCollection[bytes] because you need to patch the records first\n",
    "      # (see \"FixCommasTrainData\" below). Otherwise, tfxio.CsvTFXIO can be used\n",
    "      # to both read the CSV files and parse them to TFT inputs:\n",
    "      # csv_tfxio = tfxio.CsvTFXIO(...)\n",
    "      # raw_data = (pipeline | 'ToRecordBatches' >> csv_tfxio.BeamSource())\n",
    "      train_csv_tfxio = tfxio.CsvTFXIO(\n",
    "          file_pattern=train_data_file,\n",
    "          telemetry_descriptors=[],\n",
    "          column_names=ORDERED_CSV_COLUMNS,\n",
    "          schema=SCHEMA)\n",
    "\n",
    "      # Read in raw data and convert using CSV TFXIO.\n",
    "      raw_data = (\n",
    "          pipeline |\n",
    "          'ReadTrainCsv' >> train_csv_tfxio.BeamSource())\n",
    "\n",
    "      # Combine data and schema into a dataset tuple.  Note that you already used\n",
    "      # the schema to read the CSV data, but you also need it to interpret\n",
    "      # raw_data.\n",
    "      cfg = train_csv_tfxio.TensorAdapterConfig()\n",
    "      raw_dataset = (raw_data, cfg)\n",
    "\n",
    "      # The TFXIO output format is chosen for improved performance.\n",
    "      transformed_dataset, transform_fn = (\n",
    "          raw_dataset | tft_beam.AnalyzeAndTransformDataset(\n",
    "              preprocessing_fn, output_record_batches=True))\n",
    "\n",
    "      # Transformed metadata is not necessary for encoding.\n",
    "      transformed_data, _ = transformed_dataset\n",
    "\n",
    "      # Extract transformed RecordBatches, encode and write them to the given\n",
    "      # directory.\n",
    "      # TODO(b/223384488): Switch to `RecordBatchToExamplesEncoder`.\n",
    "      _ = (\n",
    "          transformed_data\n",
    "          | 'EncodeTrainData' >>\n",
    "          beam.FlatMapTuple(lambda batch, _: RecordBatchToExamples(batch))\n",
    "          | 'WriteTrainData' >> beam.io.WriteToTFRecord(\n",
    "              os.path.join(working_dir, TRANSFORMED_TRAIN_DATA_FILEBASE)))\n",
    "\n",
    "      # Now apply transform function to test data.  In this case you remove the\n",
    "      # trailing period at the end of each line, and also ignore the header line\n",
    "      # that is present in the test data file.\n",
    "      test_csv_tfxio = tfxio.CsvTFXIO(\n",
    "          file_pattern=test_data_file,\n",
    "          skip_header_lines=1,\n",
    "          telemetry_descriptors=[],\n",
    "          column_names=ORDERED_CSV_COLUMNS,\n",
    "          schema=SCHEMA)\n",
    "      raw_test_data = (\n",
    "          pipeline\n",
    "          | 'ReadTestCsv' >> test_csv_tfxio.BeamSource())\n",
    "\n",
    "      raw_test_dataset = (raw_test_data, test_csv_tfxio.TensorAdapterConfig())\n",
    "\n",
    "      # The TFXIO output format is chosen for improved performance.\n",
    "      transformed_test_dataset = (\n",
    "          (raw_test_dataset, transform_fn)\n",
    "          | tft_beam.TransformDataset(output_record_batches=True))\n",
    "\n",
    "      # Transformed metadata is not necessary for encoding.\n",
    "      transformed_test_data, _ = transformed_test_dataset\n",
    "\n",
    "      # Extract transformed RecordBatches, encode and write them to the given\n",
    "      # directory.\n",
    "      _ = (\n",
    "          transformed_test_data\n",
    "          | 'EncodeTestData' >>\n",
    "          beam.FlatMapTuple(lambda batch, _: RecordBatchToExamples(batch))\n",
    "          | 'WriteTestData' >> beam.io.WriteToTFRecord(\n",
    "              os.path.join(working_dir, TRANSFORMED_TEST_DATA_FILEBASE)))\n",
    "\n",
    "      # Will write a SavedModel and metadata to working_dir, which can then\n",
    "      # be read by the tft.TFTransformOutput class.\n",
    "      _ = (\n",
    "          transform_fn\n",
    "          | 'WriteTransformFn' >> tft_beam.WriteTransformFn(working_dir))"
   ]
  },
  {
   "cell_type": "markdown",
   "metadata": {
    "id": "huaj5EgCVRD9"
   },
   "source": [
    "Run the pipeline:"
   ]
  },
  {
   "cell_type": "code",
   "execution_count": 21,
   "metadata": {
    "colab": {
     "base_uri": "https://localhost:8080/",
     "height": 600
    },
    "id": "pjC7eDWFyA8K",
    "outputId": "a6178835-71ef-4a68-bc19-1ae28f508be7"
   },
   "outputs": [
    {
     "name": "stderr",
     "output_type": "stream",
     "text": [
      "WARNING:apache_beam.runners.interactive.interactive_environment:Dependencies required for Interactive Beam PCollection visualization are not available, please use: `pip install apache-beam[interactive]` to install necessary dependencies to enable all data visualization features.\n"
     ]
    },
    {
     "data": {
      "application/javascript": [
       "\n",
       "        if (typeof window.interactive_beam_jquery == 'undefined') {\n",
       "          var jqueryScript = document.createElement('script');\n",
       "          jqueryScript.src = 'https://code.jquery.com/jquery-3.4.1.slim.min.js';\n",
       "          jqueryScript.type = 'text/javascript';\n",
       "          jqueryScript.onload = function() {\n",
       "            var datatableScript = document.createElement('script');\n",
       "            datatableScript.src = 'https://cdn.datatables.net/1.10.20/js/jquery.dataTables.min.js';\n",
       "            datatableScript.type = 'text/javascript';\n",
       "            datatableScript.onload = function() {\n",
       "              window.interactive_beam_jquery = jQuery.noConflict(true);\n",
       "              window.interactive_beam_jquery(document).ready(function($){\n",
       "                \n",
       "              });\n",
       "            }\n",
       "            document.head.appendChild(datatableScript);\n",
       "          };\n",
       "          document.head.appendChild(jqueryScript);\n",
       "        } else {\n",
       "          window.interactive_beam_jquery(document).ready(function($){\n",
       "            \n",
       "          });\n",
       "        }"
      ]
     },
     "metadata": {},
     "output_type": "display_data"
    },
    {
     "name": "stdout",
     "output_type": "stream",
     "text": [
      "WARNING:tensorflow:From /opt/conda/lib/python3.7/site-packages/tensorflow_transform/tf_utils.py:326: Tensor.experimental_ref (from tensorflow.python.framework.ops) is deprecated and will be removed in a future version.\n",
      "Instructions for updating:\n",
      "Use ref() instead.\n"
     ]
    },
    {
     "name": "stderr",
     "output_type": "stream",
     "text": [
      "WARNING:tensorflow:From /opt/conda/lib/python3.7/site-packages/tensorflow_transform/tf_utils.py:326: Tensor.experimental_ref (from tensorflow.python.framework.ops) is deprecated and will be removed in a future version.\n",
      "Instructions for updating:\n",
      "Use ref() instead.\n",
      "WARNING:root:Make sure that locally built Python SDK docker image has Python 3.7 interpreter.\n",
      "2022-05-30 14:07:03.971040: W tensorflow/python/util/util.cc:368] Sets are not currently considered sequences, but this may change in the future, so consider avoiding using them.\n"
     ]
    },
    {
     "name": "stdout",
     "output_type": "stream",
     "text": [
      "INFO:tensorflow:Assets written to: /tmp/tmpi_fen3nh/tftransform_tmp/9faa28377b124b27ba0efb8398a7526a/assets\n"
     ]
    },
    {
     "name": "stderr",
     "output_type": "stream",
     "text": [
      "INFO:tensorflow:Assets written to: /tmp/tmpi_fen3nh/tftransform_tmp/9faa28377b124b27ba0efb8398a7526a/assets\n"
     ]
    },
    {
     "name": "stdout",
     "output_type": "stream",
     "text": [
      "INFO:tensorflow:struct2tensor is not available.\n"
     ]
    },
    {
     "name": "stderr",
     "output_type": "stream",
     "text": [
      "INFO:tensorflow:struct2tensor is not available.\n"
     ]
    },
    {
     "name": "stdout",
     "output_type": "stream",
     "text": [
      "INFO:tensorflow:tensorflow_decision_forests is not available.\n"
     ]
    },
    {
     "name": "stderr",
     "output_type": "stream",
     "text": [
      "INFO:tensorflow:tensorflow_decision_forests is not available.\n"
     ]
    },
    {
     "name": "stdout",
     "output_type": "stream",
     "text": [
      "INFO:tensorflow:tensorflow_text is not available.\n"
     ]
    },
    {
     "name": "stderr",
     "output_type": "stream",
     "text": [
      "INFO:tensorflow:tensorflow_text is not available.\n"
     ]
    },
    {
     "name": "stdout",
     "output_type": "stream",
     "text": [
      "INFO:tensorflow:Assets written to: /tmp/tmpi_fen3nh/tftransform_tmp/4b8abedd80c94c9c8ea7e72429d414ef/assets\n"
     ]
    },
    {
     "name": "stderr",
     "output_type": "stream",
     "text": [
      "INFO:tensorflow:Assets written to: /tmp/tmpi_fen3nh/tftransform_tmp/4b8abedd80c94c9c8ea7e72429d414ef/assets\n"
     ]
    },
    {
     "name": "stdout",
     "output_type": "stream",
     "text": [
      "INFO:tensorflow:struct2tensor is not available.\n"
     ]
    },
    {
     "name": "stderr",
     "output_type": "stream",
     "text": [
      "INFO:tensorflow:struct2tensor is not available.\n"
     ]
    },
    {
     "name": "stdout",
     "output_type": "stream",
     "text": [
      "INFO:tensorflow:tensorflow_decision_forests is not available.\n"
     ]
    },
    {
     "name": "stderr",
     "output_type": "stream",
     "text": [
      "INFO:tensorflow:tensorflow_decision_forests is not available.\n"
     ]
    },
    {
     "name": "stdout",
     "output_type": "stream",
     "text": [
      "INFO:tensorflow:tensorflow_text is not available.\n"
     ]
    },
    {
     "name": "stderr",
     "output_type": "stream",
     "text": [
      "INFO:tensorflow:tensorflow_text is not available.\n",
      "WARNING:apache_beam.io.tfrecordio:Couldn't find python-snappy so the implementation of _TFRecordUtil._masked_crc32c is not as fast as it could be.\n"
     ]
    },
    {
     "name": "stdout",
     "output_type": "stream",
     "text": [
      "INFO:tensorflow:struct2tensor is not available.\n"
     ]
    },
    {
     "name": "stderr",
     "output_type": "stream",
     "text": [
      "INFO:tensorflow:struct2tensor is not available.\n"
     ]
    },
    {
     "name": "stdout",
     "output_type": "stream",
     "text": [
      "INFO:tensorflow:tensorflow_decision_forests is not available.\n"
     ]
    },
    {
     "name": "stderr",
     "output_type": "stream",
     "text": [
      "INFO:tensorflow:tensorflow_decision_forests is not available.\n"
     ]
    },
    {
     "name": "stdout",
     "output_type": "stream",
     "text": [
      "INFO:tensorflow:tensorflow_text is not available.\n"
     ]
    },
    {
     "name": "stderr",
     "output_type": "stream",
     "text": [
      "INFO:tensorflow:tensorflow_text is not available.\n"
     ]
    }
   ],
   "source": [
    "# TODO 1\n",
    "import tempfile\n",
    "import pathlib\n",
    "\n",
    "output_dir = os.path.join(tempfile.mkdtemp(), 'keras')\n",
    "\n",
    "# Transform the data\n",
    "transform_data(train_path, test_path, output_dir)"
   ]
  },
  {
   "cell_type": "markdown",
   "metadata": {
    "id": "iqln2AClsA0z"
   },
   "source": [
    "Wrap up the output directory as a `tft.TFTransformOutput`:"
   ]
  },
  {
   "cell_type": "code",
   "execution_count": 22,
   "metadata": {
    "id": "FXd4Mgj6sAGB"
   },
   "outputs": [],
   "source": [
    "tf_transform_output = tft.TFTransformOutput(output_dir)"
   ]
  },
  {
   "cell_type": "code",
   "execution_count": 23,
   "metadata": {
    "colab": {
     "base_uri": "https://localhost:8080/"
    },
    "id": "59hNe7oY9vqG",
    "outputId": "45d1e097-2e92-44a1-e220-85fcbc24edb8"
   },
   "outputs": [
    {
     "data": {
      "text/plain": [
       "{'age': FixedLenFeature(shape=[], dtype=tf.float32, default_value=None),\n",
       " 'capital-gain': FixedLenFeature(shape=[], dtype=tf.float32, default_value=None),\n",
       " 'capital-loss': FixedLenFeature(shape=[], dtype=tf.float32, default_value=None),\n",
       " 'education': FixedLenFeature(shape=[], dtype=tf.int64, default_value=None),\n",
       " 'education-num': FixedLenFeature(shape=[], dtype=tf.float32, default_value=None),\n",
       " 'hours-per-week': FixedLenFeature(shape=[], dtype=tf.float32, default_value=None),\n",
       " 'label': FixedLenFeature(shape=[2], dtype=tf.float32, default_value=None),\n",
       " 'marital-status': FixedLenFeature(shape=[], dtype=tf.int64, default_value=None),\n",
       " 'native-country': FixedLenFeature(shape=[], dtype=tf.int64, default_value=None),\n",
       " 'occupation': FixedLenFeature(shape=[], dtype=tf.int64, default_value=None),\n",
       " 'race': FixedLenFeature(shape=[], dtype=tf.int64, default_value=None),\n",
       " 'relationship': FixedLenFeature(shape=[], dtype=tf.int64, default_value=None),\n",
       " 'sex': FixedLenFeature(shape=[], dtype=tf.int64, default_value=None),\n",
       " 'workclass': FixedLenFeature(shape=[], dtype=tf.int64, default_value=None)}"
      ]
     },
     "execution_count": 23,
     "metadata": {},
     "output_type": "execute_result"
    }
   ],
   "source": [
    "tf_transform_output.transformed_feature_spec()"
   ]
  },
  {
   "cell_type": "markdown",
   "metadata": {
    "id": "oBBlL2EIVVF8"
   },
   "source": [
    "If you look in the directory you'll see it contains three things:\n",
    "\n",
    "1. The `train_transformed` and `test_transformed` data files\n",
    "2. The `transform_fn` directory (a `tf.saved_model`)\n",
    "3. The `transformed_metadata` \n",
    "\n",
    "The followning sections show how to use these artifacts to train a model."
   ]
  },
  {
   "cell_type": "code",
   "execution_count": 24,
   "metadata": {
    "colab": {
     "base_uri": "https://localhost:8080/"
    },
    "id": "NG6nrHEP2L65",
    "outputId": "039548ff-6091-44f5-ebba-53132c803659"
   },
   "outputs": [
    {
     "name": "stdout",
     "output_type": "stream",
     "text": [
      "total 15704\n",
      "-rw-r--r-- 1 jupyter jupyter  5356449 May 30 14:07 test_transformed-00000-of-00001\n",
      "-rw-r--r-- 1 jupyter jupyter 10712569 May 30 14:07 train_transformed-00000-of-00001\n",
      "drwxr-xr-x 4 jupyter jupyter     4096 May 30 14:07 transform_fn\n",
      "drwxr-xr-x 2 jupyter jupyter     4096 May 30 14:07 transformed_metadata\n"
     ]
    }
   ],
   "source": [
    "!ls -l {output_dir}"
   ]
  },
  {
   "cell_type": "markdown",
   "metadata": {
    "id": "TnaMyRMJ03bR"
   },
   "source": [
    "##Using our preprocessed data to train a model using tf.keras\n",
    "\n",
    "To show how `tf.Transform` enables us to use the same code for both training and serving, and thus prevent skew, you're going to train a model.  To train our model and prepare our trained model for production you need to create input functions.  The main difference between our training input function and our serving input function is that training data contains the labels, and production data does not.  The arguments and returns are also somewhat different."
   ]
  },
  {
   "cell_type": "markdown",
   "metadata": {
    "id": "M8xCZKNc2wAS"
   },
   "source": [
    "### Create an input function for training"
   ]
  },
  {
   "cell_type": "markdown",
   "metadata": {
    "id": "StezlX-Uv0ae"
   },
   "source": [
    "Running the pipeline in the previous section created `TFRecord` files containing the the transformed data.\n",
    "\n",
    "The following code uses `tf.data.experimental.make_batched_features_dataset` and `tft.TFTransformOutput.transformed_feature_spec` to read these data files as a `tf.data.Dataset`:"
   ]
  },
  {
   "cell_type": "code",
   "execution_count": 25,
   "metadata": {
    "id": "775Y7BTpHBmb"
   },
   "outputs": [],
   "source": [
    "def _make_training_input_fn(tf_transform_output, train_file_pattern,\n",
    "                            batch_size):\n",
    "  \"\"\"An input function reading from transformed data, converting to model input.\n",
    "\n",
    "  Args:\n",
    "    tf_transform_output: Wrapper around output of tf.Transform.\n",
    "    transformed_examples: Base filename of examples.\n",
    "    batch_size: Batch size.\n",
    "\n",
    "  Returns:\n",
    "    The input data for training or eval, in the form of k.\n",
    "  \"\"\"\n",
    "  def input_fn():\n",
    "    return tf.data.experimental.make_batched_features_dataset(\n",
    "        file_pattern=train_file_pattern,\n",
    "        batch_size=batch_size,\n",
    "        features=tf_transform_output.transformed_feature_spec(),\n",
    "        reader=tf.data.TFRecordDataset,\n",
    "        label_key=LABEL_KEY,\n",
    "        shuffle=True)\n",
    "\n",
    "  return input_fn"
   ]
  },
  {
   "cell_type": "code",
   "execution_count": 26,
   "metadata": {
    "id": "-b8BgvBvkCnX"
   },
   "outputs": [],
   "source": [
    "# TODO 2\n",
    "train_file_pattern = pathlib.Path(output_dir)/f'{TRANSFORMED_TRAIN_DATA_FILEBASE}*'\n",
    "\n",
    "# Create the input function\n",
    "input_fn = _make_training_input_fn(\n",
    "    tf_transform_output=tf_transform_output,\n",
    "    train_file_pattern = str(train_file_pattern),\n",
    "    batch_size = 10\n",
    ")"
   ]
  },
  {
   "cell_type": "markdown",
   "metadata": {
    "id": "Q0PwPLBqxsg2"
   },
   "source": [
    "Below you can see a transformed sample of the data. Note how the numeric columns like `education-num` and `hourd-per-week` are converted to floats with a range of [0,1], and the string columns have been converted to IDs:"
   ]
  },
  {
   "cell_type": "code",
   "execution_count": 27,
   "metadata": {
    "colab": {
     "base_uri": "https://localhost:8080/",
     "height": 424
    },
    "id": "SpiS26IWlD-1",
    "outputId": "59001a69-6dd4-4d5e-be5c-787fc4ab9292"
   },
   "outputs": [
    {
     "data": {
      "text/html": [
       "<div>\n",
       "<style scoped>\n",
       "    .dataframe tbody tr th:only-of-type {\n",
       "        vertical-align: middle;\n",
       "    }\n",
       "\n",
       "    .dataframe tbody tr th {\n",
       "        vertical-align: top;\n",
       "    }\n",
       "\n",
       "    .dataframe thead th {\n",
       "        text-align: right;\n",
       "    }\n",
       "</style>\n",
       "<table border=\"1\" class=\"dataframe\">\n",
       "  <thead>\n",
       "    <tr style=\"text-align: right;\">\n",
       "      <th></th>\n",
       "      <th>age</th>\n",
       "      <th>capital-gain</th>\n",
       "      <th>capital-loss</th>\n",
       "      <th>education</th>\n",
       "      <th>education-num</th>\n",
       "      <th>hours-per-week</th>\n",
       "      <th>marital-status</th>\n",
       "      <th>native-country</th>\n",
       "      <th>occupation</th>\n",
       "      <th>race</th>\n",
       "      <th>relationship</th>\n",
       "      <th>sex</th>\n",
       "      <th>workclass</th>\n",
       "    </tr>\n",
       "  </thead>\n",
       "  <tbody>\n",
       "    <tr>\n",
       "      <th>0</th>\n",
       "      <td>0.287671</td>\n",
       "      <td>0.0</td>\n",
       "      <td>0.000000</td>\n",
       "      <td>4</td>\n",
       "      <td>0.666667</td>\n",
       "      <td>0.357143</td>\n",
       "      <td>0</td>\n",
       "      <td>3</td>\n",
       "      <td>0</td>\n",
       "      <td>2</td>\n",
       "      <td>0</td>\n",
       "      <td>0</td>\n",
       "      <td>0</td>\n",
       "    </tr>\n",
       "    <tr>\n",
       "      <th>1</th>\n",
       "      <td>0.287671</td>\n",
       "      <td>0.0</td>\n",
       "      <td>0.000000</td>\n",
       "      <td>1</td>\n",
       "      <td>0.600000</td>\n",
       "      <td>0.397959</td>\n",
       "      <td>0</td>\n",
       "      <td>0</td>\n",
       "      <td>2</td>\n",
       "      <td>0</td>\n",
       "      <td>0</td>\n",
       "      <td>0</td>\n",
       "      <td>4</td>\n",
       "    </tr>\n",
       "    <tr>\n",
       "      <th>2</th>\n",
       "      <td>0.232877</td>\n",
       "      <td>0.0</td>\n",
       "      <td>0.000000</td>\n",
       "      <td>1</td>\n",
       "      <td>0.600000</td>\n",
       "      <td>0.500000</td>\n",
       "      <td>2</td>\n",
       "      <td>0</td>\n",
       "      <td>3</td>\n",
       "      <td>0</td>\n",
       "      <td>3</td>\n",
       "      <td>1</td>\n",
       "      <td>1</td>\n",
       "    </tr>\n",
       "    <tr>\n",
       "      <th>3</th>\n",
       "      <td>0.684932</td>\n",
       "      <td>0.0</td>\n",
       "      <td>0.000000</td>\n",
       "      <td>2</td>\n",
       "      <td>0.800000</td>\n",
       "      <td>0.071429</td>\n",
       "      <td>0</td>\n",
       "      <td>0</td>\n",
       "      <td>2</td>\n",
       "      <td>0</td>\n",
       "      <td>0</td>\n",
       "      <td>0</td>\n",
       "      <td>1</td>\n",
       "    </tr>\n",
       "    <tr>\n",
       "      <th>4</th>\n",
       "      <td>0.082192</td>\n",
       "      <td>0.0</td>\n",
       "      <td>0.000000</td>\n",
       "      <td>1</td>\n",
       "      <td>0.600000</td>\n",
       "      <td>0.346939</td>\n",
       "      <td>1</td>\n",
       "      <td>16</td>\n",
       "      <td>5</td>\n",
       "      <td>2</td>\n",
       "      <td>1</td>\n",
       "      <td>1</td>\n",
       "      <td>0</td>\n",
       "    </tr>\n",
       "    <tr>\n",
       "      <th>5</th>\n",
       "      <td>0.397260</td>\n",
       "      <td>0.0</td>\n",
       "      <td>0.518366</td>\n",
       "      <td>6</td>\n",
       "      <td>0.733333</td>\n",
       "      <td>0.377551</td>\n",
       "      <td>2</td>\n",
       "      <td>0</td>\n",
       "      <td>3</td>\n",
       "      <td>0</td>\n",
       "      <td>3</td>\n",
       "      <td>0</td>\n",
       "      <td>4</td>\n",
       "    </tr>\n",
       "    <tr>\n",
       "      <th>6</th>\n",
       "      <td>0.479452</td>\n",
       "      <td>0.0</td>\n",
       "      <td>0.000000</td>\n",
       "      <td>4</td>\n",
       "      <td>0.666667</td>\n",
       "      <td>0.397959</td>\n",
       "      <td>0</td>\n",
       "      <td>0</td>\n",
       "      <td>1</td>\n",
       "      <td>0</td>\n",
       "      <td>0</td>\n",
       "      <td>0</td>\n",
       "      <td>0</td>\n",
       "    </tr>\n",
       "    <tr>\n",
       "      <th>7</th>\n",
       "      <td>0.493151</td>\n",
       "      <td>0.0</td>\n",
       "      <td>0.436639</td>\n",
       "      <td>2</td>\n",
       "      <td>0.800000</td>\n",
       "      <td>0.551020</td>\n",
       "      <td>0</td>\n",
       "      <td>0</td>\n",
       "      <td>2</td>\n",
       "      <td>0</td>\n",
       "      <td>0</td>\n",
       "      <td>0</td>\n",
       "      <td>0</td>\n",
       "    </tr>\n",
       "    <tr>\n",
       "      <th>8</th>\n",
       "      <td>0.301370</td>\n",
       "      <td>0.0</td>\n",
       "      <td>0.000000</td>\n",
       "      <td>0</td>\n",
       "      <td>0.533333</td>\n",
       "      <td>0.479592</td>\n",
       "      <td>1</td>\n",
       "      <td>0</td>\n",
       "      <td>6</td>\n",
       "      <td>0</td>\n",
       "      <td>3</td>\n",
       "      <td>0</td>\n",
       "      <td>0</td>\n",
       "    </tr>\n",
       "    <tr>\n",
       "      <th>9</th>\n",
       "      <td>0.232877</td>\n",
       "      <td>0.0</td>\n",
       "      <td>0.000000</td>\n",
       "      <td>0</td>\n",
       "      <td>0.533333</td>\n",
       "      <td>0.244898</td>\n",
       "      <td>2</td>\n",
       "      <td>0</td>\n",
       "      <td>0</td>\n",
       "      <td>0</td>\n",
       "      <td>3</td>\n",
       "      <td>1</td>\n",
       "      <td>0</td>\n",
       "    </tr>\n",
       "  </tbody>\n",
       "</table>\n",
       "</div>"
      ],
      "text/plain": [
       "        age  capital-gain  capital-loss  education  education-num  \\\n",
       "0  0.287671           0.0      0.000000          4       0.666667   \n",
       "1  0.287671           0.0      0.000000          1       0.600000   \n",
       "2  0.232877           0.0      0.000000          1       0.600000   \n",
       "3  0.684932           0.0      0.000000          2       0.800000   \n",
       "4  0.082192           0.0      0.000000          1       0.600000   \n",
       "5  0.397260           0.0      0.518366          6       0.733333   \n",
       "6  0.479452           0.0      0.000000          4       0.666667   \n",
       "7  0.493151           0.0      0.436639          2       0.800000   \n",
       "8  0.301370           0.0      0.000000          0       0.533333   \n",
       "9  0.232877           0.0      0.000000          0       0.533333   \n",
       "\n",
       "   hours-per-week  marital-status  native-country  occupation  race  \\\n",
       "0        0.357143               0               3           0     2   \n",
       "1        0.397959               0               0           2     0   \n",
       "2        0.500000               2               0           3     0   \n",
       "3        0.071429               0               0           2     0   \n",
       "4        0.346939               1              16           5     2   \n",
       "5        0.377551               2               0           3     0   \n",
       "6        0.397959               0               0           1     0   \n",
       "7        0.551020               0               0           2     0   \n",
       "8        0.479592               1               0           6     0   \n",
       "9        0.244898               2               0           0     0   \n",
       "\n",
       "   relationship  sex  workclass  \n",
       "0             0    0          0  \n",
       "1             0    0          4  \n",
       "2             3    1          1  \n",
       "3             0    0          1  \n",
       "4             1    1          0  \n",
       "5             3    0          4  \n",
       "6             0    0          0  \n",
       "7             0    0          0  \n",
       "8             3    0          0  \n",
       "9             3    1          0  "
      ]
     },
     "execution_count": 27,
     "metadata": {},
     "output_type": "execute_result"
    }
   ],
   "source": [
    "for example, label in input_fn().take(1):\n",
    "  break\n",
    "\n",
    "pd.DataFrame(example)"
   ]
  },
  {
   "cell_type": "code",
   "execution_count": 28,
   "metadata": {
    "colab": {
     "base_uri": "https://localhost:8080/"
    },
    "id": "yaMzMnij88_v",
    "outputId": "60a3f300-05c0-4391-9134-06d4cca0279d"
   },
   "outputs": [
    {
     "data": {
      "text/plain": [
       "<tf.Tensor: shape=(10, 2), dtype=float32, numpy=\n",
       "array([[1., 0.],\n",
       "       [0., 1.],\n",
       "       [0., 1.],\n",
       "       [1., 0.],\n",
       "       [0., 1.],\n",
       "       [1., 0.],\n",
       "       [0., 1.],\n",
       "       [1., 0.],\n",
       "       [0., 1.],\n",
       "       [0., 1.]], dtype=float32)>"
      ]
     },
     "execution_count": 28,
     "metadata": {},
     "output_type": "execute_result"
    }
   ],
   "source": [
    "label"
   ]
  },
  {
   "cell_type": "markdown",
   "metadata": {
    "id": "LyNTX7CO8AAz"
   },
   "source": [
    "### Train, Evaluate the model"
   ]
  },
  {
   "cell_type": "markdown",
   "metadata": {
    "id": "hdg9jXuLWuyK"
   },
   "source": [
    "Build the model"
   ]
  },
  {
   "cell_type": "code",
   "execution_count": 29,
   "metadata": {
    "id": "uK4brUuDTAJ4"
   },
   "outputs": [],
   "source": [
    "def build_keras_model(working_dir):\n",
    "  inputs = build_keras_inputs(working_dir)\n",
    "\n",
    "  encoded_inputs = encode_inputs(inputs)\n",
    "\n",
    "  stacked_inputs = tf.concat(tf.nest.flatten(encoded_inputs), axis=1)\n",
    "  output = tf.keras.layers.Dense(100, activation='relu')(stacked_inputs)\n",
    "  output = tf.keras.layers.Dense(50, activation='relu')(output)\n",
    "  output = tf.keras.layers.Dense(2)(output)\n",
    "  model = tf.keras.Model(inputs=inputs, outputs=output)\n",
    "\n",
    "  return model"
   ]
  },
  {
   "cell_type": "code",
   "execution_count": 30,
   "metadata": {
    "id": "6fJwIbdCRFER"
   },
   "outputs": [],
   "source": [
    "def build_keras_inputs(working_dir):\n",
    "  tf_transform_output = tft.TFTransformOutput(working_dir)\n",
    "\n",
    "  feature_spec = tf_transform_output.transformed_feature_spec().copy()\n",
    "  feature_spec.pop(LABEL_KEY)\n",
    "\n",
    "  # Build the `keras.Input` objects.\n",
    "  inputs = {}\n",
    "  for key, spec in feature_spec.items():\n",
    "    if isinstance(spec, tf.io.VarLenFeature):\n",
    "      inputs[key] = tf.keras.layers.Input(\n",
    "          shape=[None], name=key, dtype=spec.dtype, sparse=True)\n",
    "    elif isinstance(spec, tf.io.FixedLenFeature):\n",
    "      inputs[key] = tf.keras.layers.Input(\n",
    "          shape=spec.shape, name=key, dtype=spec.dtype)\n",
    "    else:\n",
    "      raise ValueError('Spec type is not supported: ', key, spec)\n",
    "\n",
    "  return inputs"
   ]
  },
  {
   "cell_type": "code",
   "execution_count": 31,
   "metadata": {
    "id": "9dHD5SoqRqOh"
   },
   "outputs": [],
   "source": [
    "def encode_inputs(inputs):\n",
    "  encoded_inputs = {}\n",
    "  for key in inputs:\n",
    "    feature = tf.expand_dims(inputs[key], -1)\n",
    "    if key in CATEGORICAL_FEATURE_KEYS:\n",
    "      num_buckets = tf_transform_output.num_buckets_for_transformed_feature(key)\n",
    "      encoding_layer = (\n",
    "          tf.keras.layers.CategoryEncoding(\n",
    "              num_tokens=num_buckets, output_mode='binary', sparse=False))\n",
    "      encoded_inputs[key] = encoding_layer(feature)\n",
    "    else:\n",
    "      encoded_inputs[key] = feature\n",
    "  \n",
    "  return encoded_inputs"
   ]
  },
  {
   "cell_type": "code",
   "execution_count": 32,
   "metadata": {
    "colab": {
     "base_uri": "https://localhost:8080/",
     "height": 776
    },
    "id": "5xNhSq8lTTx3",
    "outputId": "4dd5698b-23bc-455f-b05e-248f1086f7a0"
   },
   "outputs": [
    {
     "data": {
      "image/png": "[encoded data removed]",
      "text/plain": [
       "<IPython.core.display.Image object>"
      ]
     },
     "execution_count": 32,
     "metadata": {},
     "output_type": "execute_result"
    }
   ],
   "source": [
    "model = build_keras_model(output_dir)\n",
    "\n",
    "tf.keras.utils.plot_model(model,rankdir='LR', show_shapes=True)"
   ]
  },
  {
   "cell_type": "markdown",
   "metadata": {
    "id": "kQSpw_XzXVn1"
   },
   "source": [
    "Build the datasets"
   ]
  },
  {
   "cell_type": "code",
   "execution_count": 33,
   "metadata": {
    "id": "afi3NOC0OMUa"
   },
   "outputs": [],
   "source": [
    "def get_dataset(working_dir, filebase):\n",
    "  tf_transform_output = tft.TFTransformOutput(working_dir)\n",
    "\n",
    "  data_path_pattern = os.path.join(\n",
    "      working_dir,\n",
    "      filebase + '*')\n",
    "  \n",
    "  input_fn = _make_training_input_fn(\n",
    "      tf_transform_output,\n",
    "      data_path_pattern,\n",
    "      batch_size=BATCH_SIZE)\n",
    "  \n",
    "  dataset = input_fn()\n",
    "\n",
    "  return dataset"
   ]
  },
  {
   "cell_type": "markdown",
   "metadata": {
    "id": "-fE_3jyzX_h2"
   },
   "source": [
    "Train and evaluate the model:"
   ]
  },
  {
   "cell_type": "code",
   "execution_count": 34,
   "metadata": {
    "id": "6i_lhWH8IZrk"
   },
   "outputs": [],
   "source": [
    "# TODO 3\n",
    "def train_and_evaluate(\n",
    "    model,\n",
    "    working_dir):\n",
    "  \"\"\"Train the model on training data and evaluate on test data.\n",
    "\n",
    "  Args:\n",
    "    working_dir: The location of the Transform output.\n",
    "    num_train_instances: Number of instances in train set\n",
    "    num_test_instances: Number of instances in test set\n",
    "\n",
    "  Returns:\n",
    "    The results from the estimator's 'evaluate' method\n",
    "  \"\"\"\n",
    "  train_dataset = get_dataset(working_dir, TRANSFORMED_TRAIN_DATA_FILEBASE)\n",
    "  validation_dataset = get_dataset(working_dir, TRANSFORMED_TEST_DATA_FILEBASE)\n",
    "\n",
    "  model = build_keras_model(working_dir)\n",
    "\n",
    "# Train the model\n",
    "  history = train_model(model, train_dataset, validation_dataset)\n",
    "\n",
    "  metric_values = model.evaluate(validation_dataset,\n",
    "                                 steps=EVALUATION_STEPS,\n",
    "                                 return_dict=True)\n",
    "  return model, history, metric_values"
   ]
  },
  {
   "cell_type": "code",
   "execution_count": 35,
   "metadata": {
    "id": "rcVsByIsViRy"
   },
   "outputs": [],
   "source": [
    "def train_model(model, train_dataset, validation_dataset):\n",
    "  model.compile(optimizer='adam',\n",
    "                loss=tf.losses.CategoricalCrossentropy(from_logits=True),\n",
    "                metrics=['accuracy'])\n",
    "\n",
    "  history = model.fit(train_dataset, validation_data=validation_dataset,\n",
    "      epochs=TRAIN_NUM_EPOCHS,\n",
    "      steps_per_epoch=STEPS_PER_TRAIN_EPOCH,\n",
    "      validation_steps=EVALUATION_STEPS)\n",
    "  return history"
   ]
  },
  {
   "cell_type": "code",
   "execution_count": 36,
   "metadata": {
    "colab": {
     "base_uri": "https://localhost:8080/"
    },
    "id": "f5xoioogYTle",
    "outputId": "fc69764a-176e-45bd-b6bc-7c73c20e9f39"
   },
   "outputs": [
    {
     "name": "stdout",
     "output_type": "stream",
     "text": [
      "Epoch 1/20\n",
      "26/26 [==============================] - 2s 32ms/step - loss: 0.4924 - accuracy: 0.7557 - val_loss: 0.4136 - val_accuracy: 0.8096\n",
      "Epoch 2/20\n",
      "26/26 [==============================] - 0s 20ms/step - loss: 0.3950 - accuracy: 0.8233 - val_loss: 0.3706 - val_accuracy: 0.8279\n",
      "Epoch 3/20\n",
      "26/26 [==============================] - 0s 19ms/step - loss: 0.3751 - accuracy: 0.8266 - val_loss: 0.3587 - val_accuracy: 0.8364\n",
      "Epoch 4/20\n",
      "26/26 [==============================] - 0s 20ms/step - loss: 0.3549 - accuracy: 0.8377 - val_loss: 0.3530 - val_accuracy: 0.8343\n",
      "Epoch 5/20\n",
      "26/26 [==============================] - 0s 19ms/step - loss: 0.3414 - accuracy: 0.8434 - val_loss: 0.3521 - val_accuracy: 0.8343\n",
      "Epoch 6/20\n",
      "26/26 [==============================] - 0s 19ms/step - loss: 0.3613 - accuracy: 0.8308 - val_loss: 0.3494 - val_accuracy: 0.8341\n",
      "Epoch 7/20\n",
      "26/26 [==============================] - 1s 20ms/step - loss: 0.3583 - accuracy: 0.8338 - val_loss: 0.3487 - val_accuracy: 0.8344\n",
      "Epoch 8/20\n",
      "26/26 [==============================] - 1s 21ms/step - loss: 0.3371 - accuracy: 0.8428 - val_loss: 0.3549 - val_accuracy: 0.8370\n",
      "Epoch 9/20\n",
      "26/26 [==============================] - 0s 20ms/step - loss: 0.3394 - accuracy: 0.8474 - val_loss: 0.3415 - val_accuracy: 0.8413\n",
      "Epoch 10/20\n",
      "26/26 [==============================] - 1s 29ms/step - loss: 0.3534 - accuracy: 0.8299 - val_loss: 0.3394 - val_accuracy: 0.8421\n",
      "Epoch 11/20\n",
      "26/26 [==============================] - 1s 21ms/step - loss: 0.3381 - accuracy: 0.8359 - val_loss: 0.3387 - val_accuracy: 0.8417\n",
      "Epoch 12/20\n",
      "26/26 [==============================] - 0s 19ms/step - loss: 0.3300 - accuracy: 0.8489 - val_loss: 0.3372 - val_accuracy: 0.8429\n",
      "Epoch 13/20\n",
      "26/26 [==============================] - 0s 18ms/step - loss: 0.3310 - accuracy: 0.8501 - val_loss: 0.3383 - val_accuracy: 0.8431\n",
      "Epoch 14/20\n",
      "26/26 [==============================] - 0s 19ms/step - loss: 0.3348 - accuracy: 0.8425 - val_loss: 0.3345 - val_accuracy: 0.8430\n",
      "Epoch 15/20\n",
      "26/26 [==============================] - 0s 19ms/step - loss: 0.3265 - accuracy: 0.8450 - val_loss: 0.3329 - val_accuracy: 0.8422\n",
      "Epoch 16/20\n",
      "26/26 [==============================] - 1s 29ms/step - loss: 0.3389 - accuracy: 0.8425 - val_loss: 0.3326 - val_accuracy: 0.8441\n",
      "Epoch 17/20\n",
      "26/26 [==============================] - 0s 19ms/step - loss: 0.3407 - accuracy: 0.8450 - val_loss: 0.3329 - val_accuracy: 0.8439\n",
      "Epoch 18/20\n",
      "26/26 [==============================] - 0s 19ms/step - loss: 0.3447 - accuracy: 0.8386 - val_loss: 0.3307 - val_accuracy: 0.8459\n",
      "Epoch 19/20\n",
      "26/26 [==============================] - 0s 18ms/step - loss: 0.3176 - accuracy: 0.8525 - val_loss: 0.3418 - val_accuracy: 0.8410\n",
      "Epoch 20/20\n",
      "26/26 [==============================] - 0s 18ms/step - loss: 0.3222 - accuracy: 0.8468 - val_loss: 0.3304 - val_accuracy: 0.8466\n",
      "128/128 [==============================] - 0s 2ms/step - loss: 0.3307 - accuracy: 0.8467\n"
     ]
    }
   ],
   "source": [
    "model, history, metric_values = train_and_evaluate(model, output_dir)"
   ]
  },
  {
   "cell_type": "code",
   "execution_count": 37,
   "metadata": {
    "colab": {
     "base_uri": "https://localhost:8080/",
     "height": 281
    },
    "id": "gQCbdPIQeXeZ",
    "outputId": "b78ab984-06b2-4dd6-980e-f7f99900ef39"
   },
   "outputs": [
    {
     "data": {
      "image/png": "[encoded data removed]",
      "text/plain": [
       "<Figure size 432x288 with 1 Axes>"
      ]
     },
     "metadata": {
      "needs_background": "light"
     },
     "output_type": "display_data"
    }
   ],
   "source": [
    "plt.plot(history.history['loss'], label='Train')\n",
    "plt.plot(history.history['val_loss'], label='Eval')\n",
    "plt.ylim(0,max(plt.ylim()))\n",
    "plt.legend()\n",
    "plt.title('Loss');"
   ]
  },
  {
   "cell_type": "markdown",
   "metadata": {
    "id": "nYeuthrs27vl"
   },
   "source": [
    "### Transform new data\n",
    "\n",
    "In the previous section the training process used the hard-copies of the transformed data that were generated by `tft_beam.AnalyzeAndTransformDataset` in the `transform_dataset` function. \n",
    "\n",
    "For operating on new data you'll need to load final version of the `preprocessing_fn` that was saved by `tft_beam.WriteTransformFn`. \n",
    "\n",
    "The `TFTransformOutput.transform_features_layer` method loads the `preprocessing_fn` SavedModel from the output directory."
   ]
  },
  {
   "cell_type": "markdown",
   "metadata": {
    "id": "zxi9aS106CLd"
   },
   "source": [
    "Here's a function to load new, unprocessed batches from a source file:"
   ]
  },
  {
   "cell_type": "code",
   "execution_count": 38,
   "metadata": {
    "id": "tMHDZhp82ZjM"
   },
   "outputs": [],
   "source": [
    "def read_csv(file_name, batch_size):\n",
    "  return tf.data.experimental.make_csv_dataset(\n",
    "        file_pattern=file_name,\n",
    "        batch_size=batch_size,\n",
    "        column_names=ORDERED_CSV_COLUMNS,\n",
    "        column_defaults=COLUMN_DEFAULTS,\n",
    "        prefetch_buffer_size=0,\n",
    "        ignore_errors=True)"
   ]
  },
  {
   "cell_type": "code",
   "execution_count": 39,
   "metadata": {
    "colab": {
     "base_uri": "https://localhost:8080/",
     "height": 444
    },
    "id": "AradAjmW2vyd",
    "outputId": "8c0e95ae-7b23-4b5f-a400-64bfe85e0d0f"
   },
   "outputs": [
    {
     "data": {
      "text/html": [
       "<div>\n",
       "<style scoped>\n",
       "    .dataframe tbody tr th:only-of-type {\n",
       "        vertical-align: middle;\n",
       "    }\n",
       "\n",
       "    .dataframe tbody tr th {\n",
       "        vertical-align: top;\n",
       "    }\n",
       "\n",
       "    .dataframe thead th {\n",
       "        text-align: right;\n",
       "    }\n",
       "</style>\n",
       "<table border=\"1\" class=\"dataframe\">\n",
       "  <thead>\n",
       "    <tr style=\"text-align: right;\">\n",
       "      <th></th>\n",
       "      <th>age</th>\n",
       "      <th>workclass</th>\n",
       "      <th>fnlwgt</th>\n",
       "      <th>education</th>\n",
       "      <th>education-num</th>\n",
       "      <th>marital-status</th>\n",
       "      <th>occupation</th>\n",
       "      <th>relationship</th>\n",
       "      <th>race</th>\n",
       "      <th>sex</th>\n",
       "      <th>capital-gain</th>\n",
       "      <th>capital-loss</th>\n",
       "      <th>hours-per-week</th>\n",
       "      <th>native-country</th>\n",
       "      <th>label</th>\n",
       "    </tr>\n",
       "  </thead>\n",
       "  <tbody>\n",
       "    <tr>\n",
       "      <th>0</th>\n",
       "      <td>44.0</td>\n",
       "      <td>b' Local-gov'</td>\n",
       "      <td>229148.0</td>\n",
       "      <td>b' Some-college'</td>\n",
       "      <td>10.0</td>\n",
       "      <td>b' Married-civ-spouse'</td>\n",
       "      <td>b' Handlers-cleaners'</td>\n",
       "      <td>b' Husband'</td>\n",
       "      <td>b' Black'</td>\n",
       "      <td>b' Male'</td>\n",
       "      <td>0.0</td>\n",
       "      <td>0.0</td>\n",
       "      <td>40.0</td>\n",
       "      <td>b' United-States'</td>\n",
       "      <td>b' &lt;=50K.'</td>\n",
       "    </tr>\n",
       "    <tr>\n",
       "      <th>1</th>\n",
       "      <td>23.0</td>\n",
       "      <td>b' Self-emp-not-inc'</td>\n",
       "      <td>271486.0</td>\n",
       "      <td>b' HS-grad'</td>\n",
       "      <td>9.0</td>\n",
       "      <td>b' Never-married'</td>\n",
       "      <td>b' Craft-repair'</td>\n",
       "      <td>b' Unmarried'</td>\n",
       "      <td>b' White'</td>\n",
       "      <td>b' Male'</td>\n",
       "      <td>0.0</td>\n",
       "      <td>0.0</td>\n",
       "      <td>40.0</td>\n",
       "      <td>b' United-States'</td>\n",
       "      <td>b' &lt;=50K.'</td>\n",
       "    </tr>\n",
       "    <tr>\n",
       "      <th>2</th>\n",
       "      <td>35.0</td>\n",
       "      <td>b' Private'</td>\n",
       "      <td>106961.0</td>\n",
       "      <td>b' HS-grad'</td>\n",
       "      <td>9.0</td>\n",
       "      <td>b' Married-civ-spouse'</td>\n",
       "      <td>b' Sales'</td>\n",
       "      <td>b' Husband'</td>\n",
       "      <td>b' White'</td>\n",
       "      <td>b' Male'</td>\n",
       "      <td>0.0</td>\n",
       "      <td>0.0</td>\n",
       "      <td>60.0</td>\n",
       "      <td>b' United-States'</td>\n",
       "      <td>b' &lt;=50K.'</td>\n",
       "    </tr>\n",
       "    <tr>\n",
       "      <th>3</th>\n",
       "      <td>42.0</td>\n",
       "      <td>b' Self-emp-inc'</td>\n",
       "      <td>201495.0</td>\n",
       "      <td>b' Some-college'</td>\n",
       "      <td>10.0</td>\n",
       "      <td>b' Married-civ-spouse'</td>\n",
       "      <td>b' Exec-managerial'</td>\n",
       "      <td>b' Husband'</td>\n",
       "      <td>b' White'</td>\n",
       "      <td>b' Male'</td>\n",
       "      <td>0.0</td>\n",
       "      <td>0.0</td>\n",
       "      <td>40.0</td>\n",
       "      <td>b' United-States'</td>\n",
       "      <td>b' &gt;50K.'</td>\n",
       "    </tr>\n",
       "    <tr>\n",
       "      <th>4</th>\n",
       "      <td>54.0</td>\n",
       "      <td>b' Private'</td>\n",
       "      <td>320012.0</td>\n",
       "      <td>b' Some-college'</td>\n",
       "      <td>10.0</td>\n",
       "      <td>b' Married-civ-spouse'</td>\n",
       "      <td>b' Adm-clerical'</td>\n",
       "      <td>b' Wife'</td>\n",
       "      <td>b' White'</td>\n",
       "      <td>b' Female'</td>\n",
       "      <td>0.0</td>\n",
       "      <td>0.0</td>\n",
       "      <td>40.0</td>\n",
       "      <td>b' United-States'</td>\n",
       "      <td>b' &lt;=50K.'</td>\n",
       "    </tr>\n",
       "  </tbody>\n",
       "</table>\n",
       "</div>"
      ],
      "text/plain": [
       "    age             workclass    fnlwgt         education  education-num  \\\n",
       "0  44.0         b' Local-gov'  229148.0  b' Some-college'           10.0   \n",
       "1  23.0  b' Self-emp-not-inc'  271486.0       b' HS-grad'            9.0   \n",
       "2  35.0           b' Private'  106961.0       b' HS-grad'            9.0   \n",
       "3  42.0      b' Self-emp-inc'  201495.0  b' Some-college'           10.0   \n",
       "4  54.0           b' Private'  320012.0  b' Some-college'           10.0   \n",
       "\n",
       "           marital-status             occupation   relationship       race  \\\n",
       "0  b' Married-civ-spouse'  b' Handlers-cleaners'    b' Husband'  b' Black'   \n",
       "1       b' Never-married'       b' Craft-repair'  b' Unmarried'  b' White'   \n",
       "2  b' Married-civ-spouse'              b' Sales'    b' Husband'  b' White'   \n",
       "3  b' Married-civ-spouse'    b' Exec-managerial'    b' Husband'  b' White'   \n",
       "4  b' Married-civ-spouse'       b' Adm-clerical'       b' Wife'  b' White'   \n",
       "\n",
       "          sex  capital-gain  capital-loss  hours-per-week     native-country  \\\n",
       "0    b' Male'           0.0           0.0            40.0  b' United-States'   \n",
       "1    b' Male'           0.0           0.0            40.0  b' United-States'   \n",
       "2    b' Male'           0.0           0.0            60.0  b' United-States'   \n",
       "3    b' Male'           0.0           0.0            40.0  b' United-States'   \n",
       "4  b' Female'           0.0           0.0            40.0  b' United-States'   \n",
       "\n",
       "        label  \n",
       "0  b' <=50K.'  \n",
       "1  b' <=50K.'  \n",
       "2  b' <=50K.'  \n",
       "3   b' >50K.'  \n",
       "4  b' <=50K.'  "
      ]
     },
     "execution_count": 39,
     "metadata": {},
     "output_type": "execute_result"
    }
   ],
   "source": [
    "for ex in read_csv(test_path, batch_size=5):\n",
    "  break\n",
    "\n",
    "pd.DataFrame(ex)"
   ]
  },
  {
   "cell_type": "markdown",
   "metadata": {
    "id": "OX1f6SgM6LZc"
   },
   "source": [
    "Load the `tft.TransformFeaturesLayer` to transform this data with the `preprocessing_fn`:"
   ]
  },
  {
   "cell_type": "code",
   "execution_count": 40,
   "metadata": {
    "colab": {
     "base_uri": "https://localhost:8080/",
     "height": 376
    },
    "id": "nma2Bzi--11x",
    "outputId": "4cdfbf4c-af41-4f9f-bd50-2fa014c0b0ee"
   },
   "outputs": [
    {
     "name": "stdout",
     "output_type": "stream",
     "text": [
      "INFO:tensorflow:struct2tensor is not available.\n"
     ]
    },
    {
     "name": "stderr",
     "output_type": "stream",
     "text": [
      "INFO:tensorflow:struct2tensor is not available.\n"
     ]
    },
    {
     "name": "stdout",
     "output_type": "stream",
     "text": [
      "INFO:tensorflow:tensorflow_decision_forests is not available.\n"
     ]
    },
    {
     "name": "stderr",
     "output_type": "stream",
     "text": [
      "INFO:tensorflow:tensorflow_decision_forests is not available.\n"
     ]
    },
    {
     "name": "stdout",
     "output_type": "stream",
     "text": [
      "INFO:tensorflow:tensorflow_text is not available.\n"
     ]
    },
    {
     "name": "stderr",
     "output_type": "stream",
     "text": [
      "INFO:tensorflow:tensorflow_text is not available.\n"
     ]
    },
    {
     "data": {
      "text/html": [
       "<div>\n",
       "<style scoped>\n",
       "    .dataframe tbody tr th:only-of-type {\n",
       "        vertical-align: middle;\n",
       "    }\n",
       "\n",
       "    .dataframe tbody tr th {\n",
       "        vertical-align: top;\n",
       "    }\n",
       "\n",
       "    .dataframe thead th {\n",
       "        text-align: right;\n",
       "    }\n",
       "</style>\n",
       "<table border=\"1\" class=\"dataframe\">\n",
       "  <thead>\n",
       "    <tr style=\"text-align: right;\">\n",
       "      <th></th>\n",
       "      <th>relationship</th>\n",
       "      <th>marital-status</th>\n",
       "      <th>education</th>\n",
       "      <th>native-country</th>\n",
       "      <th>education-num</th>\n",
       "      <th>occupation</th>\n",
       "      <th>hours-per-week</th>\n",
       "      <th>race</th>\n",
       "      <th>workclass</th>\n",
       "      <th>age</th>\n",
       "      <th>capital-gain</th>\n",
       "      <th>sex</th>\n",
       "      <th>capital-loss</th>\n",
       "    </tr>\n",
       "  </thead>\n",
       "  <tbody>\n",
       "    <tr>\n",
       "      <th>0</th>\n",
       "      <td>0</td>\n",
       "      <td>0</td>\n",
       "      <td>1</td>\n",
       "      <td>0</td>\n",
       "      <td>0.600000</td>\n",
       "      <td>9</td>\n",
       "      <td>0.397959</td>\n",
       "      <td>1</td>\n",
       "      <td>2</td>\n",
       "      <td>0.369863</td>\n",
       "      <td>0.0</td>\n",
       "      <td>0</td>\n",
       "      <td>0.0</td>\n",
       "    </tr>\n",
       "    <tr>\n",
       "      <th>1</th>\n",
       "      <td>3</td>\n",
       "      <td>1</td>\n",
       "      <td>0</td>\n",
       "      <td>0</td>\n",
       "      <td>0.533333</td>\n",
       "      <td>1</td>\n",
       "      <td>0.397959</td>\n",
       "      <td>0</td>\n",
       "      <td>1</td>\n",
       "      <td>0.082192</td>\n",
       "      <td>0.0</td>\n",
       "      <td>0</td>\n",
       "      <td>0.0</td>\n",
       "    </tr>\n",
       "    <tr>\n",
       "      <th>2</th>\n",
       "      <td>0</td>\n",
       "      <td>0</td>\n",
       "      <td>0</td>\n",
       "      <td>0</td>\n",
       "      <td>0.533333</td>\n",
       "      <td>4</td>\n",
       "      <td>0.602041</td>\n",
       "      <td>0</td>\n",
       "      <td>0</td>\n",
       "      <td>0.246575</td>\n",
       "      <td>0.0</td>\n",
       "      <td>0</td>\n",
       "      <td>0.0</td>\n",
       "    </tr>\n",
       "    <tr>\n",
       "      <th>3</th>\n",
       "      <td>0</td>\n",
       "      <td>0</td>\n",
       "      <td>1</td>\n",
       "      <td>0</td>\n",
       "      <td>0.600000</td>\n",
       "      <td>2</td>\n",
       "      <td>0.397959</td>\n",
       "      <td>0</td>\n",
       "      <td>5</td>\n",
       "      <td>0.342466</td>\n",
       "      <td>0.0</td>\n",
       "      <td>0</td>\n",
       "      <td>0.0</td>\n",
       "    </tr>\n",
       "    <tr>\n",
       "      <th>4</th>\n",
       "      <td>4</td>\n",
       "      <td>0</td>\n",
       "      <td>1</td>\n",
       "      <td>0</td>\n",
       "      <td>0.600000</td>\n",
       "      <td>3</td>\n",
       "      <td>0.397959</td>\n",
       "      <td>0</td>\n",
       "      <td>0</td>\n",
       "      <td>0.506849</td>\n",
       "      <td>0.0</td>\n",
       "      <td>1</td>\n",
       "      <td>0.0</td>\n",
       "    </tr>\n",
       "  </tbody>\n",
       "</table>\n",
       "</div>"
      ],
      "text/plain": [
       "   relationship  marital-status  education  native-country  education-num  \\\n",
       "0             0               0          1               0       0.600000   \n",
       "1             3               1          0               0       0.533333   \n",
       "2             0               0          0               0       0.533333   \n",
       "3             0               0          1               0       0.600000   \n",
       "4             4               0          1               0       0.600000   \n",
       "\n",
       "   occupation  hours-per-week  race  workclass       age  capital-gain  sex  \\\n",
       "0           9        0.397959     1          2  0.369863           0.0    0   \n",
       "1           1        0.397959     0          1  0.082192           0.0    0   \n",
       "2           4        0.602041     0          0  0.246575           0.0    0   \n",
       "3           2        0.397959     0          5  0.342466           0.0    0   \n",
       "4           3        0.397959     0          0  0.506849           0.0    1   \n",
       "\n",
       "   capital-loss  \n",
       "0           0.0  \n",
       "1           0.0  \n",
       "2           0.0  \n",
       "3           0.0  \n",
       "4           0.0  "
      ]
     },
     "execution_count": 40,
     "metadata": {},
     "output_type": "execute_result"
    }
   ],
   "source": [
    "ex2 = ex.copy()\n",
    "ex2.pop('fnlwgt')\n",
    "\n",
    "tft_layer = tf_transform_output.transform_features_layer()\n",
    "t_ex = tft_layer(ex2)\n",
    "\n",
    "label = t_ex.pop(LABEL_KEY)\n",
    "pd.DataFrame(t_ex)"
   ]
  },
  {
   "cell_type": "markdown",
   "metadata": {
    "id": "P43ixyQNz1zq"
   },
   "source": [
    "The `tft_layer` is smart enough to still execute the transformation if only a subset of features are passed in. For example, if you only pass in two features, you'll get just the transformed versions of those features back: "
   ]
  },
  {
   "cell_type": "code",
   "execution_count": 41,
   "metadata": {
    "colab": {
     "base_uri": "https://localhost:8080/",
     "height": 206
    },
    "id": "swEPuZsR0Y5S",
    "outputId": "e8f0ce0b-c50e-4923-b255-76dae4625041"
   },
   "outputs": [
    {
     "data": {
      "text/html": [
       "<div>\n",
       "<style scoped>\n",
       "    .dataframe tbody tr th:only-of-type {\n",
       "        vertical-align: middle;\n",
       "    }\n",
       "\n",
       "    .dataframe tbody tr th {\n",
       "        vertical-align: top;\n",
       "    }\n",
       "\n",
       "    .dataframe thead th {\n",
       "        text-align: right;\n",
       "    }\n",
       "</style>\n",
       "<table border=\"1\" class=\"dataframe\">\n",
       "  <thead>\n",
       "    <tr style=\"text-align: right;\">\n",
       "      <th></th>\n",
       "      <th>education</th>\n",
       "      <th>hours-per-week</th>\n",
       "    </tr>\n",
       "  </thead>\n",
       "  <tbody>\n",
       "    <tr>\n",
       "      <th>0</th>\n",
       "      <td>b' Some-college'</td>\n",
       "      <td>40.0</td>\n",
       "    </tr>\n",
       "    <tr>\n",
       "      <th>1</th>\n",
       "      <td>b' HS-grad'</td>\n",
       "      <td>40.0</td>\n",
       "    </tr>\n",
       "    <tr>\n",
       "      <th>2</th>\n",
       "      <td>b' HS-grad'</td>\n",
       "      <td>60.0</td>\n",
       "    </tr>\n",
       "    <tr>\n",
       "      <th>3</th>\n",
       "      <td>b' Some-college'</td>\n",
       "      <td>40.0</td>\n",
       "    </tr>\n",
       "    <tr>\n",
       "      <th>4</th>\n",
       "      <td>b' Some-college'</td>\n",
       "      <td>40.0</td>\n",
       "    </tr>\n",
       "  </tbody>\n",
       "</table>\n",
       "</div>"
      ],
      "text/plain": [
       "          education  hours-per-week\n",
       "0  b' Some-college'            40.0\n",
       "1       b' HS-grad'            40.0\n",
       "2       b' HS-grad'            60.0\n",
       "3  b' Some-college'            40.0\n",
       "4  b' Some-college'            40.0"
      ]
     },
     "execution_count": 41,
     "metadata": {},
     "output_type": "execute_result"
    }
   ],
   "source": [
    "ex2 = pd.DataFrame(ex)[['education', 'hours-per-week']]\n",
    "ex2"
   ]
  },
  {
   "cell_type": "code",
   "execution_count": 42,
   "metadata": {
    "colab": {
     "base_uri": "https://localhost:8080/",
     "height": 206
    },
    "id": "_s4SxutV1DTI",
    "outputId": "958c0cd6-32a1-44f6-9ac3-1a9b73c5f392"
   },
   "outputs": [
    {
     "data": {
      "text/html": [
       "<div>\n",
       "<style scoped>\n",
       "    .dataframe tbody tr th:only-of-type {\n",
       "        vertical-align: middle;\n",
       "    }\n",
       "\n",
       "    .dataframe tbody tr th {\n",
       "        vertical-align: top;\n",
       "    }\n",
       "\n",
       "    .dataframe thead th {\n",
       "        text-align: right;\n",
       "    }\n",
       "</style>\n",
       "<table border=\"1\" class=\"dataframe\">\n",
       "  <thead>\n",
       "    <tr style=\"text-align: right;\">\n",
       "      <th></th>\n",
       "      <th>education</th>\n",
       "      <th>hours-per-week</th>\n",
       "    </tr>\n",
       "  </thead>\n",
       "  <tbody>\n",
       "    <tr>\n",
       "      <th>0</th>\n",
       "      <td>1</td>\n",
       "      <td>0.397959</td>\n",
       "    </tr>\n",
       "    <tr>\n",
       "      <th>1</th>\n",
       "      <td>0</td>\n",
       "      <td>0.397959</td>\n",
       "    </tr>\n",
       "    <tr>\n",
       "      <th>2</th>\n",
       "      <td>0</td>\n",
       "      <td>0.602041</td>\n",
       "    </tr>\n",
       "    <tr>\n",
       "      <th>3</th>\n",
       "      <td>1</td>\n",
       "      <td>0.397959</td>\n",
       "    </tr>\n",
       "    <tr>\n",
       "      <th>4</th>\n",
       "      <td>1</td>\n",
       "      <td>0.397959</td>\n",
       "    </tr>\n",
       "  </tbody>\n",
       "</table>\n",
       "</div>"
      ],
      "text/plain": [
       "   education  hours-per-week\n",
       "0          1        0.397959\n",
       "1          0        0.397959\n",
       "2          0        0.602041\n",
       "3          1        0.397959\n",
       "4          1        0.397959"
      ]
     },
     "execution_count": 42,
     "metadata": {},
     "output_type": "execute_result"
    }
   ],
   "source": [
    "pd.DataFrame(tft_layer(dict(ex2)))"
   ]
  },
  {
   "cell_type": "markdown",
   "metadata": {
    "id": "x5wo3dN-vhFL"
   },
   "source": [
    "Here's a more robust version that drops features that are not in the feature-spec, and returns a `(features, label)` pair if the label is in the provided features:"
   ]
  },
  {
   "cell_type": "code",
   "execution_count": 43,
   "metadata": {
    "id": "hdMKDnafJh64"
   },
   "outputs": [],
   "source": [
    "class Transform(tf.Module):\n",
    "  def __init__(self, working_dir):\n",
    "    self.working_dir = working_dir\n",
    "    self.tf_transform_output = tft.TFTransformOutput(working_dir)\n",
    "    self.tft_layer = tf_transform_output.transform_features_layer()\n",
    "  \n",
    "  @tf.function\n",
    "  def __call__(self, features):\n",
    "    raw_features = {}\n",
    "\n",
    "    for key, val in features.items():\n",
    "      # Skip unused keys\n",
    "      if key not in RAW_DATA_FEATURE_SPEC:\n",
    "        continue\n",
    "\n",
    "      raw_features[key] = val\n",
    "\n",
    "    # Apply the `preprocessing_fn`.\n",
    "    transformed_features = tft_layer(raw_features)\n",
    "    \n",
    "    if LABEL_KEY in transformed_features:\n",
    "      # Pop the label and return a (features, labels) pair.\n",
    "      data_labels = transformed_features.pop(LABEL_KEY)\n",
    "      return (transformed_features, data_labels)\n",
    "    else:\n",
    "      return transformed_features\n"
   ]
  },
  {
   "cell_type": "code",
   "execution_count": 44,
   "metadata": {
    "id": "mm5HI578Ku1B"
   },
   "outputs": [],
   "source": [
    "transform = Transform(output_dir)"
   ]
  },
  {
   "cell_type": "code",
   "execution_count": 45,
   "metadata": {
    "id": "4jeenwN_3ZRj"
   },
   "outputs": [],
   "source": [
    "t_ex, t_label = transform(ex)"
   ]
  },
  {
   "cell_type": "code",
   "execution_count": 46,
   "metadata": {
    "colab": {
     "base_uri": "https://localhost:8080/",
     "height": 267
    },
    "id": "yIavZAqALO8H",
    "outputId": "efb153b4-9de6-4bd0-fa75-7e10021b4d96"
   },
   "outputs": [
    {
     "data": {
      "text/html": [
       "<div>\n",
       "<style scoped>\n",
       "    .dataframe tbody tr th:only-of-type {\n",
       "        vertical-align: middle;\n",
       "    }\n",
       "\n",
       "    .dataframe tbody tr th {\n",
       "        vertical-align: top;\n",
       "    }\n",
       "\n",
       "    .dataframe thead th {\n",
       "        text-align: right;\n",
       "    }\n",
       "</style>\n",
       "<table border=\"1\" class=\"dataframe\">\n",
       "  <thead>\n",
       "    <tr style=\"text-align: right;\">\n",
       "      <th></th>\n",
       "      <th>relationship</th>\n",
       "      <th>marital-status</th>\n",
       "      <th>education</th>\n",
       "      <th>native-country</th>\n",
       "      <th>education-num</th>\n",
       "      <th>occupation</th>\n",
       "      <th>hours-per-week</th>\n",
       "      <th>race</th>\n",
       "      <th>workclass</th>\n",
       "      <th>age</th>\n",
       "      <th>capital-gain</th>\n",
       "      <th>sex</th>\n",
       "      <th>capital-loss</th>\n",
       "    </tr>\n",
       "  </thead>\n",
       "  <tbody>\n",
       "    <tr>\n",
       "      <th>0</th>\n",
       "      <td>0</td>\n",
       "      <td>0</td>\n",
       "      <td>1</td>\n",
       "      <td>0</td>\n",
       "      <td>0.600000</td>\n",
       "      <td>9</td>\n",
       "      <td>0.397959</td>\n",
       "      <td>1</td>\n",
       "      <td>2</td>\n",
       "      <td>0.369863</td>\n",
       "      <td>0.0</td>\n",
       "      <td>0</td>\n",
       "      <td>0.0</td>\n",
       "    </tr>\n",
       "    <tr>\n",
       "      <th>1</th>\n",
       "      <td>3</td>\n",
       "      <td>1</td>\n",
       "      <td>0</td>\n",
       "      <td>0</td>\n",
       "      <td>0.533333</td>\n",
       "      <td>1</td>\n",
       "      <td>0.397959</td>\n",
       "      <td>0</td>\n",
       "      <td>1</td>\n",
       "      <td>0.082192</td>\n",
       "      <td>0.0</td>\n",
       "      <td>0</td>\n",
       "      <td>0.0</td>\n",
       "    </tr>\n",
       "    <tr>\n",
       "      <th>2</th>\n",
       "      <td>0</td>\n",
       "      <td>0</td>\n",
       "      <td>0</td>\n",
       "      <td>0</td>\n",
       "      <td>0.533333</td>\n",
       "      <td>4</td>\n",
       "      <td>0.602041</td>\n",
       "      <td>0</td>\n",
       "      <td>0</td>\n",
       "      <td>0.246575</td>\n",
       "      <td>0.0</td>\n",
       "      <td>0</td>\n",
       "      <td>0.0</td>\n",
       "    </tr>\n",
       "    <tr>\n",
       "      <th>3</th>\n",
       "      <td>0</td>\n",
       "      <td>0</td>\n",
       "      <td>1</td>\n",
       "      <td>0</td>\n",
       "      <td>0.600000</td>\n",
       "      <td>2</td>\n",
       "      <td>0.397959</td>\n",
       "      <td>0</td>\n",
       "      <td>5</td>\n",
       "      <td>0.342466</td>\n",
       "      <td>0.0</td>\n",
       "      <td>0</td>\n",
       "      <td>0.0</td>\n",
       "    </tr>\n",
       "    <tr>\n",
       "      <th>4</th>\n",
       "      <td>4</td>\n",
       "      <td>0</td>\n",
       "      <td>1</td>\n",
       "      <td>0</td>\n",
       "      <td>0.600000</td>\n",
       "      <td>3</td>\n",
       "      <td>0.397959</td>\n",
       "      <td>0</td>\n",
       "      <td>0</td>\n",
       "      <td>0.506849</td>\n",
       "      <td>0.0</td>\n",
       "      <td>1</td>\n",
       "      <td>0.0</td>\n",
       "    </tr>\n",
       "  </tbody>\n",
       "</table>\n",
       "</div>"
      ],
      "text/plain": [
       "   relationship  marital-status  education  native-country  education-num  \\\n",
       "0             0               0          1               0       0.600000   \n",
       "1             3               1          0               0       0.533333   \n",
       "2             0               0          0               0       0.533333   \n",
       "3             0               0          1               0       0.600000   \n",
       "4             4               0          1               0       0.600000   \n",
       "\n",
       "   occupation  hours-per-week  race  workclass       age  capital-gain  sex  \\\n",
       "0           9        0.397959     1          2  0.369863           0.0    0   \n",
       "1           1        0.397959     0          1  0.082192           0.0    0   \n",
       "2           4        0.602041     0          0  0.246575           0.0    0   \n",
       "3           2        0.397959     0          5  0.342466           0.0    0   \n",
       "4           3        0.397959     0          0  0.506849           0.0    1   \n",
       "\n",
       "   capital-loss  \n",
       "0           0.0  \n",
       "1           0.0  \n",
       "2           0.0  \n",
       "3           0.0  \n",
       "4           0.0  "
      ]
     },
     "execution_count": 46,
     "metadata": {},
     "output_type": "execute_result"
    }
   ],
   "source": [
    "pd.DataFrame(t_ex)"
   ]
  },
  {
   "cell_type": "markdown",
   "metadata": {
    "id": "LVQead0fwVuy"
   },
   "source": [
    "Now you can use `Dataset.map` to apply that transformation, on the fly to new data:"
   ]
  },
  {
   "cell_type": "code",
   "execution_count": 47,
   "metadata": {
    "colab": {
     "base_uri": "https://localhost:8080/"
    },
    "id": "VN3IO6u1Mk83",
    "outputId": "56156fd0-7a43-47be-a551-3d7ec000a051"
   },
   "outputs": [
    {
     "name": "stdout",
     "output_type": "stream",
     "text": [
      "128/128 [==============================] - 1s 4ms/step - loss: 0.3027 - accuracy: 0.8781\n"
     ]
    },
    {
     "data": {
      "text/plain": [
       "{'loss': 0.30266374349594116, 'accuracy': 0.878125011920929}"
      ]
     },
     "execution_count": 47,
     "metadata": {},
     "output_type": "execute_result"
    }
   ],
   "source": [
    "# TODO 4\n",
    "# Evaluate the model\n",
    "model.evaluate(\n",
    "    read_csv(test_path, batch_size=5).map(transform),\n",
    "    steps=EVALUATION_STEPS,\n",
    "    return_dict=True\n",
    ")"
   ]
  },
  {
   "cell_type": "markdown",
   "metadata": {
    "id": "Ymlco3hfU_-E"
   },
   "source": [
    "### Export the model\n",
    "\n",
    "So you have a trained model, and a method to apply the `preporcessing_fn` to new data. Assemble them into a new model that accepts serialized `tf.train.Example` protos as input."
   ]
  },
  {
   "cell_type": "code",
   "execution_count": 48,
   "metadata": {
    "id": "AZ2WICuwEwqC"
   },
   "outputs": [],
   "source": [
    "class ServingModel(tf.Module):\n",
    "  def __init__(self, model, working_dir):\n",
    "    self.model = model\n",
    "    self.working_dir = working_dir\n",
    "    self.transform = Transform(working_dir)\n",
    "\n",
    "  @tf.function(input_signature=[tf.TensorSpec(shape=[None], dtype=tf.string)])\n",
    "  def __call__(self, serialized_tf_examples):\n",
    "    # parse the tf.train.Example\n",
    "    feature_spec = RAW_DATA_FEATURE_SPEC.copy()\n",
    "    feature_spec.pop(LABEL_KEY)\n",
    "    parsed_features = tf.io.parse_example(serialized_tf_examples, feature_spec)\n",
    "    # Apply the `preprocessing_fn`\n",
    "    transformed_features = self.transform(parsed_features)\n",
    "    # Run the model\n",
    "    outputs = self.model(transformed_features)\n",
    "    # Format the output\n",
    "    classes_names = tf.constant([['0', '1']])\n",
    "    classes = tf.tile(classes_names, [tf.shape(outputs)[0], 1])\n",
    "    return {'classes': classes, 'scores': outputs}\n",
    "\n",
    "  def export(self, output_dir):\n",
    "    # Increment the directory number. This is required in order to make this\n",
    "    # model servable with model_server.\n",
    "    save_model_dir = pathlib.Path(output_dir)/'model'\n",
    "    number_dirs = [int(p.name) for p in save_model_dir.glob('*')\n",
    "                  if p.name.isdigit()]\n",
    "    id = max([0] + number_dirs)+1\n",
    "    save_model_dir = save_model_dir/str(id)\n",
    "\n",
    "    # Set the signature to make it visible for serving.\n",
    "    concrete_serving_fn = self.__call__.get_concrete_function()\n",
    "    signatures = {'serving_default': concrete_serving_fn}\n",
    "\n",
    "    # Export the model.\n",
    "    tf.saved_model.save(\n",
    "        self,\n",
    "        str(save_model_dir),\n",
    "        signatures=signatures)\n",
    "    \n",
    "    return save_model_dir"
   ]
  },
  {
   "cell_type": "markdown",
   "metadata": {
    "id": "M8TZf2di24L2"
   },
   "source": [
    "Build the model and test-run it on the batch of serialized examples:"
   ]
  },
  {
   "cell_type": "code",
   "execution_count": 49,
   "metadata": {
    "colab": {
     "base_uri": "https://localhost:8080/"
    },
    "id": "u2mSC1UMGAwJ",
    "outputId": "b83b2816-27da-43ca-b224-6b4a27d6fc78"
   },
   "outputs": [
    {
     "data": {
      "text/plain": [
       "{'classes': <tf.Tensor: shape=(3, 2), dtype=string, numpy=\n",
       " array([[b'0', b'1'],\n",
       "        [b'0', b'1'],\n",
       "        [b'0', b'1']], dtype=object)>,\n",
       " 'scores': <tf.Tensor: shape=(3, 2), dtype=float32, numpy=\n",
       " array([[-1.5468851 ,  1.457006  ],\n",
       "        [-0.25523075,  0.02256053],\n",
       "        [-1.9011399 ,  1.7598034 ]], dtype=float32)>}"
      ]
     },
     "execution_count": 49,
     "metadata": {},
     "output_type": "execute_result"
    }
   ],
   "source": [
    "serving_model = ServingModel(model, output_dir)\n",
    "\n",
    "serving_model(serialized_example_batch)"
   ]
  },
  {
   "cell_type": "markdown",
   "metadata": {
    "id": "BWhighof3AK8"
   },
   "source": [
    "Export the model as a SavedModel:"
   ]
  },
  {
   "cell_type": "code",
   "execution_count": 50,
   "metadata": {
    "colab": {
     "base_uri": "https://localhost:8080/"
    },
    "id": "kodDWTJIEr77",
    "outputId": "424dbd3e-f6df-4481-ced9-66ec59614ef0"
   },
   "outputs": [
    {
     "name": "stdout",
     "output_type": "stream",
     "text": [
      "INFO:tensorflow:Assets written to: /tmp/tmps2c64whv/keras/model/1/assets\n"
     ]
    },
    {
     "name": "stderr",
     "output_type": "stream",
     "text": [
      "INFO:tensorflow:Assets written to: /tmp/tmps2c64whv/keras/model/1/assets\n"
     ]
    },
    {
     "data": {
      "text/plain": [
       "PosixPath('/tmp/tmps2c64whv/keras/model/1')"
      ]
     },
     "execution_count": 50,
     "metadata": {},
     "output_type": "execute_result"
    }
   ],
   "source": [
    "# TODO 5\n",
    "# Export the model\n",
    "saved_model_dir = serving_model.export(output_dir)\n",
    "saved_model_dir"
   ]
  },
  {
   "cell_type": "markdown",
   "metadata": {
    "id": "ohbWxp3-3aQu"
   },
   "source": [
    "Reload the the model and test it on the same batch of examples:"
   ]
  },
  {
   "cell_type": "code",
   "execution_count": 51,
   "metadata": {
    "id": "nShh6GqcEr78"
   },
   "outputs": [],
   "source": [
    "reloaded = tf.saved_model.load(str(saved_model_dir))\n",
    "run_model = reloaded.signatures['serving_default']"
   ]
  },
  {
   "cell_type": "code",
   "execution_count": 52,
   "metadata": {
    "colab": {
     "base_uri": "https://localhost:8080/"
    },
    "id": "UiYJhQySEr78",
    "outputId": "ca8a868b-0b4f-4163-9a74-8438552cb0db"
   },
   "outputs": [
    {
     "data": {
      "text/plain": [
       "{'classes': <tf.Tensor: shape=(3, 2), dtype=string, numpy=\n",
       " array([[b'0', b'1'],\n",
       "        [b'0', b'1'],\n",
       "        [b'0', b'1']], dtype=object)>,\n",
       " 'scores': <tf.Tensor: shape=(3, 2), dtype=float32, numpy=\n",
       " array([[-1.5468851 ,  1.457006  ],\n",
       "        [-0.25523075,  0.02256053],\n",
       "        [-1.9011399 ,  1.7598034 ]], dtype=float32)>}"
      ]
     },
     "execution_count": 52,
     "metadata": {},
     "output_type": "execute_result"
    }
   ],
   "source": [
    "run_model(serialized_example_batch)"
   ]
  },
  {
   "cell_type": "markdown",
   "metadata": {
    "id": "ICqetCnSjwp1"
   },
   "source": [
    "## What you did\n",
    "\n",
    "In this notebook, you used `tf.Transform` to preprocess a dataset of census data, and train a model with the cleaned and transformed data. You also created an input function that you could use when you deploy our trained model in a production environment to perform inference. By using the same code for both training and inference you avoid any issues with data skew.  Along the way you learned about creating an Apache Beam transform to perform the transformation that you needed for cleaning the data. You also saw how to use this transformed data to train a model using `tf.keras`.  This is just a small piece of what TensorFlow Transform can do!  You encourage you to dive into `tf.Transform` and discover what it can do for you."
   ]
  }
 ],
 "metadata": {
  "colab": {
   "collapsed_sections": [
    "APEUSA9boKgT"
   ],
   "name": "census.ipynb",
   "provenance": [],
   "toc_visible": true
  },
  "environment": {
   "kernel": "python3",
   "name": "tf2-gpu.2-6.m93",
   "type": "gcloud",
   "uri": "gcr.io/deeplearning-platform-release/tf2-gpu.2-6:m93"
  },
  "kernelspec": {
   "display_name": "Python 3",
   "language": "python",
   "name": "python3"
  },
  "language_info": {
   "codemirror_mode": {
    "name": "ipython",
    "version": 3
   },
   "file_extension": ".py",
   "mimetype": "text/x-python",
   "name": "python",
   "nbconvert_exporter": "python",
   "pygments_lexer": "ipython3",
   "version": "3.7.12"
  }
 },
 "nbformat": 4,
 "nbformat_minor": 4
}
