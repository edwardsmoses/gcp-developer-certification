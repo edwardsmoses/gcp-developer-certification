{
 "cells": [
  {
   "cell_type": "markdown",
   "metadata": {},
   "source": [
    "# Introducing the Keras Functional API on Vertex AI Platform\n",
    "\n",
    "**Learning objectives**\n",
    "  1. Understand embeddings and how to create them with the feature column API.\n",
    "  1. Understand Deep and Wide models and when to use them.\n",
    "  1. Understand the Keras functional API and how to build a deep and wide model with it.\n",
    "  1. Learn how to deploy the Model to Vertex AI and make predictions with the Keras model.\n",
    "\n",
    "## Introduction\n",
    "\n",
    "In the last notebook, you learned about the Keras Sequential API. The [Keras Functional API](https://www.tensorflow.org/guide/keras#functional_api) provides an alternate way of building models which is more flexible. With the Functional API, we can build models with more complex topologies, multiple input or output layers, shared layers or non-sequential data flows (e.g. residual layers).\n",
    "\n",
    "In this notebook you'll use what we learned about feature columns to build a Wide & Deep model. Recall, that the idea behind Wide & Deep models is to join the two methods of learning through memorization and generalization by making a wide linear model and a deep learning model to accommodate both. You can have a look at the original research paper here: [Wide & Deep Learning for Recommender Systems](https://arxiv.org/abs/1606.07792).\n",
    "\n",
    "<img src='assets/wide_deep.png' width='80%'>\n",
    "<sup>(image: https://ai.googleblog.com/2016/06/wide-deep-learning-better-together-with.html)</sup>\n",
    "\n",
    "The Wide part of the model is associated with the memory element. In this case, we train a linear model with a wide set of crossed features and learn the correlation of this related data with the assigned label. The Deep part of the model is associated with the generalization element where we use embedding vectors for features. The best embeddings are then learned through the training process. While both of these methods can work well alone, Wide & Deep models excel by combining these techniques together.\n",
    "\n",
    "Each learning objective will correspond to a __#TODO__ in the [student lab notebook](../labs/4_keras_functional_api.ipynb) -- try to complete that notebook first before reviewing this solution notebook.\n"
   ]
  },
  {
   "cell_type": "code",
   "execution_count": 1,
   "metadata": {},
   "outputs": [],
   "source": [
    "# Use the chown command to change the ownership of the repository.\n",
    "!sudo chown -R jupyter:jupyter /home/jupyter/training-data-analyst"
   ]
  },
  {
   "cell_type": "code",
   "execution_count": 2,
   "metadata": {},
   "outputs": [
    {
     "name": "stdout",
     "output_type": "stream",
     "text": [
       "Collecting tensorflow==2.3.0\n",
        "  Downloading tensorflow-2.3.0-cp37-cp37m-manylinux2010_x86_64.whl (320.4 MB)\n",
        "\u001b[2K     \u001b[90m━━━━━━━━━━━━━━━━━━━━━━━━━━━━━━━━━━━━━━━\u001b[0m \u001b[32m320.4/320.4 MB\u001b[0m \u001b[31m3.2 MB/s\u001b[0m eta \u001b[36m0:00:00\u001b[0m00:01\u001b[0m00:01\u001b[0m\n",
        "\u001b[?25hRequirement already satisfied: h5py<2.11.0,>=2.10.0 in /opt/conda/lib/python3.7/site-packages (from tensorflow==2.3.0) (2.10.0)\n",
        "Requirement already satisfied: gast==0.3.3 in /opt/conda/lib/python3.7/site-packages (from tensorflow==2.3.0) (0.3.3)\n",
        "Requirement already satisfied: tensorboard<3,>=2.3.0 in /opt/conda/lib/python3.7/site-packages (from tensorflow==2.3.0) (2.3.0)\n",
        "Requirement already satisfied: tensorflow-estimator<2.4.0,>=2.3.0 in /opt/conda/lib/python3.7/site-packages (from tensorflow==2.3.0) (2.3.0)\n",
        "Requirement already satisfied: six>=1.12.0 in /opt/conda/lib/python3.7/site-packages (from tensorflow==2.3.0) (1.16.0)\n",
        "Collecting scipy==1.4.1\n",
        "  Downloading scipy-1.4.1-cp37-cp37m-manylinux1_x86_64.whl (26.1 MB)\n",
        "\u001b[2K     \u001b[90m━━━━━━━━━━━━━━━━━━━━━━━━━━━━━━━━━━━━━━━━\u001b[0m \u001b[32m26.1/26.1 MB\u001b[0m \u001b[31m48.7 MB/s\u001b[0m eta \u001b[36m0:00:00\u001b[0m00:01\u001b[0m00:01\u001b[0m\n",
        "\u001b[?25hRequirement already satisfied: grpcio>=1.8.6 in /opt/conda/lib/python3.7/site-packages (from tensorflow==2.3.0) (1.44.0)\n",
        "Requirement already satisfied: opt-einsum>=2.3.2 in /opt/conda/lib/python3.7/site-packages (from tensorflow==2.3.0) (3.3.0)\n",
        "Requirement already satisfied: wheel>=0.26 in /opt/conda/lib/python3.7/site-packages (from tensorflow==2.3.0) (0.37.1)\n",
        "Collecting numpy<1.19.0,>=1.16.0\n",
        "  Downloading numpy-1.18.5-cp37-cp37m-manylinux1_x86_64.whl (20.1 MB)\n",
        "\u001b[2K     \u001b[90m━━━━━━━━━━━━━━━━━━━━━━━━━━━━━━━━━━━━━━━━\u001b[0m \u001b[32m20.1/20.1 MB\u001b[0m \u001b[31m60.2 MB/s\u001b[0m eta \u001b[36m0:00:00\u001b[0m00:01\u001b[0m00:01\u001b[0m\n",
        "\u001b[?25hRequirement already satisfied: keras-preprocessing<1.2,>=1.1.1 in /opt/conda/lib/python3.7/site-packages (from tensorflow==2.3.0) (1.1.2)\n",
        "Requirement already satisfied: termcolor>=1.1.0 in /opt/conda/lib/python3.7/site-packages (from tensorflow==2.3.0) (1.1.0)\n",
        "Requirement already satisfied: protobuf>=3.9.2 in /opt/conda/lib/python3.7/site-packages (from tensorflow==2.3.0) (3.19.4)\n",
        "Requirement already satisfied: google-pasta>=0.1.8 in /opt/conda/lib/python3.7/site-packages (from tensorflow==2.3.0) (0.2.0)\n",
        "Requirement already satisfied: absl-py>=0.7.0 in /opt/conda/lib/python3.7/site-packages (from tensorflow==2.3.0) (1.0.0)\n",
        "Requirement already satisfied: astunparse==1.6.3 in /opt/conda/lib/python3.7/site-packages (from tensorflow==2.3.0) (1.6.3)\n",
        "Requirement already satisfied: wrapt>=1.11.1 in /opt/conda/lib/python3.7/site-packages (from tensorflow==2.3.0) (1.13.3)\n",
        "Requirement already satisfied: markdown>=2.6.8 in /opt/conda/lib/python3.7/site-packages (from tensorboard<3,>=2.3.0->tensorflow==2.3.0) (3.3.6)\n",
        "Requirement already satisfied: setuptools>=41.0.0 in /opt/conda/lib/python3.7/site-packages (from tensorboard<3,>=2.3.0->tensorflow==2.3.0) (59.8.0)\n",
        "Collecting google-auth<2,>=1.6.3\n",
        "  Downloading google_auth-1.35.0-py2.py3-none-any.whl (152 kB)\n",
        "\u001b[2K     \u001b[90m━━━━━━━━━━━━━━━━━━━━━━━━━━━━━━━━━━━━━━\u001b[0m \u001b[32m152.9/152.9 KB\u001b[0m \u001b[31m23.4 MB/s\u001b[0m eta \u001b[36m0:00:00\u001b[0m\n",
        "\u001b[?25hRequirement already satisfied: tensorboard-plugin-wit>=1.6.0 in /opt/conda/lib/python3.7/site-packages (from tensorboard<3,>=2.3.0->tensorflow==2.3.0) (1.8.1)\n",
        "Requirement already satisfied: werkzeug>=0.11.15 in /opt/conda/lib/python3.7/site-packages (from tensorboard<3,>=2.3.0->tensorflow==2.3.0) (2.0.3)\n",
        "Requirement already satisfied: requests<3,>=2.21.0 in /opt/conda/lib/python3.7/site-packages (from tensorboard<3,>=2.3.0->tensorflow==2.3.0) (2.27.1)\n",
        "Requirement already satisfied: google-auth-oauthlib<0.5,>=0.4.1 in /opt/conda/lib/python3.7/site-packages (from tensorboard<3,>=2.3.0->tensorflow==2.3.0) (0.4.6)\n",
        "Collecting cachetools<5.0,>=2.0.0\n",
        "  Downloading cachetools-4.2.4-py3-none-any.whl (10 kB)\n",
        "Requirement already satisfied: rsa<5,>=3.1.4 in /opt/conda/lib/python3.7/site-packages (from google-auth<2,>=1.6.3->tensorboard<3,>=2.3.0->tensorflow==2.3.0) (4.8)\n",
        "Requirement already satisfied: pyasn1-modules>=0.2.1 in /opt/conda/lib/python3.7/site-packages (from google-auth<2,>=1.6.3->tensorboard<3,>=2.3.0->tensorflow==2.3.0) (0.2.7)\n",
        "Requirement already satisfied: requests-oauthlib>=0.7.0 in /opt/conda/lib/python3.7/site-packages (from google-auth-oauthlib<0.5,>=0.4.1->tensorboard<3,>=2.3.0->tensorflow==2.3.0) (1.3.1)\n",
        "Requirement already satisfied: importlib-metadata>=4.4 in /opt/conda/lib/python3.7/site-packages (from markdown>=2.6.8->tensorboard<3,>=2.3.0->tensorflow==2.3.0) (4.11.1)\n",
        "Requirement already satisfied: idna<4,>=2.5 in /opt/conda/lib/python3.7/site-packages (from requests<3,>=2.21.0->tensorboard<3,>=2.3.0->tensorflow==2.3.0) (3.3)\n",
        "Requirement already satisfied: urllib3<1.27,>=1.21.1 in /opt/conda/lib/python3.7/site-packages (from requests<3,>=2.21.0->tensorboard<3,>=2.3.0->tensorflow==2.3.0) (1.26.8)\n",
        "Requirement already satisfied: charset-normalizer~=2.0.0 in /opt/conda/lib/python3.7/site-packages (from requests<3,>=2.21.0->tensorboard<3,>=2.3.0->tensorflow==2.3.0) (2.0.12)\n",
        "Requirement already satisfied: certifi>=2017.4.17 in /opt/conda/lib/python3.7/site-packages (from requests<3,>=2.21.0->tensorboard<3,>=2.3.0->tensorflow==2.3.0) (2021.10.8)\n",
        "Requirement already satisfied: typing-extensions>=3.6.4 in /opt/conda/lib/python3.7/site-packages (from importlib-metadata>=4.4->markdown>=2.6.8->tensorboard<3,>=2.3.0->tensorflow==2.3.0) (4.1.1)\n",
        "Requirement already satisfied: zipp>=0.5 in /opt/conda/lib/python3.7/site-packages (from importlib-metadata>=4.4->markdown>=2.6.8->tensorboard<3,>=2.3.0->tensorflow==2.3.0) (3.7.0)\n",
        "Requirement already satisfied: pyasn1<0.5.0,>=0.4.6 in /opt/conda/lib/python3.7/site-packages (from pyasn1-modules>=0.2.1->google-auth<2,>=1.6.3->tensorboard<3,>=2.3.0->tensorflow==2.3.0) (0.4.8)\n",
        "Requirement already satisfied: oauthlib>=3.0.0 in /opt/conda/lib/python3.7/site-packages (from requests-oauthlib>=0.7.0->google-auth-oauthlib<0.5,>=0.4.1->tensorboard<3,>=2.3.0->tensorflow==2.3.0) (3.2.0)\n",
        "Installing collected packages: numpy, cachetools, scipy, google-auth, tensorflow\n",
        "  Attempting uninstall: numpy\n",
        "    Found existing installation: numpy 1.19.5\n",
        "    Uninstalling numpy-1.19.5:\n",
        "      Successfully uninstalled numpy-1.19.5\n",
        "  Attempting uninstall: cachetools\n",
        "    Found existing installation: cachetools 5.0.0\n",
        "    Uninstalling cachetools-5.0.0:\n",
        "      Successfully uninstalled cachetools-5.0.0\n",
        "  Attempting uninstall: scipy\n",
        "    Found existing installation: scipy 1.7.3\n",
        "    Uninstalling scipy-1.7.3:\n",
        "      Successfully uninstalled scipy-1.7.3\n",
        "  Attempting uninstall: google-auth\n",
        "    Found existing installation: google-auth 2.6.0\n",
        "    Uninstalling google-auth-2.6.0:\n",
        "      Successfully uninstalled google-auth-2.6.0\n",
        "  Attempting uninstall: tensorflow\n",
        "    Found existing installation: tensorflow 2.3.4\n",
        "    Uninstalling tensorflow-2.3.4:\n",
        "      Successfully uninstalled tensorflow-2.3.4\n",
        "\u001b[31mERROR: pip's dependency resolver does not currently take into account all the packages that are installed. This behaviour is the source of the following dependency conflicts.\n",
        "tfx 0.26.3 requires absl-py<0.11,>=0.9, but you have absl-py 1.0.0 which is incompatible.\n",
        "tfx 0.26.3 requires attrs<21,>=19.3.0, but you have attrs 21.4.0 which is incompatible.\n",
        "tfx 0.26.3 requires click<8,>=7, but you have click 8.0.4 which is incompatible.\n",
        "tfx 0.26.3 requires docker<5,>=4.1, but you have docker 5.0.3 which is incompatible.\n",
        "tfx 0.26.3 requires google-api-python-client<2,>=1.7.8, but you have google-api-python-client 2.38.0 which is incompatible.\n",
        "tfx 0.26.3 requires kubernetes<12,>=10.0.1, but you have kubernetes 22.6.0 which is incompatible.\n",
        "tfx 0.26.3 requires pyarrow<0.18,>=0.17, but you have pyarrow 7.0.0 which is incompatible.\n",
        "tfx 0.26.3 requires pyyaml<6,>=3.12, but you have pyyaml 6.0 which is incompatible.\n",
        "tfx-bsl 0.26.1 requires absl-py<0.11,>=0.9, but you have absl-py 1.0.0 which is incompatible.\n",
        "tfx-bsl 0.26.1 requires google-api-python-client<2,>=1.7.11, but you have google-api-python-client 2.38.0 which is incompatible.\n",
        "tfx-bsl 0.26.1 requires pyarrow<0.18,>=0.17, but you have pyarrow 7.0.0 which is incompatible.\n",
        "tensorflow-transform 0.26.0 requires absl-py<0.11,>=0.9, but you have absl-py 1.0.0 which is incompatible.\n",
        "tensorflow-transform 0.26.0 requires pyarrow<0.18,>=0.17, but you have pyarrow 7.0.0 which is incompatible.\n",
        "tensorflow-probability 0.11.0 requires cloudpickle==1.3, but you have cloudpickle 2.0.0 which is incompatible.\n",
        "tensorflow-model-analysis 0.26.1 requires absl-py<0.11,>=0.9, but you have absl-py 1.0.0 which is incompatible.\n",
        "tensorflow-model-analysis 0.26.1 requires pyarrow<0.18,>=0.17, but you have pyarrow 7.0.0 which is incompatible.\n",
        "tensorflow-data-validation 0.26.1 requires absl-py<0.11,>=0.9, but you have absl-py 1.0.0 which is incompatible.\n",
        "tensorflow-data-validation 0.26.1 requires joblib<0.15,>=0.12, but you have joblib 1.0.1 which is incompatible.\n",
        "tensorflow-data-validation 0.26.1 requires pyarrow<0.18,>=0.17, but you have pyarrow 7.0.0 which is incompatible.\n",
        "phik 0.12.0 requires scipy>=1.5.2, but you have scipy 1.4.1 which is incompatible.\n",
        "imageio 2.16.0 requires numpy>=1.20.0, but you have numpy 1.18.5 which is incompatible.\n",
        "google-cloud-aiplatform 1.10.0 requires google-cloud-storage<2.0.0dev,>=1.32.0, but you have google-cloud-storage 2.1.0 which is incompatible.\n",
        "cloud-tpu-client 0.10 requires google-api-python-client==1.8.0, but you have google-api-python-client 2.38.0 which is incompatible.\n",
        "apache-beam 2.28.0 requires httplib2<0.18.0,>=0.8, but you have httplib2 0.20.4 which is incompatible.\n",
        "apache-beam 2.28.0 requires pyarrow<3.0.0,>=0.15.1, but you have pyarrow 7.0.0 which is incompatible.\n",
        "apache-beam 2.28.0 requires typing-extensions<3.8.0,>=3.7.0, but you have typing-extensions 4.1.1 which is incompatible.\u001b[0m\u001b[31m\n",
        "\u001b[0mSuccessfully installed cachetools-4.2.4 google-auth-1.35.0 numpy-1.18.5 scipy-1.4.1 tensorflow-2.3.0\n"
     ]
    }
   ],
   "source": [
    "# Ensure the right version of Tensorflow is installed.\n",
    "!pip freeze | grep tensorflow==2.3.0 || pip install tensorflow==2.3.0"
   ]
  },
  {
   "cell_type": "markdown",
   "metadata": {},
   "source": [
    "Kindly ignore the deprecation warnings and incompatibility errors."
   ]
  },
  {
   "cell_type": "code",
   "execution_count": 3,
   "metadata": {},
   "outputs": [
    {
     "name": "stdout",
     "output_type": "stream",
     "text": [
       "Collecting numpy==1.21.0\n",
        "  Downloading numpy-1.21.0-cp37-cp37m-manylinux_2_12_x86_64.manylinux2010_x86_64.whl (15.7 MB)\n",
        "\u001b[2K     \u001b[90m━━━━━━━━━━━━━━━━━━━━━━━━━━━━━━━━━━━━━━━━\u001b[0m \u001b[32m15.7/15.7 MB\u001b[0m \u001b[31m64.2 MB/s\u001b[0m eta \u001b[36m0:00:00\u001b[0m00:01\u001b[0m00:01\u001b[0m\n",
        "\u001b[?25hInstalling collected packages: numpy\n",
        "  Attempting uninstall: numpy\n",
        "    Found existing installation: numpy 1.18.5\n",
        "    Uninstalling numpy-1.18.5:\n",
        "      Successfully uninstalled numpy-1.18.5\n",
        "\u001b[31mERROR: pip's dependency resolver does not currently take into account all the packages that are installed. This behaviour is the source of the following dependency conflicts.\n",
        "tfx-bsl 0.26.1 requires absl-py<0.11,>=0.9, but you have absl-py 1.0.0 which is incompatible.\n",
        "tfx-bsl 0.26.1 requires google-api-python-client<2,>=1.7.11, but you have google-api-python-client 2.38.0 which is incompatible.\n",
        "tfx-bsl 0.26.1 requires pyarrow<0.18,>=0.17, but you have pyarrow 7.0.0 which is incompatible.\n",
        "tensorflow 2.3.0 requires numpy<1.19.0,>=1.16.0, but you have numpy 1.21.0 which is incompatible.\n",
        "tensorflow-transform 0.26.0 requires absl-py<0.11,>=0.9, but you have absl-py 1.0.0 which is incompatible.\n",
        "tensorflow-transform 0.26.0 requires pyarrow<0.18,>=0.17, but you have pyarrow 7.0.0 which is incompatible.\n",
        "tensorflow-probability 0.11.0 requires cloudpickle==1.3, but you have cloudpickle 2.0.0 which is incompatible.\n",
        "tensorflow-model-analysis 0.26.1 requires absl-py<0.11,>=0.9, but you have absl-py 1.0.0 which is incompatible.\n",
        "tensorflow-model-analysis 0.26.1 requires numpy<1.20,>=1.16, but you have numpy 1.21.0 which is incompatible.\n",
        "tensorflow-model-analysis 0.26.1 requires pyarrow<0.18,>=0.17, but you have pyarrow 7.0.0 which is incompatible.\n",
        "tensorflow-data-validation 0.26.1 requires absl-py<0.11,>=0.9, but you have absl-py 1.0.0 which is incompatible.\n",
        "tensorflow-data-validation 0.26.1 requires joblib<0.15,>=0.12, but you have joblib 1.0.1 which is incompatible.\n",
        "tensorflow-data-validation 0.26.1 requires pyarrow<0.18,>=0.17, but you have pyarrow 7.0.0 which is incompatible.\n",
        "phik 0.12.0 requires scipy>=1.5.2, but you have scipy 1.4.1 which is incompatible.\n",
        "apache-beam 2.28.0 requires httplib2<0.18.0,>=0.8, but you have httplib2 0.20.4 which is incompatible.\n",
        "apache-beam 2.28.0 requires numpy<1.20.0,>=1.14.3, but you have numpy 1.21.0 which is incompatible.\n",
        "apache-beam 2.28.0 requires pyarrow<3.0.0,>=0.15.1, but you have pyarrow 7.0.0 which is incompatible.\n",
        "apache-beam 2.28.0 requires typing-extensions<3.8.0,>=3.7.0, but you have typing-extensions 4.1.1 which is incompatible.\u001b[0m\u001b[31m\n",
        "\u001b[0mSuccessfully installed numpy-1.21.0\n"
     ]
    }
   ],
   "source": [
    "# Install the required numpy version.\n",
    "!pip install numpy==1.21.0"
   ]
  },
  {
   "cell_type": "markdown",
   "metadata": {},
   "source": [
    "Kindly ignore the deprecation warnings and incompatibility errors.\n",
    "\n",
    "**Restart** the kernel before proceeding further (On the Notebook menu, select Kernel > Restart Kernel > Restart).\n"
   ]
  },
  {
   "cell_type": "markdown",
   "metadata": {},
   "source": [
    "Start by importing the necessary libraries for this lab."
   ]
  },
  {
   "cell_type": "code",
   "execution_count": 1,
   "metadata": {},
   "outputs": [
    {
     "name": "stdout",
     "output_type": "stream",
     "text": [
      "2.3.0\n"
     ]
    }
   ],
   "source": [
    "# Importing necessary modules/libraries such as numpy, pandas and datetime.\n",
    "\n",
    "\n",
    "import datetime\n",
    "import os\n",
    "import shutil\n",
    "\n",
    "import numpy as np\n",
    "import pandas as pd\n",
    "import tensorflow as tf\n",
    "from google.cloud import aiplatform\n",
    "from matplotlib import pyplot as plt\n",
    "from tensorflow import feature_column as fc\n",
    "from tensorflow import keras\n",
    "from tensorflow.keras import Model\n",
    "from tensorflow.keras.callbacks import TensorBoard\n",
    "from tensorflow.keras.layers import Input, Dense, DenseFeatures, concatenate\n",
    "from tensorflow.keras.models import Sequential\n",
    "\n",
    "print(tf.__version__)\n",
    "%matplotlib inline"
   ]
  },
  {
   "cell_type": "code",
   "execution_count": 2,
   "metadata": {},
   "outputs": [],
   "source": [
    "# It sets the backend of matplotlib to the 'inline' backend. The output of plotting commands is displayed inline within frontends, directly\n",
    "# below the code cell that produced it. The resulting plots will then also be stored in the notebook document.\n",
    "%matplotlib inline"
   ]
  },
  {
   "cell_type": "markdown",
   "metadata": {},
   "source": [
    "## Load raw data \n",
    "\n",
    "We will use the taxifare dataset, using the CSV files that we created in the first notebook of this sequence. Those files have been saved into `../data`."
   ]
  },
  {
   "cell_type": "code",
   "execution_count": 3,
   "metadata": {},
   "outputs": [
     {
      "name": "stdout",
      "output_type": "stream",
      "text": [
       "-rw-r--r-- 1 jupyter jupyter 123590 Mar  1 14:19 ../data/taxi-test.csv\n",
       "-rw-r--r-- 1 jupyter jupyter 579055 Mar  1 14:19 ../data/taxi-train.csv\n",
       "-rw-r--r-- 1 jupyter jupyter 123114 Mar  1 14:19 ../data/taxi-valid.csv\n"
      ]
     }
   ],
   "source": [
    "!ls -l ../data/*.csv"
   ]
  },
  {
   "cell_type": "markdown",
   "metadata": {},
   "source": [
    "## Use tf.data to read the CSV files\n",
    "\n",
    "We wrote these functions for reading data from the csv files above in the [previous notebook](2_dataset_api.ipynb). For this lab we will also include some additional engineered features in our model. In particular, we will compute the difference in latitude and longitude, as well as the Euclidean distance between the pick-up and drop-off locations. We can accomplish this by adding these new features to the features dictionary with the function `add_engineered_features` below. \n",
    "\n",
    "Note that we include a call to this function when collecting our features dict and labels in the `features_and_labels` function below as well. "
   ]
  },
  {
   "cell_type": "code",
   "execution_count": 4,
   "metadata": {},
   "outputs": [],
   "source": [
    "# Selecting specific CSV_COLUMNS, LABEL_COLUMN, DEFAULTS, UNWANTED_COLS.\n",
    "CSV_COLUMNS = [\n",
    "    'fare_amount',\n",
    "    'pickup_datetime',\n",
    "    'pickup_longitude',\n",
    "    'pickup_latitude',\n",
    "    'dropoff_longitude',\n",
    "    'dropoff_latitude',\n",
    "    'passenger_count',\n",
    "    'key'\n",
    "]\n",
    "LABEL_COLUMN = 'fare_amount'\n",
    "DEFAULTS = [[0.0], ['na'], [0.0], [0.0], [0.0], [0.0], [0.0], ['na']]\n",
    "UNWANTED_COLS = ['pickup_datetime', 'key']\n",
    "\n",
    "\n",
    "# Create an input function reading a file using the Dataset API\n",
    "def features_and_labels(row_data):\n",
    "    label = row_data.pop(LABEL_COLUMN)\n",
    "    features = row_data\n",
    "        \n",
    "    for unwanted_col in UNWANTED_COLS:\n",
    "        features.pop(unwanted_col)\n",
    "\n",
    "    return features, label\n",
    "\n",
    "\n",
    "# Reading CSV files into a dataset.\n",
    "def create_dataset(pattern, batch_size=1, mode='eval'):\n",
    "    dataset = tf.data.experimental.make_csv_dataset(\n",
    "        pattern, batch_size, CSV_COLUMNS, DEFAULTS)\n",
    "\n",
    "    dataset = dataset.map(features_and_labels)\n",
    "    \n",
    "    if mode == 'train':\n",
    "        dataset = dataset.shuffle(buffer_size=1000).repeat()\n",
    "\n",
    "    # take advantage of multi-threading; 1=AUTOTUNE\n",
    "    dataset = dataset.prefetch(1)\n",
    "    return dataset"
   ]
  },
  {
   "cell_type": "markdown",
   "metadata": {},
   "source": [
    "## Feature columns for Wide and Deep model\n",
    "\n",
    "For the Wide columns, we will create feature columns of crossed features. To do this, we'll create a collection of Tensorflow feature columns to pass to the `tf.feature_column.crossed_column` constructor. The Deep columns will consist of numeric columns and the embedding columns we want to create. "
   ]
  },
  {
   "cell_type": "code",
   "execution_count": 5,
   "metadata": {},
   "outputs": [],
   "source": [
    "# TODO 1\n",
    "\n",
    "# 1. Bucketize latitudes and longitudes\n",
    "NBUCKETS = 16\n",
    "latbuckets = np.linspace(start=38.0, stop=42.0, num=NBUCKETS).tolist()\n",
    "lonbuckets = np.linspace(start=-76.0, stop=-72.0, num=NBUCKETS).tolist()\n",
    "\n",
    "fc_bucketized_plat = fc.bucketized_column(\n",
    "    source_column=fc.numeric_column(\"pickup_longitude\"), boundaries=lonbuckets)\n",
    "fc_bucketized_plon = fc.bucketized_column(\n",
    "    source_column=fc.numeric_column(\"pickup_latitude\"), boundaries=latbuckets)\n",
    "fc_bucketized_dlat = fc.bucketized_column(\n",
    "    source_column=fc.numeric_column(\"dropoff_longitude\"), boundaries=lonbuckets)\n",
    "fc_bucketized_dlon = fc.bucketized_column(\n",
    "    source_column=fc.numeric_column(\"dropoff_latitude\"), boundaries=latbuckets)\n",
    "\n",
    "# 2. Cross features for locations\n",
    "fc_crossed_dloc = fc.crossed_column(\n",
    "    [fc_bucketized_dlat, fc_bucketized_dlon],\n",
    "    hash_bucket_size=NBUCKETS * NBUCKETS)\n",
    "fc_crossed_ploc = fc.crossed_column(\n",
    "    [fc_bucketized_plat, fc_bucketized_plon],\n",
    "    hash_bucket_size=NBUCKETS * NBUCKETS)\n",
    "fc_crossed_pd_pair = fc.crossed_column(\n",
    "    [fc_crossed_dloc, fc_crossed_ploc],\n",
    "    hash_bucket_size=NBUCKETS**4)\n",
    "\n",
    "# 3. Create embedding columns for the crossed columns\n",
    "fc_pd_pair = fc.embedding_column(categorical_column=fc_crossed_pd_pair, dimension=3)\n",
    "fc_dloc = fc.embedding_column(categorical_column=fc_crossed_dloc, dimension=3)\n",
    "fc_ploc = fc.embedding_column(categorical_column=fc_crossed_ploc, dimension=3)"
   ]
  },
  {
   "cell_type": "markdown",
   "metadata": {},
   "source": [
    "### Gather list of feature columns\n",
    "\n",
    "Next we gather the list of wide and deep feature columns we'll pass to our Wide & Deep model in Tensorflow. Recall, wide columns are sparse, have linear relationship with the output while continuous columns are deep, have a complex relationship with the output. We will use our previously bucketized columns to collect crossed feature columns and sparse feature columns for our wide columns, and embedding feature columns and numeric features columns for the deep columns."
   ]
  },
  {
   "cell_type": "code",
   "execution_count": 6,
   "metadata": {},
   "outputs": [],
   "source": [
    "# TODO 2\n",
    "wide_columns = [\n",
    "    # One-hot encoded feature crosses\n",
    "    fc.indicator_column(fc_crossed_dloc),\n",
    "    fc.indicator_column(fc_crossed_ploc),\n",
    "    fc.indicator_column(fc_crossed_pd_pair)\n",
    "]\n",
    "\n",
    "deep_columns = [\n",
    "    # Embedding_column to \"group\" together ...\n",
    "    fc.embedding_column(fc_crossed_pd_pair, dimension=10),\n",
    "\n",
    "    # Numeric columns\n",
    "    fc.numeric_column(\"pickup_latitude\"),\n",
    "    fc.numeric_column(\"pickup_longitude\"),\n",
    "    fc.numeric_column(\"dropoff_longitude\"),\n",
    "    fc.numeric_column(\"dropoff_latitude\")\n",
    "]"
   ]
  },
  {
   "cell_type": "markdown",
   "metadata": {},
   "source": [
    "## Build a Wide and Deep model in Keras\n",
    "\n",
    "To build a wide-and-deep network, we connect the sparse (i.e. wide) features directly to the output node, but pass the dense (i.e. deep) features through a set of fully connected layers. Here’s that model architecture looks using the Functional API.\n",
    "\n",
    "First, we'll create our input columns using [tf.keras.layers.Input](https://www.tensorflow.org/versions/r2.0/api_docs/python/tf/keras/Input)."
   ]
  },
  {
   "cell_type": "code",
   "execution_count": 7,
   "metadata": {},
   "outputs": [],
   "source": [
    "INPUT_COLS = [\n",
    "    'pickup_longitude',\n",
    "    'pickup_latitude',\n",
    "    'dropoff_longitude',\n",
    "    'dropoff_latitude',\n",
    "    'passenger_count'\n",
    "]\n",
    "\n",
    "inputs = {colname : Input(name=colname, shape=(), dtype='float32')\n",
    "          for colname in INPUT_COLS\n",
    "}"
   ]
  },
  {
   "cell_type": "markdown",
   "metadata": {},
   "source": [
    "Then, we'll define our custom RMSE evaluation metric and build our wide and deep model."
   ]
  },
  {
   "cell_type": "code",
   "execution_count": 8,
   "metadata": {},
   "outputs": [],
   "source": [
    "# Here, tf.reduce_mean computes the mean of elements across dimensions of a tensor.\n",
    "# tf.sqrt Computes element-wise square root of the input tensor.\n",
    "# tf.square computes square of x element-wise.\n",
    "def rmse(y_true, y_pred):\n",
    "    return tf.sqrt(tf.reduce_mean(tf.square(y_pred - y_true)))\n",
    "\n",
    "# TODO 3\n",
    "def build_model(dnn_hidden_units):\n",
    "    # Create the deep part of model\n",
    "    deep = DenseFeatures(deep_columns, name='deep_inputs')(inputs)\n",
    "    for num_nodes in dnn_hidden_units:\n",
    "        deep = Dense(num_nodes, activation='relu')(deep) \n",
    "\n",
    "    # Create the wide part of model\n",
    "    wide = DenseFeatures(wide_columns, name='wide_inputs')(inputs)\n",
    "\n",
    "    # Combine deep and wide parts of the model\n",
    "    combined = concatenate(inputs=[deep, wide], name='combined')\n",
    "\n",
    "    # Map the combined outputs into a single prediction value\n",
    "    output = Dense(units=1, activation=None, name='prediction')(combined)\n",
    "    \n",
    "    # Finalize the model\n",
    "    model = Model(inputs=list(inputs.values()), outputs=output)\n",
    "\n",
    "    # Compile the keras model\n",
    "    model.compile(optimizer=\"adam\", loss=\"mse\", metrics=[rmse, \"mse\"])\n",
    "    \n",
    "    return model"
   ]
  },
  {
   "cell_type": "markdown",
   "metadata": {},
   "source": [
    "Next, we can call the `build_model` to create the model. Here we'll have two hidden layers, each with 10 neurons, for the deep part of our model. We can also use `plot_model` to see a diagram of the model we've created."
   ]
  },
  {
   "cell_type": "code",
   "execution_count": 9,
   "metadata": {},
   "outputs": [
    {
     "data": {
      "image/png": "[encoded data removed]",
      "text/plain": [
       "<IPython.core.display.Image object>"
      ]
     },
     "execution_count": 9,
     "metadata": {},
     "output_type": "execute_result"
    }
   ],
   "source": [
    "HIDDEN_UNITS = [10,10]\n",
    "\n",
    "# Calling the build model\n",
    "model = build_model(dnn_hidden_units=HIDDEN_UNITS)\n",
    "\n",
    "# Converts a Keras plot_model to see a diagram of the model that we have created.\n",
    "tf.keras.utils.plot_model(model, show_shapes=False, rankdir='LR')"
   ]
  },
  {
   "cell_type": "markdown",
   "metadata": {},
   "source": [
    "Next, we'll set up our training variables, create our datasets for training and validation, and train our model.\n",
    "\n",
    "(We refer you the the blog post [ML Design Pattern #3: Virtual Epochs](https://medium.com/google-cloud/ml-design-pattern-3-virtual-epochs-f842296de730) for further details on why express the training in terms of `NUM_TRAIN_EXAMPLES` and `NUM_EVALS` and why, in this training code, the number of epochs is really equal to the number of evaluations we perform.)"
   ]
  },
  {
   "cell_type": "code",
   "execution_count": 10,
   "metadata": {},
   "outputs": [],
   "source": [
    "BATCH_SIZE = 1000\n",
    "NUM_TRAIN_EXAMPLES = 10000 * 5  # training dataset will repeat, wrap around\n",
    "NUM_EVALS = 50  # how many times to evaluate\n",
    "NUM_EVAL_EXAMPLES = 10000  # enough to get a reasonable sample\n",
    "\n",
    "trainds = create_dataset(\n",
    "    pattern='../data/taxi-train*',\n",
    "    batch_size=BATCH_SIZE,\n",
    "    mode='train')\n",
    "\n",
    "evalds = create_dataset(\n",
    "    pattern='../data/taxi-valid*',\n",
    "    batch_size=BATCH_SIZE,\n",
    "    mode='eval').take(NUM_EVAL_EXAMPLES//1000)"
   ]
  },
  {
   "cell_type": "code",
   "execution_count": 11,
   "metadata": {},
   "outputs": [
    {
     "name": "stderr",
     "output_type": "stream",
     "text": [
      "2022-02-28 01:15:48.957316: I tensorflow/core/profiler/lib/profiler_session.cc:164] Profiler session started.\n"
     ]
    },
    {
     "name": "stdout",
     "output_type": "stream",
     "text": [
      "Epoch 1/50\n"
     ]
    },
    {
     "name": "stderr",
     "output_type": "stream",
     "text": [
      "2022-02-28 01:16:00.280807: I tensorflow/core/kernels/data/shuffle_dataset_op.cc:172] Filling up shuffle buffer (this may take a while): 626 of 1000\n",
      "2022-02-28 01:16:07.310249: I tensorflow/core/kernels/data/shuffle_dataset_op.cc:221] Shuffle buffer filled.\n"
     ]
    },
    {
     "name": "stdout",
     "output_type": "stream",
     "text": [
      "1/1 [==============================] - 3s 3s/step - loss: 242.8394 - rmse: 15.5833 - mse: 242.8394 - val_loss: 251.5226 - val_rmse: 15.8494 - val_mse: 251.5226\n",
      "Epoch 2/50\n"
     ]
    },
    {
     "name": "stderr",
     "output_type": "stream",
     "text": [
      "2022-02-28 01:16:10.487913: I tensorflow/core/profiler/lib/profiler_session.cc:164] Profiler session started.\n"
     ]
    },
    {
     "name": "stdout",
     "output_type": "stream",
     "text": [
      "1/1 [==============================] - ETA: 0s - loss: 204.2885 - rmse: 14.2930 - mse: 204.2885"
     ]
    },
    {
     "name": "stderr",
     "output_type": "stream",
     "text": [
      "2022-02-28 01:16:10.913756: I tensorflow/core/profiler/rpc/client/save_profile.cc:176] Creating directory: ./taxi_trained/train/plugins/profile/2022_02_28_01_16_10\n",
      "2022-02-28 01:16:10.927380: I tensorflow/core/profiler/rpc/client/save_profile.cc:182] Dumped gzipped tool data for trace.json.gz to ./taxi_trained/train/plugins/profile/2022_02_28_01_16_10/tensorflow-2-6-20220226-215208.trace.json.gz\n",
      "2022-02-28 01:16:10.936111: I tensorflow/core/profiler/rpc/client/save_profile.cc:176] Creating directory: ./taxi_trained/train/plugins/profile/2022_02_28_01_16_10\n",
      "2022-02-28 01:16:10.936235: I tensorflow/core/profiler/rpc/client/save_profile.cc:182] Dumped gzipped tool data for memory_profile.json.gz to ./taxi_trained/train/plugins/profile/2022_02_28_01_16_10/tensorflow-2-6-20220226-215208.memory_profile.json.gz\n",
      "2022-02-28 01:16:10.936653: I tensorflow/python/profiler/internal/profiler_wrapper.cc:111] Creating directory: ./taxi_trained/train/plugins/profile/2022_02_28_01_16_10Dumped tool data for xplane.pb to ./taxi_trained/train/plugins/profile/2022_02_28_01_16_10/tensorflow-2-6-20220226-215208.xplane.pb\n",
      "Dumped tool data for overview_page.pb to ./taxi_trained/train/plugins/profile/2022_02_28_01_16_10/tensorflow-2-6-20220226-215208.overview_page.pb\n",
      "Dumped tool data for input_pipeline.pb to ./taxi_trained/train/plugins/profile/2022_02_28_01_16_10/tensorflow-2-6-20220226-215208.input_pipeline.pb\n",
      "Dumped tool data for tensorflow_stats.pb to ./taxi_trained/train/plugins/profile/2022_02_28_01_16_10/tensorflow-2-6-20220226-215208.tensorflow_stats.pb\n",
      "Dumped tool data for kernel_stats.pb to ./taxi_trained/train/plugins/profile/2022_02_28_01_16_10/tensorflow-2-6-20220226-215208.kernel_stats.pb\n",
      "\n"
     ]
    },
    {
     "name": "stdout",
     "output_type": "stream",
     "text": [
      "1/1 [==============================] - 3s 3s/step - loss: 204.2885 - rmse: 14.2930 - mse: 204.2885 - val_loss: 247.9832 - val_rmse: 15.7341 - val_mse: 247.9832\n",
      "Epoch 3/50\n",
      "1/1 [==============================] - 3s 3s/step - loss: 243.1657 - rmse: 15.5938 - mse: 243.1657 - val_loss: 248.7014 - val_rmse: 15.7584 - val_mse: 248.7014\n",
      "Epoch 4/50\n",
      "1/1 [==============================] - 3s 3s/step - loss: 202.2953 - rmse: 14.2231 - mse: 202.2953 - val_loss: 246.4455 - val_rmse: 15.6884 - val_mse: 246.4455\n",
      "Epoch 5/50\n",
      "1/1 [==============================] - 2s 2s/step - loss: 222.9141 - rmse: 14.9303 - mse: 222.9141 - val_loss: 242.4440 - val_rmse: 15.5688 - val_mse: 242.4440\n",
      "Epoch 6/50\n",
      "1/1 [==============================] - 2s 2s/step - loss: 231.0191 - rmse: 15.1993 - mse: 231.0191 - val_loss: 242.4736 - val_rmse: 15.5600 - val_mse: 242.4736\n",
      "Epoch 7/50\n",
      "1/1 [==============================] - 2s 2s/step - loss: 211.2801 - rmse: 14.5355 - mse: 211.2801 - val_loss: 241.6376 - val_rmse: 15.5423 - val_mse: 241.6376\n",
      "Epoch 8/50\n",
      "1/1 [==============================] - 2s 2s/step - loss: 201.1620 - rmse: 14.1832 - mse: 201.1620 - val_loss: 239.6713 - val_rmse: 15.4766 - val_mse: 239.6713\n",
      "Epoch 9/50\n",
      "1/1 [==============================] - 2s 2s/step - loss: 197.4965 - rmse: 14.0533 - mse: 197.4965 - val_loss: 237.2283 - val_rmse: 15.3966 - val_mse: 237.2283\n",
      "Epoch 10/50\n",
      "1/1 [==============================] - 2s 2s/step - loss: 232.2888 - rmse: 15.2410 - mse: 232.2888 - val_loss: 235.5871 - val_rmse: 15.3340 - val_mse: 235.5871\n",
      "Epoch 11/50\n",
      "1/1 [==============================] - 2s 2s/step - loss: 193.0536 - rmse: 13.8944 - mse: 193.0536 - val_loss: 235.0791 - val_rmse: 15.3259 - val_mse: 235.0791\n",
      "Epoch 12/50\n",
      "1/1 [==============================] - 2s 2s/step - loss: 217.5245 - rmse: 14.7487 - mse: 217.5245 - val_loss: 235.0842 - val_rmse: 15.3203 - val_mse: 235.0842\n",
      "Epoch 13/50\n",
      "1/1 [==============================] - 2s 2s/step - loss: 258.8737 - rmse: 16.0896 - mse: 258.8737 - val_loss: 230.5398 - val_rmse: 15.1714 - val_mse: 230.5398\n",
      "Epoch 14/50\n",
      "1/1 [==============================] - 2s 2s/step - loss: 189.8389 - rmse: 13.7782 - mse: 189.8389 - val_loss: 230.6227 - val_rmse: 15.1804 - val_mse: 230.6227\n",
      "Epoch 15/50\n",
      "1/1 [==============================] - 2s 2s/step - loss: 235.8249 - rmse: 15.3566 - mse: 235.8249 - val_loss: 230.2183 - val_rmse: 15.1674 - val_mse: 230.2183\n",
      "Epoch 16/50\n",
      "1/1 [==============================] - 2s 2s/step - loss: 202.7171 - rmse: 14.2379 - mse: 202.7171 - val_loss: 227.8880 - val_rmse: 15.0775 - val_mse: 227.8880\n",
      "Epoch 17/50\n",
      "1/1 [==============================] - 2s 2s/step - loss: 193.9628 - rmse: 13.9271 - mse: 193.9628 - val_loss: 226.0856 - val_rmse: 15.0316 - val_mse: 226.0856\n",
      "Epoch 18/50\n",
      "1/1 [==============================] - 2s 2s/step - loss: 187.1157 - rmse: 13.6790 - mse: 187.1157 - val_loss: 223.9019 - val_rmse: 14.9519 - val_mse: 223.9019\n",
      "Epoch 19/50\n",
      "1/1 [==============================] - 2s 2s/step - loss: 156.2818 - rmse: 12.5013 - mse: 156.2818 - val_loss: 222.9424 - val_rmse: 14.9233 - val_mse: 222.9424\n",
      "Epoch 20/50\n",
      "1/1 [==============================] - 2s 2s/step - loss: 235.8645 - rmse: 15.3579 - mse: 235.8645 - val_loss: 218.8124 - val_rmse: 14.7867 - val_mse: 218.8124\n",
      "Epoch 21/50\n",
      "1/1 [==============================] - 2s 2s/step - loss: 217.2533 - rmse: 14.7395 - mse: 217.2533 - val_loss: 219.0539 - val_rmse: 14.7957 - val_mse: 219.0539\n",
      "Epoch 22/50\n",
      "1/1 [==============================] - 2s 2s/step - loss: 194.0538 - rmse: 13.9303 - mse: 194.0538 - val_loss: 219.2446 - val_rmse: 14.8013 - val_mse: 219.2446\n",
      "Epoch 23/50\n",
      "1/1 [==============================] - 2s 2s/step - loss: 197.7376 - rmse: 14.0619 - mse: 197.7376 - val_loss: 214.5443 - val_rmse: 14.6317 - val_mse: 214.5443\n",
      "Epoch 24/50\n",
      "1/1 [==============================] - 2s 2s/step - loss: 203.8358 - rmse: 14.2771 - mse: 203.8358 - val_loss: 213.6134 - val_rmse: 14.6107 - val_mse: 213.6134\n",
      "Epoch 25/50\n",
      "1/1 [==============================] - 2s 2s/step - loss: 198.8207 - rmse: 14.1004 - mse: 198.8207 - val_loss: 210.3374 - val_rmse: 14.4984 - val_mse: 210.3374\n",
      "Epoch 26/50\n",
      "1/1 [==============================] - 2s 2s/step - loss: 172.2621 - rmse: 13.1249 - mse: 172.2621 - val_loss: 210.3029 - val_rmse: 14.4880 - val_mse: 210.3029\n",
      "Epoch 27/50\n",
      "1/1 [==============================] - 2s 2s/step - loss: 164.1015 - rmse: 12.8102 - mse: 164.1015 - val_loss: 206.0697 - val_rmse: 14.3495 - val_mse: 206.0697\n",
      "Epoch 28/50\n",
      "1/1 [==============================] - 2s 2s/step - loss: 212.3783 - rmse: 14.5732 - mse: 212.3783 - val_loss: 203.5117 - val_rmse: 14.2560 - val_mse: 203.5117\n",
      "Epoch 29/50\n",
      "1/1 [==============================] - 3s 3s/step - loss: 178.1600 - rmse: 13.3477 - mse: 178.1600 - val_loss: 201.5948 - val_rmse: 14.1943 - val_mse: 201.5948\n",
      "Epoch 30/50\n",
      "1/1 [==============================] - 2s 2s/step - loss: 156.6219 - rmse: 12.5149 - mse: 156.6219 - val_loss: 200.3503 - val_rmse: 14.1401 - val_mse: 200.3503\n",
      "Epoch 31/50\n",
      "1/1 [==============================] - 2s 2s/step - loss: 156.2708 - rmse: 12.5008 - mse: 156.2708 - val_loss: 196.3515 - val_rmse: 14.0100 - val_mse: 196.3515\n",
      "Epoch 32/50\n",
      "1/1 [==============================] - 2s 2s/step - loss: 171.3648 - rmse: 13.0906 - mse: 171.3648 - val_loss: 194.9948 - val_rmse: 13.9414 - val_mse: 194.9948\n",
      "Epoch 33/50\n",
      "1/1 [==============================] - 2s 2s/step - loss: 166.6560 - rmse: 12.9095 - mse: 166.6560 - val_loss: 193.1579 - val_rmse: 13.8870 - val_mse: 193.1579\n",
      "Epoch 34/50\n",
      "1/1 [==============================] - 2s 2s/step - loss: 152.2389 - rmse: 12.3385 - mse: 152.2389 - val_loss: 190.3985 - val_rmse: 13.7957 - val_mse: 190.3985\n",
      "Epoch 35/50\n",
      "1/1 [==============================] - 2s 2s/step - loss: 151.0013 - rmse: 12.2883 - mse: 151.0013 - val_loss: 186.6136 - val_rmse: 13.6558 - val_mse: 186.6136\n",
      "Epoch 36/50\n",
      "1/1 [==============================] - 2s 2s/step - loss: 150.0010 - rmse: 12.2475 - mse: 150.0010 - val_loss: 187.2170 - val_rmse: 13.6701 - val_mse: 187.2170\n",
      "Epoch 37/50\n",
      "1/1 [==============================] - 2s 2s/step - loss: 154.5918 - rmse: 12.4335 - mse: 154.5918 - val_loss: 182.5434 - val_rmse: 13.4919 - val_mse: 182.5434\n",
      "Epoch 38/50\n",
      "1/1 [==============================] - 2s 2s/step - loss: 159.0604 - rmse: 12.6119 - mse: 159.0604 - val_loss: 181.0308 - val_rmse: 13.4491 - val_mse: 181.0308\n",
      "Epoch 39/50\n",
      "1/1 [==============================] - 2s 2s/step - loss: 182.3181 - rmse: 13.5025 - mse: 182.3181 - val_loss: 177.4271 - val_rmse: 13.3172 - val_mse: 177.4271\n",
      "Epoch 40/50\n",
      "1/1 [==============================] - 2s 2s/step - loss: 131.4983 - rmse: 11.4673 - mse: 131.4983 - val_loss: 173.7748 - val_rmse: 13.1729 - val_mse: 173.7748\n",
      "Epoch 41/50\n",
      "1/1 [==============================] - 2s 2s/step - loss: 169.9125 - rmse: 13.0350 - mse: 169.9125 - val_loss: 173.4418 - val_rmse: 13.1453 - val_mse: 173.4418\n",
      "Epoch 42/50\n",
      "1/1 [==============================] - 2s 2s/step - loss: 128.0311 - rmse: 11.3151 - mse: 128.0311 - val_loss: 170.1396 - val_rmse: 13.0360 - val_mse: 170.1396\n",
      "Epoch 43/50\n",
      "1/1 [==============================] - 2s 2s/step - loss: 156.8692 - rmse: 12.5247 - mse: 156.8692 - val_loss: 166.2211 - val_rmse: 12.8762 - val_mse: 166.2211\n",
      "Epoch 44/50\n",
      "1/1 [==============================] - 2s 2s/step - loss: 152.9272 - rmse: 12.3664 - mse: 152.9272 - val_loss: 164.5186 - val_rmse: 12.7947 - val_mse: 164.5186\n",
      "Epoch 45/50\n",
      "1/1 [==============================] - 2s 2s/step - loss: 131.3232 - rmse: 11.4596 - mse: 131.3232 - val_loss: 163.7912 - val_rmse: 12.7797 - val_mse: 163.7912\n",
      "Epoch 46/50\n",
      "1/1 [==============================] - 2s 2s/step - loss: 144.8541 - rmse: 12.0355 - mse: 144.8541 - val_loss: 160.0413 - val_rmse: 12.6376 - val_mse: 160.0413\n",
      "Epoch 47/50\n",
      "1/1 [==============================] - 2s 2s/step - loss: 132.7414 - rmse: 11.5213 - mse: 132.7414 - val_loss: 158.2363 - val_rmse: 12.5470 - val_mse: 158.2363\n",
      "Epoch 48/50\n",
      "1/1 [==============================] - 2s 2s/step - loss: 179.1064 - rmse: 13.3831 - mse: 179.1064 - val_loss: 154.7645 - val_rmse: 12.4255 - val_mse: 154.7645\n",
      "Epoch 49/50\n",
      "1/1 [==============================] - 2s 2s/step - loss: 127.0321 - rmse: 11.2709 - mse: 127.0321 - val_loss: 149.2519 - val_rmse: 12.1977 - val_mse: 149.2519\n",
      "Epoch 50/50\n",
      "1/1 [==============================] - 2s 2s/step - loss: 119.5650 - rmse: 10.9346 - mse: 119.5650 - val_loss: 147.1631 - val_rmse: 12.1239 - val_mse: 147.1631\n",
      "CPU times: user 3min 29s, sys: 3min 53s, total: 7min 23s\n",
      "Wall time: 2min 25s\n"
     ]
    }
   ],
   "source": [
    "%%time\n",
    "# Here, %%time prints the wall time for the entire cell\n",
    "steps_per_epoch = NUM_TRAIN_EXAMPLES // (BATCH_SIZE * NUM_EVALS)\n",
    "\n",
    "OUTDIR = \"./taxi_trained\"\n",
    "shutil.rmtree(path=OUTDIR, ignore_errors=True) # start fresh each time\n",
    "\n",
    "history = model.fit(x=trainds,\n",
    "                    steps_per_epoch=steps_per_epoch,\n",
    "                    epochs=NUM_EVALS,\n",
    "                    validation_data=evalds,\n",
    "                    callbacks=[TensorBoard(OUTDIR)])"
   ]
  },
  {
   "cell_type": "markdown",
   "metadata": {},
   "source": [
    "Just as before, we can examine the history to see how the RMSE changes through training on the train set and validation set. "
   ]
  },
  {
   "cell_type": "code",
   "execution_count": 12,
   "metadata": {},
   "outputs": [
    {
     "data": {
      "text/plain": [
       "<AxesSubplot:>"
      ]
     },
     "execution_count": 12,
     "metadata": {},
     "output_type": "execute_result"
    },
    {
     "data": {
      "image/png": "[encoded data removed]",
      "text/plain": [
       "<Figure size 432x288 with 1 Axes>"
      ]
     },
     "metadata": {
      "needs_background": "light"
     },
     "output_type": "display_data"
    }
   ],
   "source": [
    "RMSE_COLS = ['rmse', 'val_rmse']\n",
    "\n",
    "# Pandas DataFrame is two-dimensional size-mutable, potentially heterogeneous tabular data structure with labeled axes (rows and columns).\n",
    "pd.DataFrame(history.history)[RMSE_COLS].plot()"
   ]
  },
  {
   "cell_type": "markdown",
   "metadata": {},
   "source": [
    "# Making predictions with our model"
   ]
  },
  {
   "cell_type": "markdown",
   "metadata": {},
   "source": [
    "To make predictions with our trained model, we can call the [predict method](https://www.tensorflow.org/api_docs/python/tf/keras/Model#predict), passing to it a dictionary of values. The `steps` parameter determines the total number of steps before declaring the prediction round finished. Here since we have just one example, we set `steps=1` (setting `steps=None` would also work). Note, however, that if x is a `tf.data` dataset or a dataset iterator, and steps is set to None, predict will run until the input dataset is exhausted."
   ]
  },
  {
   "cell_type": "code",
   "execution_count": 13,
   "metadata": {},
   "outputs": [
    {
     "data": {
      "text/plain": [
       "array([[5.542891]], dtype=float32)"
      ]
     },
     "execution_count": 13,
     "metadata": {},
     "output_type": "execute_result"
    }
   ],
   "source": [
    "model.predict(\n",
    "    x={\n",
    "        \"pickup_longitude\": tf.convert_to_tensor([-73.982683]),\n",
    "        \"pickup_latitude\": tf.convert_to_tensor([40.742104]),\n",
    "        \"dropoff_longitude\": tf.convert_to_tensor([-73.983766]),\n",
    "        \"dropoff_latitude\": tf.convert_to_tensor([40.755174]),\n",
    "        \"passenger_count\": tf.convert_to_tensor([3.0]),\n",
    "    },\n",
    "    steps=1,\n",
    ")"
   ]
  },
  {
   "cell_type": "markdown",
   "metadata": {},
   "source": [
    "# Export and deploy our model"
   ]
  },
  {
   "cell_type": "markdown",
   "metadata": {},
   "source": [
    "Of course, making individual predictions is not realistic, because we can't expect client code to have a model object in memory. For others to use our trained model, we'll have to export our model to a file, and expect client code to instantiate the model from that exported file. \n",
    "\n",
    "We'll export the model to a TensorFlow SavedModel format. Once we have a model in this format, we have lots of ways to \"serve\" the model, from a web application, from JavaScript, from mobile applications, etc."
   ]
  },
  {
   "cell_type": "code",
   "execution_count": 14,
   "metadata": {},
   "outputs": [
    {
     "name": "stdout",
     "output_type": "stream",
     "text": [
      "INFO:tensorflow:Assets written to: ./export/savedmodel/20220228011814/assets\n",
      "INFO:tensorflow:Assets written to: ./export/savedmodel/20220228011814/assets\n"
     ]
    }
   ],
   "source": [
    "OUTPUT_DIR = \"./export/savedmodel\"\n",
    "shutil.rmtree(OUTPUT_DIR, ignore_errors=True)\n",
    "TIMESTAMP = datetime.datetime.now().strftime(\"%Y%m%d%H%M%S\")\n",
    "\n",
    "EXPORT_PATH = os.path.join(OUTPUT_DIR, TIMESTAMP)\n",
    "\n",
    "tf.saved_model.save(model, EXPORT_PATH)  # with default serving function"
   ]
  },
  {
   "cell_type": "code",
   "execution_count": 15,
   "metadata": {},
   "outputs": [
    {
     "name": "stdout",
     "output_type": "stream",
     "text": [
      "2022-02-28 01:18:19.386328: W tensorflow/stream_executor/platform/default/dso_loader.cc:59] Could not load dynamic library 'libcudart.so.10.1'; dlerror: libcudart.so.10.1: cannot open shared object file: No such file or directory; LD_LIBRARY_PATH: /usr/local/cuda/lib64:/usr/local/nccl2/lib:/usr/local/cuda/extras/CUPTI/lib64\n",
      "2022-02-28 01:18:19.386387: I tensorflow/stream_executor/cuda/cudart_stub.cc:29] Ignore above cudart dlerror if you do not have a GPU set up on your machine.\n",
      "The given SavedModel SignatureDef contains the following input(s):\n",
      "  inputs['dropoff_latitude'] tensor_info:\n",
      "      dtype: DT_FLOAT\n",
      "      shape: (-1)\n",
      "      name: serving_default_dropoff_latitude:0\n",
      "  inputs['dropoff_longitude'] tensor_info:\n",
      "      dtype: DT_FLOAT\n",
      "      shape: (-1)\n",
      "      name: serving_default_dropoff_longitude:0\n",
      "  inputs['passenger_count'] tensor_info:\n",
      "      dtype: DT_FLOAT\n",
      "      shape: (-1)\n",
      "      name: serving_default_passenger_count:0\n",
      "  inputs['pickup_latitude'] tensor_info:\n",
      "      dtype: DT_FLOAT\n",
      "      shape: (-1)\n",
      "      name: serving_default_pickup_latitude:0\n",
      "  inputs['pickup_longitude'] tensor_info:\n",
      "      dtype: DT_FLOAT\n",
      "      shape: (-1)\n",
      "      name: serving_default_pickup_longitude:0\n",
      "The given SavedModel SignatureDef contains the following output(s):\n",
      "  outputs['prediction'] tensor_info:\n",
      "      dtype: DT_FLOAT\n",
      "      shape: (-1, 1)\n",
      "      name: StatefulPartitionedCall:0\n",
      "Method name is: tensorflow/serving/predict\n",
      "./export/savedmodel/20220228011814\n",
      "./export/savedmodel/20220228011814/variables\n",
      "./export/savedmodel/20220228011814/variables/variables.data-00000-of-00001\n",
      "./export/savedmodel/20220228011814/variables/variables.index\n",
      "./export/savedmodel/20220228011814/assets\n",
      "./export/savedmodel/20220228011814/saved_model.pb\n"
     ]
    }
   ],
   "source": [
    "!saved_model_cli show \\\n",
    "    --tag_set serve \\\n",
    "    --signature_def serving_default \\\n",
    "    --dir {EXPORT_PATH}\n",
    "\n",
    "!find {EXPORT_PATH}\n",
    "os.environ['EXPORT_PATH'] = EXPORT_PATH"
   ]
  },
  {
   "cell_type": "markdown",
   "metadata": {},
   "source": [
    "## Deploy our model to Vertex AI"
   ]
  },
  {
   "cell_type": "markdown",
   "metadata": {},
   "source": [
    "Finally, we will deploy our trained model to Vertex AI and see how we can make online predicitons. "
   ]
  },
  {
   "cell_type": "code",
   "execution_count": 16,
   "metadata": {},
   "outputs": [
    {
     "name": "stdout",
     "output_type": "stream",
     "text": [
      "MODEL_DISPLAYNAME: taxifare_keras_functional-20220228011814\n"
     ]
    }
   ],
   "source": [
    "PROJECT = !gcloud config list --format 'value(core.project)' 2>/dev/null\n",
    "PROJECT = PROJECT[0]\n",
    "BUCKET = PROJECT\n",
    "REGION = \"us-central1\"\n",
    "MODEL_DISPLAYNAME = f\"taxifare_keras_functional-{TIMESTAMP}\"\n",
    "\n",
    "print(f\"MODEL_DISPLAYNAME: {MODEL_DISPLAYNAME}\")\n",
    "\n",
    "# from https://cloud.google.com/vertex-ai/docs/predictions/pre-built-containers\n",
    "SERVING_CONTAINER_IMAGE_URI = (\n",
    "    \"us-docker.pkg.dev/vertex-ai/prediction/tf2-cpu.2-3:latest\"\n",
    ")\n",
    "\n",
    "os.environ[\"BUCKET\"] = BUCKET\n",
    "os.environ[\"REGION\"] = REGION"
   ]
  },
  {
   "cell_type": "code",
   "execution_count": 17,
   "metadata": {},
   "outputs": [
     {
      "name": "stdout",
      "output_type": "stream",
      "text": [
       "Creating a new GCS bucket.\n",
       "Here are your current buckets:\n",
       "gs://qwiklabs-gcp-00-5830cd91d123/\n"
      ]
     },
     {
      "name": "stderr",
      "output_type": "stream",
      "text": [
       "Creating gs://qwiklabs-gcp-00-5830cd91d123/...\n"
      ]
     }
   ],
   "source": [
    "%%bash\n",
    "# Create GCS bucket if it doesn't exist already...\n",
    "exists=$(gsutil ls -d | grep -w gs://${BUCKET}/)\n",
    "\n",
    "if [ -n \"$exists\" ]; then\n",
    "    echo -e \"Bucket exists, let's not recreate it.\"\n",
    "else\n",
    "    echo \"Creating a new GCS bucket.\"\n",
    "    gsutil mb -l ${REGION} gs://${BUCKET}\n",
    "    echo \"\\nHere are your current buckets:\"\n",
    "    gsutil ls\n",
    "fi"
   ]
  },
  {
   "cell_type": "code",
   "execution_count": 18,
   "metadata": {},
   "outputs": [
    {
     "name": "stdout",
     "output_type": "stream",
     "text": [
      "Copying file://./export/savedmodel/20220228011814/saved_model.pb [Content-Type=application/octet-stream]...\n",
      "Copying file://./export/savedmodel/20220228011814/variables/variables.data-00000-of-00001 [Content-Type=application/octet-stream]...\n",
      "Copying file://./export/savedmodel/20220228011814/variables/variables.index [Content-Type=application/octet-stream]...\n",
      "- [3 files][ 10.4 MiB/ 10.4 MiB]                                                \n",
      "Operation completed over 3 objects/10.4 MiB.                                     \n"
     ]
    }
   ],
   "source": [
    "!gsutil cp -R $EXPORT_PATH gs://$BUCKET/$MODEL_DISPLAYNAME"
   ]
  },
  {
   "cell_type": "code",
   "execution_count": 19,
   "metadata": {},
   "outputs": [
    {
     "name": "stdout",
     "output_type": "stream",
     "text": [
      "INFO:google.cloud.aiplatform.models:Creating Model\n",
      "INFO:google.cloud.aiplatform.models:Create Model backing LRO: projects/333736501253/locations/us-central1/models/770929174884909056/operations/6237807159778738176\n",
      "INFO:google.cloud.aiplatform.models:Model created. Resource name: projects/333736501253/locations/us-central1/models/770929174884909056\n",
      "INFO:google.cloud.aiplatform.models:To use this Model in another session:\n",
      "INFO:google.cloud.aiplatform.models:model = aiplatform.Model('projects/333736501253/locations/us-central1/models/770929174884909056')\n"
     ]
    }
   ],
   "source": [
    "uploaded_model = aiplatform.Model.upload(\n",
    "    display_name=MODEL_DISPLAYNAME,\n",
    "    artifact_uri=f\"gs://{BUCKET}/{MODEL_DISPLAYNAME}\",\n",
    "    serving_container_image_uri=SERVING_CONTAINER_IMAGE_URI,\n",
    ")"
   ]
  },
  {
   "cell_type": "code",
   "execution_count": 20,
   "metadata": {},
   "outputs": [
    {
     "name": "stdout",
     "output_type": "stream",
     "text": [
      "INFO:google.cloud.aiplatform.models:Creating Endpoint\n",
      "INFO:google.cloud.aiplatform.models:Create Endpoint backing LRO: projects/333736501253/locations/us-central1/endpoints/6421332624165306368/operations/2044955906696806400\n",
      "INFO:google.cloud.aiplatform.models:Endpoint created. Resource name: projects/333736501253/locations/us-central1/endpoints/6421332624165306368\n",
      "INFO:google.cloud.aiplatform.models:To use this Endpoint in another session:\n",
      "INFO:google.cloud.aiplatform.models:endpoint = aiplatform.Endpoint('projects/333736501253/locations/us-central1/endpoints/6421332624165306368')\n",
      "INFO:google.cloud.aiplatform.models:Deploying model to Endpoint : projects/333736501253/locations/us-central1/endpoints/6421332624165306368\n",
      "INFO:google.cloud.aiplatform.models:Deploy Endpoint model backing LRO: projects/333736501253/locations/us-central1/endpoints/6421332624165306368/operations/4368813314419982336\n",
      "INFO:google.cloud.aiplatform.models:Endpoint model deployed. Resource name: projects/333736501253/locations/us-central1/endpoints/6421332624165306368\n"
     ]
    }
   ],
   "source": [
    "MACHINE_TYPE = \"n1-standard-2\"\n",
    "\n",
    "endpoint = uploaded_model.deploy(\n",
    "    machine_type=MACHINE_TYPE,\n",
    "    accelerator_type=None,\n",
    "    accelerator_count=None,\n",
    ")"
   ]
  },
  {
   "cell_type": "markdown",
   "metadata": {},
   "source": [
    "<img src='assets/taxi_fare_keras_func_model.png' width='80%'>\n",
    "<sup>(image:Your model in Vertex AI)</sup>"
   ]
  },
  {
   "cell_type": "code",
   "execution_count": 21,
   "metadata": {},
   "outputs": [],
   "source": [
    "instance = {\n",
    "    \"pickup_longitude\": -73.982683,\n",
    "    \"pickup_latitude\": 40.742104,\n",
    "    \"dropoff_longitude\": -73.983766,\n",
    "    \"dropoff_latitude\": 40.755174,\n",
    "    \"passenger_count\": 3.0,\n",
    "}"
   ]
  },
  {
   "cell_type": "code",
   "execution_count": 22,
   "metadata": {},
   "outputs": [
    {
     "data": {
      "text/plain": [
       "Prediction(predictions=[[5.54289103]], deployed_model_id='1921796791771070464', explanations=None)"
      ]
     },
     "execution_count": 22,
     "metadata": {},
     "output_type": "execute_result"
    }
   ],
   "source": [
    "endpoint.predict([instance])"
   ]
  },
  {
   "cell_type": "markdown",
   "metadata": {},
   "source": [
    "# Cleanup\n",
    "\n",
    "When deploying a model to an endpoint for online prediction, the minimum `min-replica-count` is 1, and it is charged per node hour. So let's delete the endpoint to reduce unnecessary charges. Before we can delete the endpoint, we first undeploy all attached models... "
   ]
  },
  {
   "cell_type": "code",
   "execution_count": 23,
   "metadata": {},
   "outputs": [
     {
      "name": "stdout",
      "output_type": "stream",
      "text": [
       "INFO:google.cloud.aiplatform.models:Undeploying Endpoint model: projects/576144902259/locations/us-central1/endpoints/148944243145048064\n",
       "INFO:google.cloud.aiplatform.models:Undeploy Endpoint model backing LRO: projects/576144902259/locations/us-central1/endpoints/148944243145048064/operations/8190187966988025856\n",
       "INFO:google.cloud.aiplatform.models:Endpoint model undeployed. Resource name: projects/576144902259/locations/us-central1/endpoints/148944243145048064\n"
      ]
     },
     {
      "data": {
       "text/plain": [
        "<google.cloud.aiplatform.models.Endpoint object at 0x7f59dc1d2b90> \n",
        "resource name: projects/576144902259/locations/us-central1/endpoints/148944243145048064"
       ]
      },
      "execution_count": 23,
      "metadata": {},
      "output_type": "execute_result"
     }
   ],
   "source": [
    "endpoint.undeploy_all()"
   ]
  },
  {
   "cell_type": "code",
   "execution_count": 24,
   "metadata": {},
   "outputs": [
     {
      "name": "stdout",
      "output_type": "stream",
      "text": [
       "INFO:google.cloud.aiplatform.base:Deleting Endpoint : projects/576144902259/locations/us-central1/endpoints/148944243145048064\n",
       "INFO:google.cloud.aiplatform.base:Delete Endpoint  backing LRO: projects/576144902259/locations/us-central1/operations/696198187043520512\n",
       "INFO:google.cloud.aiplatform.base:Endpoint deleted. . Resource name: projects/576144902259/locations/us-central1/endpoints/148944243145048064\n"
      ]
     }
   ],
   "source": [
    "endpoint.delete()"
   ]
  },
  {
   "cell_type": "markdown",
   "metadata": {},
   "source": [
    "Copyright 2022 Google Inc. Licensed under the Apache License, Version 2.0 (the \"License\"); you may not use this file except in compliance with the License. You may obtain a copy of the License at http://www.apache.org/licenses/LICENSE-2.0 Unless required by applicable law or agreed to in writing, software distributed under the License is distributed on an \"AS IS\" BASIS, WITHOUT WARRANTIES OR CONDITIONS OF ANY KIND, either express or implied. See the License for the specific language governing permissions and limitations under the License"
   ]
  }
 ],
 "metadata": {
  "environment": {
   "kernel": "python3",
   "name": "tf2-gpu.2-6.m89",
   "type": "gcloud",
   "uri": "gcr.io/deeplearning-platform-release/tf2-gpu.2-6:m89"
  },
  "kernelspec": {
   "display_name": "Python 3",
   "language": "python",
   "name": "python3"
  },
  "language_info": {
   "codemirror_mode": {
    "name": "ipython",
    "version": 3
   },
   "file_extension": ".py",
   "mimetype": "text/x-python",
   "name": "python",
   "nbconvert_exporter": "python",
   "pygments_lexer": "ipython3",
   "version": "3.7.12"
  }
 },
 "nbformat": 4,
 "nbformat_minor": 4
}
